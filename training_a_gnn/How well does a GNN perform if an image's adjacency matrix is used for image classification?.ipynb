{
 "cells": [
  {
   "cell_type": "code",
   "execution_count": 1,
   "id": "b799fe99-4555-4738-a397-632395b14af2",
   "metadata": {},
   "outputs": [],
   "source": [
    "import os\n",
    "import csv\n",
    "import torch\n",
    "import random\n",
    "import hashlib\n",
    "import itertools\n",
    "import numpy as np\n",
    "import polars as pl\n",
    "from PIL import Image\n",
    "from tqdm import tqdm\n",
    "import torch.nn as nn\n",
    "import matplotlib.pyplot as plt\n",
    "from collections import Counter\n",
    "import torch.nn.functional as nnF\n",
    "from datetime import date, datetime\n",
    "import torchvision.transforms as transforms\n",
    "import torchvision.transforms.functional as F\n",
    "from torch.utils.data import DataLoader, Dataset\n",
    "\n",
    "from sklearn.feature_extraction.image import img_to_graph\n",
    "from scipy.sparse import coo_matrix\n",
    "import os.path as osp\n",
    "\n",
    "from torch_geometric.nn import GCNConv, TopKPooling, global_mean_pool\n",
    "from torch_geometric.nn import Sequential as GNNSequential\n",
    "from torch_geometric.loader import DataLoader\n",
    "import torch.nn.functional as nnF\n",
    "\n",
    "import torch\n",
    "from torch_geometric.data import Dataset, download_url"
   ]
  },
  {
   "cell_type": "code",
   "execution_count": 2,
   "id": "b8002f8a-119b-4167-8a93-705f9916fe42",
   "metadata": {},
   "outputs": [],
   "source": [
    "random.seed(234213)"
   ]
  },
  {
   "cell_type": "code",
   "execution_count": 3,
   "id": "a5d5c56fdaaa57b",
   "metadata": {
    "ExecuteTime": {
     "end_time": "2024-09-26T01:59:16.479743Z",
     "start_time": "2024-09-26T01:59:15.198366Z"
    },
    "collapsed": false,
    "jupyter": {
     "outputs_hidden": false
    }
   },
   "outputs": [],
   "source": [
    "# collecting training image paths and names into lists\n",
    "training_images_output_path = \"../../replicatingAlexNet/images/training_images_processed/\"\n",
    "\n",
    "training_images_processed_path = [\n",
    "    training_images_output_path + f for f in os.listdir(training_images_output_path)\n",
    "    if f.endswith('.JPEG')\n",
    "]\n",
    "\n",
    "training_images_processed_names = [\n",
    "    f for f in os.listdir(training_images_output_path)\n",
    "    if f.endswith('.JPEG')\n",
    "]\n",
    "\n",
    "# collecting validation image paths and names into lists\n",
    "validation_images_output_path = \"../../replicatingAlexNet/images/validation_images_processed/\"\n",
    "\n",
    "validation_images_processed_path = [\n",
    "    validation_images_output_path + f for f in os.listdir(validation_images_output_path)\n",
    "    if f.endswith('.JPEG')\n",
    "]\n",
    "\n",
    "validation_images_processed_names = [\n",
    "    f for f in os.listdir(validation_images_output_path)\n",
    "    if f.endswith('.JPEG')\n",
    "]\n",
    "\n",
    "# sorting names in ascending order; this is crucial to ensure that the\n",
    "# proper validation labels are attached to the file names\n",
    "validation_images_processed_names = sorted(validation_images_processed_names)\n",
    "\n",
    "labels_w_information = pl.read_csv(\"../../replicatingAlexNet/images/labels_w_information.csv\")\n",
    "training_labels_for_CEloss = labels_w_information[\"made_up_label\"].to_list()"
   ]
  },
  {
   "cell_type": "code",
   "execution_count": 4,
   "id": "9af5c54c957c9a22",
   "metadata": {
    "ExecuteTime": {
     "end_time": "2024-09-26T01:59:18.189734Z",
     "start_time": "2024-09-26T01:59:17.055593Z"
    },
    "collapsed": false,
    "jupyter": {
     "outputs_hidden": false
    }
   },
   "outputs": [
    {
     "name": "stdout",
     "output_type": "stream",
     "text": [
      "(196608, 196608)\n"
     ]
    }
   ],
   "source": [
    "print(\n",
    "    img_to_graph(\n",
    "        F.pil_to_tensor(Image.open(training_images_processed_path[0])), \n",
    "        return_as=np.ndarray\n",
    "    ).shape\n",
    ")"
   ]
  },
  {
   "cell_type": "code",
   "execution_count": 4,
   "id": "4707d276c4e52ee8",
   "metadata": {
    "ExecuteTime": {
     "end_time": "2024-09-26T01:59:18.414480Z",
     "start_time": "2024-09-26T01:59:18.240938Z"
    },
    "collapsed": false,
    "jupyter": {
     "outputs_hidden": false
    }
   },
   "outputs": [],
   "source": [
    "# USING SOME PREVIOUSLY WRITTEN CODE\n",
    "\n",
    "# below, I am sampling only labels with greater than 1200 examples and then randomly selecting 25 labels\n",
    "labels_thousand_plus = [\n",
    "    label for label, count in Counter(training_labels_for_CEloss).items() \n",
    "    if count >= 1200\n",
    "]\n",
    "labels_thousand_plus_subset = random.sample(labels_thousand_plus, k=25)\n",
    "\n",
    "# mapping the subset to numbers between 0-24\n",
    "# this is needed for the CE loss function\n",
    "labels_subset_mapped = {\n",
    "    original_label: new_label for original_label, new_label\n",
    "    in zip(labels_thousand_plus_subset, range(0, len(labels_thousand_plus_subset)))\n",
    "}\n",
    "\n",
    "# a dictionary of indices as keys with the 25 randomly selected labels as values\n",
    "label_w_index = {\n",
    "    index: label for index, label \n",
    "    in zip(range(0, len(training_labels_for_CEloss)), training_labels_for_CEloss)\n",
    "    if label in labels_thousand_plus_subset\n",
    "}\n",
    "\n",
    "# randomly selecting k of those indices which are then used to \n",
    "# select the subset of inputs and labels in training_subset\n",
    "random_indices = random.sample(list(label_w_index.keys()), k=int(256 * 128))"
   ]
  },
  {
   "cell_type": "code",
   "execution_count": 5,
   "id": "999b0be67c40e51e",
   "metadata": {
    "collapsed": false,
    "jupyter": {
     "outputs_hidden": false
    }
   },
   "outputs": [],
   "source": [
    "# loading the validation IDs provided in the Image Net devkit\n",
    "validation_ILSVRC2010_IDs = []\n",
    "\n",
    "with open(\"../../replicatingAlexNet/devkit-1.0/data/ILSVRC2010_validation_ground_truth.txt\") as file:\n",
    "    while line := file.readline():\n",
    "        validation_ILSVRC2010_IDs.append(int(line.rstrip()))"
   ]
  },
  {
   "cell_type": "code",
   "execution_count": 6,
   "id": "39a27f49-dd1c-439b-a4f0-69740fb5bfcc",
   "metadata": {},
   "outputs": [],
   "source": [
    "# converting the IDs to labels for the validation data\n",
    "validation_true_labels = [i - 1 for i in validation_ILSVRC2010_IDs]\n",
    "\n",
    "validation_subset_25_labels = {\n",
    "    image_name: label for image_name, label \n",
    "    in zip(validation_images_processed_names, validation_true_labels) \n",
    "    if label in labels_thousand_plus_subset\n",
    "}\n",
    "\n",
    "# sampling based on the random indices but storing \n",
    "# the 0-24 values using the labels_subset_mapped dictionary\n",
    "training_labels_subset_sampled_converted = [\n",
    "    labels_subset_mapped.get(training_labels_for_CEloss[i]) for i in random_indices\n",
    "]\n",
    "\n",
    "# sampling image names based on the random indices\n",
    "training_image_names_subset_sampled = [\n",
    "    labels_w_information[\"image_name\"][i] for i in random_indices\n",
    "]\n",
    "\n",
    "validation_labels_subset_sampled_converted = [\n",
    "    labels_subset_mapped.get(i) for i in list(validation_subset_25_labels.values())\n",
    "]"
   ]
  },
  {
   "cell_type": "code",
   "execution_count": 9,
   "id": "ee04e454-167c-412c-bcad-8b759be8f483",
   "metadata": {},
   "outputs": [],
   "source": [
    "test_list = [\n",
    "    img_to_graph(\n",
    "        F.pil_to_tensor(Image.open(f\"{training_images_output_path}/{i}\")), \n",
    "        return_as=np.ndarray\n",
    "    ) for i in training_image_names_subset_sampled[:1]\n",
    "]"
   ]
  },
  {
   "cell_type": "code",
   "execution_count": 10,
   "id": "3a1bc40b-d508-4f17-a150-e4aeb07c936e",
   "metadata": {},
   "outputs": [
    {
     "data": {
      "text/plain": [
       "array([[ 67,   1,   0, ...,   0,   0,   0],\n",
       "       [  1,  66,   1, ...,   0,   0,   0],\n",
       "       [  0,   1,  65, ...,   0,   0,   0],\n",
       "       ...,\n",
       "       [  0,   0,   0, ..., 151, 232,   0],\n",
       "       [  0,   0,   0, ..., 232, 175, 248],\n",
       "       [  0,   0,   0, ...,   0, 248, 183]], dtype=uint8)"
      ]
     },
     "execution_count": 10,
     "metadata": {},
     "output_type": "execute_result"
    }
   ],
   "source": [
    "test_list[0]"
   ]
  },
  {
   "cell_type": "code",
   "execution_count": 11,
   "id": "5bd30575-8b2d-421b-bf82-09497c5a8b87",
   "metadata": {},
   "outputs": [
    {
     "name": "stdout",
     "output_type": "stream",
     "text": [
      "The estimated total size of 0.00003th of the augmented dataset is 36.00 gigabytes.\n",
      "The estimated total size of the augmented training set is 1152.00 terabytes.\n"
     ]
    }
   ],
   "source": [
    "size_in_bytes = torch.vstack((torch.from_numpy(test_list[0]),)).element_size() \\\n",
    "                * torch.vstack((torch.from_numpy(test_list[0]),)).nelement()\n",
    "size_in_gbs = size_in_bytes / (1024 ** 3)\n",
    "\n",
    "print(\n",
    "    f\"The estimated total size of {(1 / len(training_image_names_subset_sampled)):.5f}th \"\n",
    "    f\"of the augmented dataset is {(1 * size_in_gbs):.2f} gigabytes.\"\n",
    ")\n",
    "print(\n",
    "    f\"The estimated total size of the augmented training set is \"\n",
    "    f\"{(len(training_image_names_subset_sampled) * size_in_gbs / 1024):.2f} terabytes.\"\n",
    ")"
   ]
  },
  {
   "cell_type": "markdown",
   "id": "aad8f042-43e9-4161-a6dd-e614c06a4d32",
   "metadata": {},
   "source": [
    "oh no"
   ]
  },
  {
   "cell_type": "code",
   "execution_count": 12,
   "id": "c1c98d33-2270-45fd-a764-a6e46864311b",
   "metadata": {},
   "outputs": [
    {
     "data": {
      "text/plain": [
       "(196608, 196608)"
      ]
     },
     "execution_count": 12,
     "metadata": {},
     "output_type": "execute_result"
    }
   ],
   "source": [
    "test_list[0].shape"
   ]
  },
  {
   "cell_type": "code",
   "execution_count": 13,
   "id": "81e0eaaf-5060-42f2-8df2-2700dfba2148",
   "metadata": {},
   "outputs": [],
   "source": [
    "im1 = Image.open(str(training_images_output_path + training_image_names_subset_sampled[0]))"
   ]
  },
  {
   "cell_type": "code",
   "execution_count": 14,
   "id": "de21f734-3dc0-44b0-ac6a-14aafe89e7b5",
   "metadata": {},
   "outputs": [
    {
     "data": {
      "image/jpeg": "[encoded data removed]",
      "image/png": "[encoded data removed]",
      "text/plain": [
       "<PIL.Image.Image image mode=RGB size=64x64>"
      ]
     },
     "execution_count": 14,
     "metadata": {},
     "output_type": "execute_result"
    }
   ],
   "source": [
    "im1 = im1.resize((64, 64))\n",
    "im1"
   ]
  },
  {
   "cell_type": "code",
   "execution_count": 15,
   "id": "fb49f702-a360-434e-adeb-b91b788242ad",
   "metadata": {},
   "outputs": [
    {
     "data": {
      "text/plain": [
       "(64, 64)"
      ]
     },
     "execution_count": 15,
     "metadata": {},
     "output_type": "execute_result"
    }
   ],
   "source": [
    "im1.size"
   ]
  },
  {
   "cell_type": "code",
   "execution_count": 16,
   "id": "64e40f03-0131-44a0-8483-dbb13b1053b9",
   "metadata": {},
   "outputs": [
    {
     "data": {
      "text/plain": [
       "(12288, 12288)"
      ]
     },
     "execution_count": 16,
     "metadata": {},
     "output_type": "execute_result"
    }
   ],
   "source": [
    "img_to_graph(\n",
    "    F.pil_to_tensor(im1), \n",
    "    return_as=np.ndarray\n",
    ").shape"
   ]
  },
  {
   "cell_type": "code",
   "execution_count": 17,
   "id": "10299d56-9c0f-46e6-afc8-7dca4e87cfac",
   "metadata": {},
   "outputs": [
    {
     "name": "stdout",
     "output_type": "stream",
     "text": [
      "The estimated total size of 0.00003th of the augmented dataset is 0.14 gigabytes.\n",
      "The estimated total size of the augmented training set is 4.50 terabytes.\n"
     ]
    }
   ],
   "source": [
    "size_in_bytes = torch.vstack((torch.from_numpy(img_to_graph(F.pil_to_tensor(im1), return_as=np.ndarray)),)).element_size() \\\n",
    "                * torch.vstack((torch.from_numpy(img_to_graph(F.pil_to_tensor(im1), return_as=np.ndarray)),)).nelement()\n",
    "size_in_gbs = size_in_bytes / (1024 ** 3)\n",
    "\n",
    "print(\n",
    "    f\"The estimated total size of {(1 / len(training_image_names_subset_sampled)):.5f}th \"\n",
    "    f\"of the augmented dataset is {(1 * size_in_gbs):.2f} gigabytes.\"\n",
    ")\n",
    "print(\n",
    "    f\"The estimated total size of the augmented training set is \"\n",
    "    f\"{(len(training_image_names_subset_sampled) * size_in_gbs / 1024):.2f} terabytes.\"\n",
    ")"
   ]
  },
  {
   "cell_type": "markdown",
   "id": "3e20b7e9-f830-48d2-a4b5-8079461ba5ac",
   "metadata": {},
   "source": [
    "Ok, much better. **Now, the question is: how bad is the loss of information from such a drastic size reduction?**\n",
    "\n",
    "It isn't ideal that in addition to the input format for the graph model (just the adjacency matrix), there is another variable of uncertainty (a vastly reduced matrix size compared to one from a 256 x 256 image).\n",
    "\n",
    "It may be better to _sparsify_ the adjacency matrix of the full image to reduce its size, but for now, I will trudge along."
   ]
  },
  {
   "cell_type": "code",
   "execution_count": 7,
   "id": "f3fb82e9-eb07-4ebc-8f8f-7ea1580fbcc5",
   "metadata": {},
   "outputs": [],
   "source": [
    "def process_images_to_graphs(\n",
    "    file_name\n",
    "):\n",
    "    image = Image.open(file_name)\n",
    "    image = image.resize((64, 64))\n",
    "    graph = torch.from_numpy(img_to_graph(F.pil_to_tensor(im1), return_as=np.ndarray)).to(\"mps\")\n",
    "    return graph"
   ]
  },
  {
   "cell_type": "code",
   "execution_count": 32,
   "id": "68130504-e690-4538-b7fe-c2842f1f61a1",
   "metadata": {},
   "outputs": [],
   "source": [
    "#[process_images_to_graphs(training_images_output_path + i) for i in training_image_names_subset_sampled[:100]]"
   ]
  },
  {
   "cell_type": "code",
   "execution_count": 8,
   "id": "305a3ac8-de4c-40dd-9246-cd10b097cc1c",
   "metadata": {},
   "outputs": [
    {
     "data": {
      "text/plain": [
       "17.92"
      ]
     },
     "execution_count": 8,
     "metadata": {},
     "output_type": "execute_result"
    }
   ],
   "source": [
    "128 * 0.14"
   ]
  },
  {
   "cell_type": "code",
   "execution_count": 11,
   "id": "3d79b96c-b2c2-4b22-ae12-977e53cb237f",
   "metadata": {},
   "outputs": [],
   "source": [
    "class ImageGraphDataset(Dataset):\n",
    "    def __init__(\n",
    "        self, \n",
    "        root, \n",
    "        image_names, \n",
    "        labels, \n",
    "        transform=None, \n",
    "        pre_transform=None, \n",
    "        pre_filter=None\n",
    "    ):\n",
    "        self.image_names = image_names\n",
    "        self.labels = labels\n",
    "        self.root = root\n",
    "        super().__init__(root, transform, pre_transform, pre_filter)\n",
    "\n",
    "    @property\n",
    "    def raw_file_names(self):\n",
    "        return self.image_names\n",
    "\n",
    "    @property\n",
    "    def processed_file_names(self):\n",
    "        return [f'data_{i}.pt' for i in range(len(self.image_names))]\n",
    "\n",
    "    def download(self):\n",
    "        pass\n",
    "\n",
    "    def process(self):\n",
    "        for i, (image_name, label) in enumerate(zip(self.image_names, self.labels)):\n",
    "            raw_path = osp.join(self.root, image_name)\n",
    "            x, edge_index, edge_attr = self.process_image_to_graph(raw_path)\n",
    "            \n",
    "            data = Data(\n",
    "                x=x,\n",
    "                edge_index=edge_index,\n",
    "                edge_attr=edge_attr,\n",
    "                y=torch.tensor([label], dtype=torch.long)\n",
    "            )\n",
    "\n",
    "            if self.pre_filter is not None and not self.pre_filter(data):\n",
    "                continue\n",
    "\n",
    "            if self.pre_transform is not None:\n",
    "                data = self.pre_transform(data)\n",
    "\n",
    "            torch.save(data, osp.join(self.processed_dir, f'data_{i}.pt'))\n",
    "\n",
    "    def process_image_to_graph(self, file_name):\n",
    "        image = Image.open(file_name)\n",
    "        image = image.resize((64, 64))\n",
    "        image_array = np.array(image)\n",
    "        \n",
    "        # creating graph from image\n",
    "        graph = img_to_graph(image_array)\n",
    "        \n",
    "        # converting to COO format\n",
    "        coo = coo_matrix(graph)\n",
    "        \n",
    "        # creating node features, edge indices, and weights\n",
    "        x = torch.from_numpy(image_array.reshape(-1, 1)).float()\n",
    "        edge_index = torch.from_numpy(np.vstack((coo.row, coo.col))).long()\n",
    "        edge_attr = torch.from_numpy(coo.data).float().unsqueeze(1)\n",
    "        \n",
    "        return x, edge_index, edge_attr\n",
    "\n",
    "    def len(self):\n",
    "        return len(self.processed_file_names)\n",
    "\n",
    "    def get(self, idx):\n",
    "        data = torch.load(osp.join(self.processed_dir, f'data_{idx}.pt'), weights_only=False)\n",
    "        return data"
   ]
  },
  {
   "cell_type": "code",
   "execution_count": 12,
   "id": "9a308ef5-1054-42b9-ae72-6a75d985d443",
   "metadata": {},
   "outputs": [],
   "source": [
    "train_dataset = ImageGraphDataset(\n",
    "    root=training_images_output_path,\n",
    "    image_names=training_image_names_subset_sampled,\n",
    "    labels=training_labels_subset_sampled_converted\n",
    ")\n",
    "\n",
    "val_dataset = ImageGraphDataset(\n",
    "    root=validation_images_output_path,\n",
    "    image_names=list(validation_subset_25_labels.keys()),\n",
    "    labels=validation_labels_subset_sampled_converted\n",
    ")"
   ]
  },
  {
   "cell_type": "code",
   "execution_count": null,
   "id": "bdcd48e0-5138-4c4b-a5e3-2afd8b3b979d",
   "metadata": {},
   "outputs": [],
   "source": []
  },
  {
   "cell_type": "code",
   "execution_count": 16,
   "id": "7e65bda9-403d-407f-90a8-c0413878329d",
   "metadata": {},
   "outputs": [],
   "source": [
    "# GNN designed by Claude based on my AlexNet implementation\n",
    "\n",
    "class AlexNetInspiredGNN(torch.nn.Module):\n",
    "    def __init__(self, num_node_features, num_edge_features, num_classes):\n",
    "        super(AlexNetInspiredGNN, self).__init__()\n",
    "        \n",
    "        self.conv1 = GCNConv(num_node_features, 96)\n",
    "        self.pool1 = TopKPooling(96, ratio=0.5)\n",
    "        \n",
    "        self.conv2 = GCNConv(96, 256)\n",
    "        self.pool2 = TopKPooling(256, ratio=0.5)\n",
    "        \n",
    "        self.conv3 = GCNConv(256, 384)\n",
    "        \n",
    "        self.conv4 = GCNConv(384, 384)\n",
    "        \n",
    "        self.conv5 = GCNConv(384, 256)\n",
    "        self.pool5 = TopKPooling(256, ratio=0.5)\n",
    "        \n",
    "        self.fc1 = torch.nn.Linear(256, 4096)\n",
    "        self.fc2 = torch.nn.Linear(4096, 4096)\n",
    "        self.fc3 = torch.nn.Linear(4096, num_classes)\n",
    "\n",
    "    def forward(self, *args):\n",
    "        if len(args) == 1 and hasattr(args[0], 'x'):\n",
    "            data = args[0]\n",
    "            x, edge_index, edge_attr, batch = data.x, data.edge_index, data.edge_attr, data.batch\n",
    "        elif len(args) == 4:\n",
    "            x, edge_index, edge_attr, batch = args\n",
    "        else:\n",
    "            raise ValueError(\"Invalid input. Expecting either a single Data object or x, edge_index, edge_attr, batch\")\n",
    "        \n",
    "        # Conv1 + Pool1\n",
    "        x = nnF.relu(self.conv1(x, edge_index, edge_attr))\n",
    "        x, edge_index, edge_attr, batch, _, _ = self.pool1(x, edge_index, edge_attr, batch)\n",
    "        \n",
    "        # Conv2 + Pool2\n",
    "        x = nnF.relu(self.conv2(x, edge_index, edge_attr))\n",
    "        x, edge_index, edge_attr, batch, _, _ = self.pool2(x, edge_index, edge_attr, batch)\n",
    "        \n",
    "        # Conv3\n",
    "        x = nnF.relu(self.conv3(x, edge_index, edge_attr))\n",
    "        \n",
    "        # Conv4\n",
    "        x = nnF.relu(self.conv4(x, edge_index, edge_attr))\n",
    "        \n",
    "        # Conv5 + Pool5\n",
    "        x = nnF.relu(self.conv5(x, edge_index, edge_attr))\n",
    "        x, edge_index, edge_attr, batch, _, _ = self.pool5(x, edge_index, edge_attr, batch)\n",
    "        \n",
    "        # Global pooling\n",
    "        x = global_mean_pool(x, batch)\n",
    "        \n",
    "        # Fully connected layers\n",
    "        x = nnF.relu(self.fc1(x))\n",
    "        x = nnF.dropout(x, p=0.5, training=self.training)\n",
    "        x = nnF.relu(self.fc2(x))\n",
    "        x = nnF.dropout(x, p=0.5, training=self.training)\n",
    "        x = self.fc3(x)\n",
    "        \n",
    "        return nnF.log_softmax(x, dim=1)"
   ]
  },
  {
   "cell_type": "code",
   "execution_count": null,
   "id": "1aa4830c-fad4-408b-aba4-c25053bfb3eb",
   "metadata": {},
   "outputs": [],
   "source": []
  },
  {
   "cell_type": "code",
   "execution_count": null,
   "id": "d007bef9-d861-48bf-9eb7-643d37404c16",
   "metadata": {},
   "outputs": [],
   "source": [
    "def write_to_csv(file_name, epoch, train_loss, train_acc, val_loss, val_acc, lr):\n",
    "    with open(file_name, 'a', newline='') as file:\n",
    "        writer = csv.writer(file)\n",
    "        writer.writerow([epoch, train_loss, train_acc, val_loss, val_acc, lr])\n",
    "\n",
    "def train_and_validate(model, train_dataset, val_dataset, num_epochs=100, batch_size=32, lr=0.01, log_file_name='gnn_training_log.csv'):\n",
    "    device = torch.device('cuda' if torch.cuda.is_available() else 'cpu')\n",
    "    model = model.to(device)\n",
    "    \n",
    "    train_loader = DataLoader(train_dataset, batch_size=batch_size, shuffle=True)\n",
    "    val_loader = DataLoader(val_dataset, batch_size=batch_size)\n",
    "    \n",
    "    optimizer = torch.optim.Adam(model.parameters(), lr=lr)\n",
    "    scheduler = torch.optim.lr_scheduler.ReduceLROnPlateau(optimizer, mode='max', factor=0.1, patience=10, verbose=True)\n",
    "    criterion = torch.nn.NLLLoss()\n",
    "\n",
    "    # create and write header to CSV file\n",
    "    with open(log_file_name, 'w', newline='') as file:\n",
    "        writer = csv.writer(file)\n",
    "        writer.writerow(['Epoch', 'Train Loss', 'Train Accuracy', 'Val Loss', 'Val Accuracy', 'Learning Rate'])\n",
    "\n",
    "    for epoch in range(num_epochs):\n",
    "        # Training block\n",
    "        model.train()\n",
    "        running_loss = 0\n",
    "        correct_train = 0\n",
    "        total_train = 0\n",
    "\n",
    "        for data in train_loader:\n",
    "            data = data.to(device)\n",
    "            optimizer.zero_grad()\n",
    "            out = model(data.x, data.edge_index, data.edge_attr, data.batch)\n",
    "            loss = criterion(out, data.y)\n",
    "            loss.backward()\n",
    "            optimizer.step()\n",
    "\n",
    "            running_loss += loss.item() * data.num_graphs\n",
    "            _, predicted = torch.max(out, 1)\n",
    "            total_train += data.y.size(0)\n",
    "            correct_train += predicted.eq(data.y).sum().item()\n",
    "\n",
    "        # computing training metrics\n",
    "        epoch_loss = running_loss / len(train_loader.dataset)\n",
    "        epoch_acc = correct_train / total_train\n",
    "\n",
    "        # validation block\n",
    "        model.eval()\n",
    "        correct_val = 0\n",
    "        total_val = 0\n",
    "        val_loss_count = 0\n",
    "\n",
    "        with torch.no_grad():\n",
    "            for data in val_loader:\n",
    "                data = data.to(device)\n",
    "                val_out = model(data.x, data.edge_index, data.edge_attr, data.batch)\n",
    "                val_loss = criterion(val_out, data.y)\n",
    "                val_loss_count += val_loss.item() * data.num_graphs\n",
    "\n",
    "                _, val_predicted = torch.max(val_out, 1)\n",
    "                total_val += data.y.size(0)\n",
    "                correct_val += val_predicted.eq(data.y).sum().item()\n",
    "\n",
    "        # computing validation metrics\n",
    "        val_epoch_loss = val_loss_count / len(val_loader.dataset)\n",
    "        val_epoch_acc = correct_val / total_val\n",
    "\n",
    "        # learning rate scheduler\n",
    "        scheduler.step(val_epoch_acc)\n",
    "        current_lr = scheduler.get_last_lr()[0]\n",
    "\n",
    "        print(\n",
    "            f\"{str(epoch + 1).zfill(2)}/{num_epochs}, \"\n",
    "            f\"Train Loss: {epoch_loss:.4f}, Train Accuracy: {epoch_acc:.4f}, \"\n",
    "            f\"Val Loss: {val_epoch_loss:.4f}, Val Accuracy: {val_epoch_acc:.4f}, \"\n",
    "            f\"Learning Rate: {current_lr}\"\n",
    "        )\n",
    "\n",
    "        write_to_csv(log_file_name, epoch + 1, epoch_loss, epoch_acc, val_epoch_loss, val_epoch_acc, current_lr)\n",
    "\n",
    "    print(f\"Trial training done! Loss and accuracy values were saved to {log_file_name}\")\n",
    "\n",
    "num_node_features = 1 \n",
    "num_edge_features = 1 \n",
    "num_classes = 25  \n",
    "\n",
    "model = AlexNetInspiredGNN(num_node_features, num_edge_features, num_classes)\n",
    "train_and_validate(model, train_dataset, val_dataset, num_epochs=100, batch_size=32, lr=0.01)"
   ]
  },
  {
   "cell_type": "code",
   "execution_count": null,
   "id": "8235369c-3704-411a-84f4-6ebea39efa8e",
   "metadata": {},
   "outputs": [],
   "source": []
  }
 ],
 "metadata": {
  "kernelspec": {
   "display_name": "Python 3 (ipykernel)",
   "language": "python",
   "name": "python3"
  },
  "language_info": {
   "codemirror_mode": {
    "name": "ipython",
    "version": 3
   },
   "file_extension": ".py",
   "mimetype": "text/x-python",
   "name": "python",
   "nbconvert_exporter": "python",
   "pygments_lexer": "ipython3",
   "version": "3.11.4"
  }
 },
 "nbformat": 4,
 "nbformat_minor": 5
}
