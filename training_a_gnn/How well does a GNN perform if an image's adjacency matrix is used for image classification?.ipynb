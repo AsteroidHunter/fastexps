{
 "cells": [
  {
   "cell_type": "code",
   "execution_count": 4,
   "id": "b799fe99-4555-4738-a397-632395b14af2",
   "metadata": {},
   "outputs": [],
   "source": [
    "import os\n",
    "import csv\n",
    "import torch\n",
    "import random\n",
    "import hashlib\n",
    "import itertools\n",
    "import numpy as np\n",
    "import polars as pl\n",
    "from PIL import Image\n",
    "from tqdm import tqdm\n",
    "import torch.nn as nn\n",
    "import matplotlib.pyplot as plt\n",
    "from collections import Counter\n",
    "import torch.nn.functional as nnF\n",
    "from datetime import date, datetime\n",
    "import torchvision.transforms as transforms\n",
    "import torchvision.transforms.functional as F\n",
    "from torch.utils.data import DataLoader, Dataset\n",
    "\n",
    "from sklearn.feature_extraction.image import img_to_graph"
   ]
  },
  {
   "cell_type": "code",
   "execution_count": 5,
   "id": "b8002f8a-119b-4167-8a93-705f9916fe42",
   "metadata": {},
   "outputs": [],
   "source": [
    "random.seed(234213)"
   ]
  },
  {
   "cell_type": "code",
   "execution_count": 6,
   "id": "a5d5c56fdaaa57b",
   "metadata": {
    "ExecuteTime": {
     "end_time": "2024-09-26T01:59:16.479743Z",
     "start_time": "2024-09-26T01:59:15.198366Z"
    },
    "collapsed": false,
    "jupyter": {
     "outputs_hidden": false
    }
   },
   "outputs": [],
   "source": [
    "# collecting training image paths and names into lists\n",
    "training_images_output_path = \"../../replicatingAlexNet/images/training_images_processed/\"\n",
    "\n",
    "training_images_processed_path = [\n",
    "    training_images_output_path + f for f in os.listdir(training_images_output_path)\n",
    "    if f.endswith('.JPEG')\n",
    "]\n",
    "\n",
    "training_images_processed_names = [\n",
    "    f for f in os.listdir(training_images_output_path)\n",
    "    if f.endswith('.JPEG')\n",
    "]\n",
    "\n",
    "# collecting validation image paths and names into lists\n",
    "validation_images_output_path = \"../../replicatingAlexNet/images/validation_images_processed/\"\n",
    "\n",
    "validation_images_processed_path = [\n",
    "    validation_images_output_path + f for f in os.listdir(validation_images_output_path)\n",
    "    if f.endswith('.JPEG')\n",
    "]\n",
    "\n",
    "validation_images_processed_names = [\n",
    "    f for f in os.listdir(validation_images_output_path)\n",
    "    if f.endswith('.JPEG')\n",
    "]\n",
    "\n",
    "# sorting names in ascending order; this is crucial to ensure that the\n",
    "# proper validation labels are attached to the file names\n",
    "validation_images_processed_names = sorted(validation_images_processed_names)\n",
    "\n",
    "labels_w_information = pl.read_csv(\"../../replicatingAlexNet/images/labels_w_information.csv\")\n",
    "training_labels_for_CEloss = labels_w_information[\"made_up_label\"].to_list()"
   ]
  },
  {
   "cell_type": "code",
   "execution_count": 7,
   "id": "9af5c54c957c9a22",
   "metadata": {
    "ExecuteTime": {
     "end_time": "2024-09-26T01:59:18.189734Z",
     "start_time": "2024-09-26T01:59:17.055593Z"
    },
    "collapsed": false,
    "jupyter": {
     "outputs_hidden": false
    }
   },
   "outputs": [
    {
     "name": "stdout",
     "output_type": "stream",
     "text": [
      "[[17  0  0 ...  0  0  0]\n",
      " [ 0 17  3 ...  0  0  0]\n",
      " [ 0  3 14 ...  0  0  0]\n",
      " ...\n",
      " [ 0  0  0 ... 11  0  0]\n",
      " [ 0  0  0 ...  0 11  2]\n",
      " [ 0  0  0 ...  0  2  9]]\n"
     ]
    }
   ],
   "source": [
    "print(\n",
    "    img_to_graph(\n",
    "        F.pil_to_tensor(Image.open(training_images_processed_path[0])), \n",
    "        return_as=np.ndarray\n",
    "    )\n",
    ")"
   ]
  },
  {
   "cell_type": "code",
   "execution_count": 8,
   "id": "4707d276c4e52ee8",
   "metadata": {
    "ExecuteTime": {
     "end_time": "2024-09-26T01:59:18.414480Z",
     "start_time": "2024-09-26T01:59:18.240938Z"
    },
    "collapsed": false,
    "jupyter": {
     "outputs_hidden": false
    }
   },
   "outputs": [],
   "source": [
    "# USING SOME PREVIOUSLY WRITTEN CODE\n",
    "\n",
    "# below, I am sampling only labels with greater than 1200 examples and then randomly selecting 25 labels\n",
    "labels_thousand_plus = [\n",
    "    label for label, count in Counter(training_labels_for_CEloss).items() \n",
    "    if count >= 1200\n",
    "]\n",
    "labels_thousand_plus_subset = random.sample(labels_thousand_plus, k=25)\n",
    "\n",
    "# mapping the subset to numbers between 0-24\n",
    "# this is needed for the CE loss function\n",
    "labels_subset_mapped = {\n",
    "    original_label: new_label for original_label, new_label\n",
    "    in zip(labels_thousand_plus_subset, range(0, len(labels_thousand_plus_subset)))\n",
    "}\n",
    "\n",
    "# a dictionary of indices as keys with the 25 randomly selected labels as values\n",
    "label_w_index = {\n",
    "    index: label for index, label \n",
    "    in zip(range(0, len(training_labels_for_CEloss)), training_labels_for_CEloss)\n",
    "    if label in labels_thousand_plus_subset\n",
    "}\n",
    "\n",
    "# randomly selecting k of those indices which are then used to \n",
    "# select the subset of inputs and labels in training_subset\n",
    "random_indices = random.sample(list(label_w_index.keys()), k=int(256 * 128))"
   ]
  },
  {
   "cell_type": "code",
   "execution_count": 11,
   "id": "999b0be67c40e51e",
   "metadata": {
    "collapsed": false,
    "jupyter": {
     "outputs_hidden": false
    }
   },
   "outputs": [],
   "source": [
    "# loading the validation IDs provided in the Image Net devkit\n",
    "validation_ILSVRC2010_IDs = []\n",
    "\n",
    "with open(\"../../replicatingAlexNet/devkit-1.0/data/ILSVRC2010_validation_ground_truth.txt\") as file:\n",
    "    while line := file.readline():\n",
    "        validation_ILSVRC2010_IDs.append(int(line.rstrip()))"
   ]
  },
  {
   "cell_type": "code",
   "execution_count": 12,
   "id": "39a27f49-dd1c-439b-a4f0-69740fb5bfcc",
   "metadata": {},
   "outputs": [],
   "source": [
    "# converting the IDs to labels for the validation data\n",
    "validation_true_labels = [i - 1 for i in validation_ILSVRC2010_IDs]\n",
    "\n",
    "validation_subset_25_labels = {\n",
    "    image_name: label for image_name, label \n",
    "    in zip(validation_images_processed_names, validation_true_labels) \n",
    "    if label in labels_thousand_plus_subset\n",
    "}"
   ]
  },
  {
   "cell_type": "code",
   "execution_count": null,
   "id": "ff1c0def-75bd-4e12-bf3c-5ac674f8735a",
   "metadata": {},
   "outputs": [],
   "source": []
  }
 ],
 "metadata": {
  "kernelspec": {
   "display_name": "Python 3 (ipykernel)",
   "language": "python",
   "name": "python3"
  },
  "language_info": {
   "codemirror_mode": {
    "name": "ipython",
    "version": 3
   },
   "file_extension": ".py",
   "mimetype": "text/x-python",
   "name": "python",
   "nbconvert_exporter": "python",
   "pygments_lexer": "ipython3",
   "version": "3.11.4"
  }
 },
 "nbformat": 4,
 "nbformat_minor": 5
}
