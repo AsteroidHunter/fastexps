{
 "cells": [
  {
   "cell_type": "code",
   "execution_count": 1,
   "outputs": [],
   "source": [
    "import os\n",
    "import json\n",
    "import datetime\n",
    "import torch\n",
    "import pandas as pd\n",
    "from datasets import Dataset\n",
    "from transformers import AutoTokenizer, AutoModelForCausalLM, pipeline"
   ],
   "metadata": {
    "collapsed": false,
    "ExecuteTime": {
     "end_time": "2024-09-23T21:58:23.972933Z",
     "start_time": "2024-09-23T21:58:22.664603Z"
    }
   },
   "id": "22e159e469bc58fd"
  },
  {
   "cell_type": "code",
   "execution_count": 2,
   "outputs": [],
   "source": [
    "train_file_names = []\n",
    "\n",
    "for root, dirnames, filenames in os.walk(\"./ARC-AGI-master/data/training\"):\n",
    "    for filename in filenames:\n",
    "        if filename.endswith('.json'):\n",
    "            train_file_names.append(filename)"
   ],
   "metadata": {
    "collapsed": false,
    "ExecuteTime": {
     "end_time": "2024-09-23T21:58:23.973307Z",
     "start_time": "2024-09-23T21:58:23.964516Z"
    }
   },
   "id": "2979514aabe243e8"
  },
  {
   "cell_type": "code",
   "execution_count": 21,
   "outputs": [],
   "source": [
    "bunch_of_series = []\n",
    "i = 0\n",
    "\n",
    "for name in train_file_names:\n",
    "    with (open(f\"./ARC-AGI-master/data/training/{name}\") as temp_file):\n",
    "        some_file = json.load(temp_file)\n",
    "        \n",
    "        try:\n",
    "            prob_ex_3_placement_input = [[str(i[j]) for i in \n",
    "                                     some_file[\"train\"][2][\"input\"]] for j in range\n",
    "                                     (len(some_file[\"train\"][2][\"input\"][0]))]\n",
    "            prob_ex_3_placement_output = [[str(i[j]) for i in \n",
    "                                     some_file[\"train\"][2][\"output\"]] for j in range\n",
    "                                     (len(some_file[\"train\"][2][\"output\"][0]))]\n",
    "        #print(i)\n",
    "        except IndexError:\n",
    "            prob_ex_3_placement = {\"input\": \"\", \"output\": \"\"}\n",
    "            \n",
    "        try:\n",
    "            prob_ex_4_placement_input = [[str(i[j]) for i in \n",
    "                                         some_file[\"train\"][3][\"input\"]] for j in range\n",
    "                                         (len(some_file[\"train\"][3][\"input\"][0]))]\n",
    "            prob_ex_4_placement_output = [[str(i[j]) for i in \n",
    "                                         some_file[\"train\"][3][\"output\"]] for j in range\n",
    "                                         (len(some_file[\"train\"][3][\"output\"][0]))]\n",
    "        except IndexError:\n",
    "            prob_ex_4_placement = {\"input\": [\"\"], \"output\": [\"\"]}\n",
    "        \n",
    "        temp_series = pd.Series({\n",
    "            \"problem_id\": name,\n",
    "            \"problem_example_1_input\":  [[str(i[j]) for i in \n",
    "                                         some_file[\"train\"][0][\"input\"]] for j in range\n",
    "                                         (len(some_file[\"train\"][0][\"input\"][0]))],\n",
    "            \"problem_example_1_output\": [[str(i[j]) for i in \n",
    "                                         some_file[\"train\"][0][\"output\"]] for j in range\n",
    "                                         (len(some_file[\"train\"][0][\"output\"][0]))],\n",
    "            \"problem_example_2_input\":  [[str(i[j]) for i in \n",
    "                                         some_file[\"train\"][1][\"input\"]] for j in range\n",
    "                                         (len(some_file[\"train\"][1][\"input\"][0]))],\n",
    "            \"problem_example_2_output\": [[str(i[j]) for i in \n",
    "                                         some_file[\"train\"][1][\"output\"]] for j in range\n",
    "                                         (len(some_file[\"train\"][1][\"output\"][0]))],\n",
    "            \"problem_example_3_input\":  prob_ex_3_placement_input,\n",
    "            \"problem_example_3_output\": prob_ex_3_placement_output,\n",
    "            \"problem_example_4_input\":  prob_ex_4_placement_input, \n",
    "            \"problem_example_4_output\": prob_ex_4_placement_output,\n",
    "            \"problem_test_input\":       [[str(i[j]) for i in \n",
    "                                         some_file[\"test\"][0][\"input\"]] for j in range\n",
    "                                         (len(some_file[\"test\"][0][\"input\"][0]))],\n",
    "            \"problem_test_output\":      [[str(i[j]) for i in \n",
    "                                         some_file[\"test\"][0][\"output\"]] for j in range\n",
    "                                         (len(some_file[\"test\"][0][\"output\"][0]))],\n",
    "        })\n",
    "        \n",
    "        i += 1\n",
    "        bunch_of_series.append(temp_series)\n",
    "        \n",
    "arc_train = pd.concat(bunch_of_series, axis=1).T\n",
    "arc_no_id = arc_train.loc[:, arc_train.columns != \"problem_id\"]\n",
    "arc_no_id_hf = Dataset.from_pandas(arc_no_id)"
   ],
   "metadata": {
    "collapsed": false,
    "ExecuteTime": {
     "end_time": "2024-09-23T22:04:38.454632Z",
     "start_time": "2024-09-23T22:04:38.341103Z"
    }
   },
   "id": "ad434fc7319d1fa0"
  },
  {
   "cell_type": "code",
   "execution_count": 45,
   "outputs": [
    {
     "name": "stdout",
     "output_type": "stream",
     "text": [
      "{'train': [{'input': [[0, 0, 5], [0, 5, 0], [5, 0, 0]], 'output': [[3, 3, 3], [4, 4, 4], [2, 2, 2]]}, {'input': [[0, 0, 5], [0, 0, 5], [0, 0, 5]], 'output': [[3, 3, 3], [3, 3, 3], [3, 3, 3]]}, {'input': [[5, 0, 0], [0, 5, 0], [5, 0, 0]], 'output': [[2, 2, 2], [4, 4, 4], [2, 2, 2]]}, {'input': [[0, 5, 0], [0, 0, 5], [0, 5, 0]], 'output': [[4, 4, 4], [3, 3, 3], [4, 4, 4]]}], 'test': [{'input': [[0, 0, 5], [5, 0, 0], [0, 5, 0]], 'output': [[3, 3, 3], [2, 2, 2], [4, 4, 4]]}]}\n"
     ]
    }
   ],
   "source": [
    "with open(f\"./ARC-AGI-master/data/training/{train_file_names[0]}\") as f:\n",
    "    some_file = json.load(f)\n",
    "    print(some_file)"
   ],
   "metadata": {
    "collapsed": false,
    "ExecuteTime": {
     "end_time": "2024-09-23T22:23:17.330246Z",
     "start_time": "2024-09-23T22:23:17.318189Z"
    }
   },
   "id": "343529b39172ca9c"
  },
  {
   "cell_type": "code",
   "execution_count": 35,
   "outputs": [
    {
     "data": {
      "text/plain": "                               problem_example_1_input  \\\n0                    [[0, 0, 5], [0, 5, 0], [5, 0, 0]]   \n1    [[3, 3, 3, 3, 3, 3, 3, 3, 8, 3, 8, 3], [3, 3, ...   \n2    [[0, 0, 2, 0, 0, 1, 0, 0, 3, 0, 0, 0, 0, 0, 0,...   \n3    [[1, 0, 0, 0, 0], [0, 0, 0, 1, 0], [1, 0, 0, 0...   \n4    [[0, 0, 0, 0, 0, 0, 0, 0, 0, 0, 0, 0, 0, 0, 0,...   \n..                                                 ...   \n395  [[1, 1, 3, 2], [1, 1, 3, 3], [3, 3, 1, 1], [2,...   \n396                  [[1, 1, 0], [1, 1, 0], [0, 1, 0]]   \n397  [[4, 4, 0], [4, 0, 0], [0, 0, 0], [3, 3, 0], [...   \n398  [[2, 8, 8, 8, 8, 8, 8, 8, 8, 8, 8, 8], [2, 0, ...   \n399  [[0, 0, 0, 0, 0, 0, 0, 0, 0, 0, 0, 0, 0, 0, 0,...   \n\n                              problem_example_1_output  \\\n0                    [[3, 4, 2], [3, 4, 2], [3, 4, 2]]   \n1    [[2, 8, 1, 8, 2], [4, 3, 3, 3, 4], [1, 3, 3, 3...   \n2    [[2, 1, 3, 4, 8, 6], [2, 1, 3, 4, 8, 6], [2, 1...   \n3    [[1, 0, 0, 0, 0], [2, 0, 0, 1, 0], [1, 0, 0, 2...   \n4    [[0, 0, 0, 0, 0, 0, 0, 0, 0, 0, 0, 0, 0, 0, 0,...   \n..                                                 ...   \n395  [[1, 1, 3, 2], [1, 1, 3, 3], [3, 3, 1, 1], [2,...   \n396  [[1, 1, 0, 0, 1, 1], [1, 1, 0, 0, 1, 1], [0, 1...   \n397                  [[6, 6, 0], [6, 0, 0], [0, 0, 6]]   \n398  [[2, 8, 8, 8, 8, 8, 8, 8, 8, 8, 8, 8], [2, 0, ...   \n399  [[0, 0, 0, 0, 0, 0, 0, 0, 0, 0, 0, 0, 0, 0, 0,...   \n\n                               problem_example_2_input  \\\n0                    [[0, 0, 0], [0, 0, 0], [5, 5, 5]]   \n1    [[1, 1, 1, 1, 1, 1, 1, 1, 1, 1], [1, 8, 1, 8, ...   \n2    [[0, 0, 0, 0, 0, 0, 0, 0, 0, 0, 0, 0], [0, 5, ...   \n3    [[0, 0, 0, 0, 0, 0, 0, 0, 0, 0], [0, 1, 0, 0, ...   \n4    [[0, 0, 0, 0, 0, 0, 0, 0, 0, 0, 0, 0, 0, 0, 0,...   \n..                                                 ...   \n395  [[4, 6, 6], [4, 4, 6], [4, 8, 8], [4, 6, 6], [...   \n396                  [[0, 1, 1], [0, 0, 1], [0, 1, 0]]   \n397  [[4, 4, 0], [0, 0, 0], [4, 0, 4], [3, 3, 3], [...   \n398  [[8, 2, 2, 2, 2, 2, 2, 2, 2, 2, 2, 2], [8, 0, ...   \n399  [[0, 0, 0, 0, 0, 0, 0, 0, 0, 0, 0, 0, 0], [0, ...   \n\n                              problem_example_2_output  \\\n0                    [[3, 3, 3], [3, 3, 3], [3, 3, 3]]   \n1                    [[8, 3, 8], [3, 1, 3], [8, 3, 8]]   \n2                    [[1, 1, 1], [2, 2, 2], [4, 4, 4]]   \n3    [[0, 0, 0, 0, 0, 0, 0, 0, 0, 0], [0, 1, 0, 0, ...   \n4    [[0, 2, 0, 0, 0, 0, 0, 0, 0, 0, 0, 0, 0, 0, 0,...   \n..                                                 ...   \n395                  [[4, 6, 6], [4, 4, 6], [4, 8, 8]]   \n396  [[0, 1, 1, 1, 1, 0], [0, 0, 1, 1, 0, 0], [0, 1...   \n397                  [[6, 6, 6], [6, 0, 0], [6, 0, 6]]   \n398  [[8, 2, 2, 2, 2, 2, 2, 2, 2, 2, 2, 2], [8, 0, ...   \n399  [[0, 0, 0, 0, 0, 0, 0, 0, 0, 0, 0, 0, 0], [0, ...   \n\n                               problem_example_3_input  \\\n0                    [[5, 0, 5], [0, 5, 0], [0, 0, 0]]   \n1    [[4, 4, 4, 4, 4, 4, 4, 4, 4, 4, 4, 4], [4, 4, ...   \n2    [[0, 2, 0, 0, 8, 0, 0, 4, 0, 0, 1, 0], [0, 2, ...   \n3    [[0, 0, 0, 0, 0, 0, 0, 0, 0, 0], [0, 0, 1, 0, ...   \n4    [[0, 0, 0, 0, 0, 0, 0, 0, 0, 0, 0, 0, 0, 0, 0,...   \n..                                                 ...   \n395           [[2, 3, 4, 2, 3, 4], [3, 2, 4, 3, 2, 4]]   \n396                  [[0, 0, 0], [0, 0, 0], [0, 1, 1]]   \n397  [[0, 0, 4], [0, 4, 4], [4, 4, 0], [0, 3, 0], [...   \n398  [[8, 8, 8, 8, 8, 8, 8, 8, 8, 8], [8, 8, 8, 8, ...   \n399  [[0, 0, 0, 0, 0, 0, 0, 0, 0, 0, 0, 0, 0, 0, 0]...   \n\n                              problem_example_3_output  \\\n0                    [[2, 4, 2], [2, 4, 2], [2, 4, 2]]   \n1    [[1, 4, 7, 4, 1], [4, 4, 4, 4, 4], [7, 4, 4, 4...   \n2    [[2, 8, 4, 1], [2, 8, 4, 1], [2, 8, 4, 1], [2,...   \n3    [[0, 0, 0, 0, 0, 0, 0, 0, 0, 0], [0, 0, 1, 0, ...   \n4    [[3, 3, 3, 3, 3, 3, 3, 3, 3, 3, 3, 3, 3, 3, 3,...   \n..                                                 ...   \n395                             [[2, 3, 4], [3, 2, 4]]   \n396  [[0, 0, 0, 0, 0, 0], [0, 0, 0, 0, 0, 0], [0, 1...   \n397                  [[0, 6, 6], [6, 6, 6], [6, 6, 6]]   \n398  [[8, 8, 8, 8, 8, 8, 8, 8, 8, 8], [8, 8, 8, 8, ...   \n399  [[0, 0, 0, 0, 0, 0, 0, 0, 0, 0, 0, 0, 0, 0, 0]...   \n\n                               problem_example_4_input  \\\n0                    [[0, 0, 0], [5, 0, 5], [0, 5, 0]]   \n1                    [[0, 0, 0], [5, 0, 5], [0, 5, 0]]   \n2                    [[0, 0, 0], [5, 0, 5], [0, 5, 0]]   \n3                    [[0, 0, 0], [5, 0, 5], [0, 5, 0]]   \n4                    [[0, 0, 0], [5, 0, 5], [0, 5, 0]]   \n..                                                 ...   \n395  [[0, 0, 0, 0, 0, 0, 0, 0, 0, 0], [0, 0, 0, 0, ...   \n396  [[0, 0, 0, 0, 0, 0, 0, 0, 0, 0], [0, 0, 0, 0, ...   \n397  [[4, 0, 4], [4, 0, 0], [0, 0, 0], [3, 0, 0], [...   \n398  [[4, 0, 4], [4, 0, 0], [0, 0, 0], [3, 0, 0], [...   \n399  [[4, 0, 4], [4, 0, 0], [0, 0, 0], [3, 0, 0], [...   \n\n                              problem_example_4_output  \\\n0                    [[4, 3, 4], [4, 3, 4], [4, 3, 4]]   \n1                    [[4, 3, 4], [4, 3, 4], [4, 3, 4]]   \n2                    [[4, 3, 4], [4, 3, 4], [4, 3, 4]]   \n3                    [[4, 3, 4], [4, 3, 4], [4, 3, 4]]   \n4                    [[4, 3, 4], [4, 3, 4], [4, 3, 4]]   \n..                                                 ...   \n395  [[3, 3, 3, 3, 3, 3, 3, 3, 3, 3], [3, 3, 3, 3, ...   \n396  [[3, 3, 3, 3, 3, 3, 3, 3, 3, 3], [3, 3, 3, 3, ...   \n397                  [[6, 0, 6], [6, 0, 0], [0, 6, 0]]   \n398                  [[6, 0, 6], [6, 0, 0], [0, 6, 0]]   \n399                  [[6, 0, 6], [6, 0, 0], [0, 6, 0]]   \n\n                                    problem_test_input  \\\n0                    [[0, 5, 0], [0, 0, 5], [5, 0, 0]]   \n1    [[8, 8, 8, 8, 8, 8, 8, 8, 8, 8, 8, 8, 8, 8, 8,...   \n2    [[2, 0, 0, 3, 0, 0, 8, 0, 0, 4, 0, 0, 6, 0, 0,...   \n3    [[0, 0, 0, 0, 0, 0, 0, 0, 0, 0], [1, 0, 0, 0, ...   \n4    [[0, 0, 0, 0, 0, 0, 0, 0, 0, 0, 0, 0, 0, 0, 0,...   \n..                                                 ...   \n395  [[5, 4, 6, 2, 5, 4, 6, 2], [4, 5, 6, 6, 4, 5, ...   \n396                  [[0, 0, 1], [0, 0, 0], [0, 1, 0]]   \n397  [[0, 4, 0], [4, 0, 4], [4, 0, 0], [3, 3, 3], [...   \n398  [[8, 8, 8, 8, 8, 8, 8, 8, 8, 8, 8, 8, 8, 8], [...   \n399  [[0, 0, 0, 0, 0, 0, 0, 0, 0, 0, 0, 0], [0, 0, ...   \n\n                                   problem_test_output  \n0                    [[3, 2, 4], [3, 2, 4], [3, 2, 4]]  \n1    [[3, 8, 2, 1, 2, 8, 3], [8, 8, 8, 8, 8, 8, 8],...  \n2    [[2, 3, 8, 4, 6, 1, 7], [2, 3, 8, 4, 6, 1, 7],...  \n3    [[0, 0, 0, 0, 0, 0, 0, 0, 0, 0], [1, 0, 0, 0, ...  \n4    [[4, 0, 0, 0, 0, 0, 0, 0, 0, 0, 0, 0, 0, 0, 0,...  \n..                                                 ...  \n395         [[5, 4, 6, 2], [4, 5, 6, 6], [5, 4, 4, 2]]  \n396  [[0, 0, 1, 1, 0, 0], [0, 0, 0, 0, 0, 0], [0, 1...  \n397                  [[6, 6, 6], [6, 6, 6], [6, 0, 0]]  \n398  [[8, 8, 8, 8, 8, 8, 8, 8, 8, 8, 8, 8, 8, 8], [...  \n399  [[0, 0, 0, 0, 0, 0, 0, 0, 0, 0, 0, 0], [0, 0, ...  \n\n[400 rows x 10 columns]",
      "text/html": "<div>\n<style scoped>\n    .dataframe tbody tr th:only-of-type {\n        vertical-align: middle;\n    }\n\n    .dataframe tbody tr th {\n        vertical-align: top;\n    }\n\n    .dataframe thead th {\n        text-align: right;\n    }\n</style>\n<table border=\"1\" class=\"dataframe\">\n  <thead>\n    <tr style=\"text-align: right;\">\n      <th></th>\n      <th>problem_example_1_input</th>\n      <th>problem_example_1_output</th>\n      <th>problem_example_2_input</th>\n      <th>problem_example_2_output</th>\n      <th>problem_example_3_input</th>\n      <th>problem_example_3_output</th>\n      <th>problem_example_4_input</th>\n      <th>problem_example_4_output</th>\n      <th>problem_test_input</th>\n      <th>problem_test_output</th>\n    </tr>\n  </thead>\n  <tbody>\n    <tr>\n      <th>0</th>\n      <td>[[0, 0, 5], [0, 5, 0], [5, 0, 0]]</td>\n      <td>[[3, 4, 2], [3, 4, 2], [3, 4, 2]]</td>\n      <td>[[0, 0, 0], [0, 0, 0], [5, 5, 5]]</td>\n      <td>[[3, 3, 3], [3, 3, 3], [3, 3, 3]]</td>\n      <td>[[5, 0, 5], [0, 5, 0], [0, 0, 0]]</td>\n      <td>[[2, 4, 2], [2, 4, 2], [2, 4, 2]]</td>\n      <td>[[0, 0, 0], [5, 0, 5], [0, 5, 0]]</td>\n      <td>[[4, 3, 4], [4, 3, 4], [4, 3, 4]]</td>\n      <td>[[0, 5, 0], [0, 0, 5], [5, 0, 0]]</td>\n      <td>[[3, 2, 4], [3, 2, 4], [3, 2, 4]]</td>\n    </tr>\n    <tr>\n      <th>1</th>\n      <td>[[3, 3, 3, 3, 3, 3, 3, 3, 8, 3, 8, 3], [3, 3, ...</td>\n      <td>[[2, 8, 1, 8, 2], [4, 3, 3, 3, 4], [1, 3, 3, 3...</td>\n      <td>[[1, 1, 1, 1, 1, 1, 1, 1, 1, 1], [1, 8, 1, 8, ...</td>\n      <td>[[8, 3, 8], [3, 1, 3], [8, 3, 8]]</td>\n      <td>[[4, 4, 4, 4, 4, 4, 4, 4, 4, 4, 4, 4], [4, 4, ...</td>\n      <td>[[1, 4, 7, 4, 1], [4, 4, 4, 4, 4], [7, 4, 4, 4...</td>\n      <td>[[0, 0, 0], [5, 0, 5], [0, 5, 0]]</td>\n      <td>[[4, 3, 4], [4, 3, 4], [4, 3, 4]]</td>\n      <td>[[8, 8, 8, 8, 8, 8, 8, 8, 8, 8, 8, 8, 8, 8, 8,...</td>\n      <td>[[3, 8, 2, 1, 2, 8, 3], [8, 8, 8, 8, 8, 8, 8],...</td>\n    </tr>\n    <tr>\n      <th>2</th>\n      <td>[[0, 0, 2, 0, 0, 1, 0, 0, 3, 0, 0, 0, 0, 0, 0,...</td>\n      <td>[[2, 1, 3, 4, 8, 6], [2, 1, 3, 4, 8, 6], [2, 1...</td>\n      <td>[[0, 0, 0, 0, 0, 0, 0, 0, 0, 0, 0, 0], [0, 5, ...</td>\n      <td>[[1, 1, 1], [2, 2, 2], [4, 4, 4]]</td>\n      <td>[[0, 2, 0, 0, 8, 0, 0, 4, 0, 0, 1, 0], [0, 2, ...</td>\n      <td>[[2, 8, 4, 1], [2, 8, 4, 1], [2, 8, 4, 1], [2,...</td>\n      <td>[[0, 0, 0], [5, 0, 5], [0, 5, 0]]</td>\n      <td>[[4, 3, 4], [4, 3, 4], [4, 3, 4]]</td>\n      <td>[[2, 0, 0, 3, 0, 0, 8, 0, 0, 4, 0, 0, 6, 0, 0,...</td>\n      <td>[[2, 3, 8, 4, 6, 1, 7], [2, 3, 8, 4, 6, 1, 7],...</td>\n    </tr>\n    <tr>\n      <th>3</th>\n      <td>[[1, 0, 0, 0, 0], [0, 0, 0, 1, 0], [1, 0, 0, 0...</td>\n      <td>[[1, 0, 0, 0, 0], [2, 0, 0, 1, 0], [1, 0, 0, 2...</td>\n      <td>[[0, 0, 0, 0, 0, 0, 0, 0, 0, 0], [0, 1, 0, 0, ...</td>\n      <td>[[0, 0, 0, 0, 0, 0, 0, 0, 0, 0], [0, 1, 0, 0, ...</td>\n      <td>[[0, 0, 0, 0, 0, 0, 0, 0, 0, 0], [0, 0, 1, 0, ...</td>\n      <td>[[0, 0, 0, 0, 0, 0, 0, 0, 0, 0], [0, 0, 1, 0, ...</td>\n      <td>[[0, 0, 0], [5, 0, 5], [0, 5, 0]]</td>\n      <td>[[4, 3, 4], [4, 3, 4], [4, 3, 4]]</td>\n      <td>[[0, 0, 0, 0, 0, 0, 0, 0, 0, 0], [1, 0, 0, 0, ...</td>\n      <td>[[0, 0, 0, 0, 0, 0, 0, 0, 0, 0], [1, 0, 0, 0, ...</td>\n    </tr>\n    <tr>\n      <th>4</th>\n      <td>[[0, 0, 0, 0, 0, 0, 0, 0, 0, 0, 0, 0, 0, 0, 0,...</td>\n      <td>[[0, 0, 0, 0, 0, 0, 0, 0, 0, 0, 0, 0, 0, 0, 0,...</td>\n      <td>[[0, 0, 0, 0, 0, 0, 0, 0, 0, 0, 0, 0, 0, 0, 0,...</td>\n      <td>[[0, 2, 0, 0, 0, 0, 0, 0, 0, 0, 0, 0, 0, 0, 0,...</td>\n      <td>[[0, 0, 0, 0, 0, 0, 0, 0, 0, 0, 0, 0, 0, 0, 0,...</td>\n      <td>[[3, 3, 3, 3, 3, 3, 3, 3, 3, 3, 3, 3, 3, 3, 3,...</td>\n      <td>[[0, 0, 0], [5, 0, 5], [0, 5, 0]]</td>\n      <td>[[4, 3, 4], [4, 3, 4], [4, 3, 4]]</td>\n      <td>[[0, 0, 0, 0, 0, 0, 0, 0, 0, 0, 0, 0, 0, 0, 0,...</td>\n      <td>[[4, 0, 0, 0, 0, 0, 0, 0, 0, 0, 0, 0, 0, 0, 0,...</td>\n    </tr>\n    <tr>\n      <th>...</th>\n      <td>...</td>\n      <td>...</td>\n      <td>...</td>\n      <td>...</td>\n      <td>...</td>\n      <td>...</td>\n      <td>...</td>\n      <td>...</td>\n      <td>...</td>\n      <td>...</td>\n    </tr>\n    <tr>\n      <th>395</th>\n      <td>[[1, 1, 3, 2], [1, 1, 3, 3], [3, 3, 1, 1], [2,...</td>\n      <td>[[1, 1, 3, 2], [1, 1, 3, 3], [3, 3, 1, 1], [2,...</td>\n      <td>[[4, 6, 6], [4, 4, 6], [4, 8, 8], [4, 6, 6], [...</td>\n      <td>[[4, 6, 6], [4, 4, 6], [4, 8, 8]]</td>\n      <td>[[2, 3, 4, 2, 3, 4], [3, 2, 4, 3, 2, 4]]</td>\n      <td>[[2, 3, 4], [3, 2, 4]]</td>\n      <td>[[0, 0, 0, 0, 0, 0, 0, 0, 0, 0], [0, 0, 0, 0, ...</td>\n      <td>[[3, 3, 3, 3, 3, 3, 3, 3, 3, 3], [3, 3, 3, 3, ...</td>\n      <td>[[5, 4, 6, 2, 5, 4, 6, 2], [4, 5, 6, 6, 4, 5, ...</td>\n      <td>[[5, 4, 6, 2], [4, 5, 6, 6], [5, 4, 4, 2]]</td>\n    </tr>\n    <tr>\n      <th>396</th>\n      <td>[[1, 1, 0], [1, 1, 0], [0, 1, 0]]</td>\n      <td>[[1, 1, 0, 0, 1, 1], [1, 1, 0, 0, 1, 1], [0, 1...</td>\n      <td>[[0, 1, 1], [0, 0, 1], [0, 1, 0]]</td>\n      <td>[[0, 1, 1, 1, 1, 0], [0, 0, 1, 1, 0, 0], [0, 1...</td>\n      <td>[[0, 0, 0], [0, 0, 0], [0, 1, 1]]</td>\n      <td>[[0, 0, 0, 0, 0, 0], [0, 0, 0, 0, 0, 0], [0, 1...</td>\n      <td>[[0, 0, 0, 0, 0, 0, 0, 0, 0, 0], [0, 0, 0, 0, ...</td>\n      <td>[[3, 3, 3, 3, 3, 3, 3, 3, 3, 3], [3, 3, 3, 3, ...</td>\n      <td>[[0, 0, 1], [0, 0, 0], [0, 1, 0]]</td>\n      <td>[[0, 0, 1, 1, 0, 0], [0, 0, 0, 0, 0, 0], [0, 1...</td>\n    </tr>\n    <tr>\n      <th>397</th>\n      <td>[[4, 4, 0], [4, 0, 0], [0, 0, 0], [3, 3, 0], [...</td>\n      <td>[[6, 6, 0], [6, 0, 0], [0, 0, 6]]</td>\n      <td>[[4, 4, 0], [0, 0, 0], [4, 0, 4], [3, 3, 3], [...</td>\n      <td>[[6, 6, 6], [6, 0, 0], [6, 0, 6]]</td>\n      <td>[[0, 0, 4], [0, 4, 4], [4, 4, 0], [0, 3, 0], [...</td>\n      <td>[[0, 6, 6], [6, 6, 6], [6, 6, 6]]</td>\n      <td>[[4, 0, 4], [4, 0, 0], [0, 0, 0], [3, 0, 0], [...</td>\n      <td>[[6, 0, 6], [6, 0, 0], [0, 6, 0]]</td>\n      <td>[[0, 4, 0], [4, 0, 4], [4, 0, 0], [3, 3, 3], [...</td>\n      <td>[[6, 6, 6], [6, 6, 6], [6, 0, 0]]</td>\n    </tr>\n    <tr>\n      <th>398</th>\n      <td>[[2, 8, 8, 8, 8, 8, 8, 8, 8, 8, 8, 8], [2, 0, ...</td>\n      <td>[[2, 8, 8, 8, 8, 8, 8, 8, 8, 8, 8, 8], [2, 0, ...</td>\n      <td>[[8, 2, 2, 2, 2, 2, 2, 2, 2, 2, 2, 2], [8, 0, ...</td>\n      <td>[[8, 2, 2, 2, 2, 2, 2, 2, 2, 2, 2, 2], [8, 0, ...</td>\n      <td>[[8, 8, 8, 8, 8, 8, 8, 8, 8, 8], [8, 8, 8, 8, ...</td>\n      <td>[[8, 8, 8, 8, 8, 8, 8, 8, 8, 8], [8, 8, 8, 8, ...</td>\n      <td>[[4, 0, 4], [4, 0, 0], [0, 0, 0], [3, 0, 0], [...</td>\n      <td>[[6, 0, 6], [6, 0, 0], [0, 6, 0]]</td>\n      <td>[[8, 8, 8, 8, 8, 8, 8, 8, 8, 8, 8, 8, 8, 8], [...</td>\n      <td>[[8, 8, 8, 8, 8, 8, 8, 8, 8, 8, 8, 8, 8, 8], [...</td>\n    </tr>\n    <tr>\n      <th>399</th>\n      <td>[[0, 0, 0, 0, 0, 0, 0, 0, 0, 0, 0, 0, 0, 0, 0,...</td>\n      <td>[[0, 0, 0, 0, 0, 0, 0, 0, 0, 0, 0, 0, 0, 0, 0,...</td>\n      <td>[[0, 0, 0, 0, 0, 0, 0, 0, 0, 0, 0, 0, 0], [0, ...</td>\n      <td>[[0, 0, 0, 0, 0, 0, 0, 0, 0, 0, 0, 0, 0], [0, ...</td>\n      <td>[[0, 0, 0, 0, 0, 0, 0, 0, 0, 0, 0, 0, 0, 0, 0]...</td>\n      <td>[[0, 0, 0, 0, 0, 0, 0, 0, 0, 0, 0, 0, 0, 0, 0]...</td>\n      <td>[[4, 0, 4], [4, 0, 0], [0, 0, 0], [3, 0, 0], [...</td>\n      <td>[[6, 0, 6], [6, 0, 0], [0, 6, 0]]</td>\n      <td>[[0, 0, 0, 0, 0, 0, 0, 0, 0, 0, 0, 0], [0, 0, ...</td>\n      <td>[[0, 0, 0, 0, 0, 0, 0, 0, 0, 0, 0, 0], [0, 0, ...</td>\n    </tr>\n  </tbody>\n</table>\n<p>400 rows × 10 columns</p>\n</div>"
     },
     "execution_count": 35,
     "metadata": {},
     "output_type": "execute_result"
    }
   ],
   "source": [
    "arc_no_id"
   ],
   "metadata": {
    "collapsed": false,
    "ExecuteTime": {
     "end_time": "2024-09-23T22:06:21.622919Z",
     "start_time": "2024-09-23T22:06:21.600325Z"
    }
   },
   "id": "d710663e2f5c5351"
  },
  {
   "cell_type": "code",
   "execution_count": 14,
   "outputs": [],
   "source": [
    "#tokenizer = AutoTokenizer.from_pretrained(\"microsoft/Phi-3.5-mini-instruct\", \n",
    "# trust_remote_code=True)\n",
    "#model = AutoModelForCausalLM.from_pretrained(\"microsoft/Phi-3.5-mini-instruct\", \n",
    "# trust_remote_code=True)\n",
    "\n",
    "# model = AutoModelForCausalLM.from_pretrained(\"microsoft/Phi-3.5-vision-instruct\", trust_remote_code=True)\n",
    "# tokenizer = AutoTokenizer.from_pretrained(\"microsoft/Phi-3.5-MoE-instruct\",                                         trust_remote_code=True)"
   ],
   "metadata": {
    "collapsed": false,
    "ExecuteTime": {
     "end_time": "2024-09-23T20:43:11.046398Z",
     "start_time": "2024-09-23T20:43:11.042483Z"
    }
   },
   "id": "4c31512f9323eb50"
  },
  {
   "cell_type": "code",
   "execution_count": 37,
   "outputs": [
    {
     "name": "stdout",
     "output_type": "stream",
     "text": [
      "Here are three examples of a puzzle — \n",
      "Puzzle 1 input: \n",
      "\n",
      "005\n",
      "050\n",
      "500 \n",
      "\n",
      "Puzzle 1 output: \n",
      "\n",
      "342\n",
      "342\n",
      "342 \n",
      "\n",
      "\n",
      "Puzzle 2 input: \n",
      "\n",
      "000\n",
      "000\n",
      "555 \n",
      "\n",
      "Puzzle 2 output: \n",
      "\n",
      "333\n",
      "333\n",
      "333 \n",
      "\n",
      "\n",
      "Puzzle 3 input: \n",
      "\n",
      "505\n",
      "050\n",
      "000 \n",
      "\n",
      "Puzzle 3 output: \n",
      "\n",
      "242\n",
      "242\n",
      "242 \n",
      "\n",
      "\n",
      "Hint: These puzzles can be imagined as grids and the digits represent different colors. 0: black, 1: blue, 2: red, 3: green, 4: yellow, 5: silver, 6: pink, 7: orange, 8: cyan, 9: brown. Each puzzle-solution pair has some transformation, for instance, adding  a particular digit/color-block in-between two other digits/color-blocks or splitting/combining the size of the overall grid. The solution may not have anything to with the digits themselves or some numerical computations. \n",
      "\n",
      "Based on the examples, could you solve the following test puzzle? \n",
      "\n",
      "050\n",
      "005\n",
      "500 \n",
      "\n",
      "Use chain of thought reasoning, try to identify the pattern, and provide only the final answer to the test puzzle.\n"
     ]
    }
   ],
   "source": [
    "def grid2str(grid):\n",
    "    return \"\\n\".join(\"\".join(str(i) for i in j) for j in grid)\n",
    "\n",
    "num = 0\n",
    "\n",
    "prompt = (\n",
    "    f\"Here are three examples of a puzzle — \\n\"\n",
    "    f'Puzzle 1 input: \\n\\n{grid2str(arc_no_id_hf[\"problem_example_1_input\"][num])} \\n\\n'\n",
    "    f'Puzzle 1 output: \\n\\n{grid2str(arc_no_id_hf[\"problem_example_1_output\"][num])} '\n",
    "    f'\\n\\n\\n'\n",
    "    f'Puzzle 2 input: \\n\\n{grid2str(arc_no_id_hf[\"problem_example_2_input\"][num])} \\n\\n'\n",
    "    f'Puzzle 2 output: \\n\\n{grid2str(arc_no_id_hf[\"problem_example_2_output\"][num])} '\n",
    "    f'\\n\\n\\n'\n",
    "    f'Puzzle 3 input: \\n\\n{grid2str(arc_no_id_hf[\"problem_example_3_input\"][num])} \\n\\n'\n",
    "    f'Puzzle 3 output: \\n\\n{grid2str(arc_no_id_hf[\"problem_example_3_output\"][num])} '\n",
    "    f'\\n\\n\\n'\n",
    "    \n",
    "    f\"Hint: These puzzles can be imagined as grids and the digits represent different \"\n",
    "    f\"colors. 0: black, 1: blue, 2: red, 3: green, 4: yellow, 5: silver, 6: pink, 7: \"\n",
    "    f\"orange, 8: cyan, 9: brown. Each puzzle-solution pair has some transformation, for \"\n",
    "    f\"instance, adding  a particular digit/color-block in-between two other \"\n",
    "    f\"digits/color-blocks or splitting/combining the size of the overall grid. The \"\n",
    "    f\"solution may not have anything to with the digits themselves or some numerical \"\n",
    "    f\"computations. \\n\\n\"\n",
    "    \n",
    "    f\"Based on the examples, could you solve the following test puzzle? \\n\\n\"\n",
    "    f'{grid2str(arc_no_id_hf[\"problem_test_input\"][num])} \\n\\n'\n",
    "    f'Use chain of thought reasoning, try to identify the pattern, and provide only the '\n",
    "    f'final answer to the test puzzle.'\n",
    ")\n",
    "\n",
    "print(prompt)\n",
    "# prompt = f\"Here's three examples of a puzzle \\n\"\n",
    "\n",
    "# for i in range(4):\n",
    "#    prompt += f'Puzzle {i + 1} input: \\n\\n {grid2str\n",
    "#    (arc_no_id_hf[\"problem_example_{i}_input\"][num])}'"
   ],
   "metadata": {
    "collapsed": false,
    "ExecuteTime": {
     "end_time": "2024-09-23T22:06:37.203313Z",
     "start_time": "2024-09-23T22:06:37.053067Z"
    }
   },
   "id": "afa64ba89fe901c7"
  },
  {
   "cell_type": "code",
   "execution_count": 12,
   "outputs": [],
   "source": [
    "#if tokenizer.pad_token is None:\n",
    "#    tokenizer.pad_token = tokenizer.eos_token\n",
    "#\n",
    "#def chat_with_model(prompt):\n",
    "#    inputs = tokenizer.encode(prompt, return_tensors='pt').to(\"mps\")\n",
    "#    model.to(\"mps\")\n",
    "#    \n",
    "#    output = model.generate(\n",
    "#        inputs, \n",
    "#        max_new_tokens=300,\n",
    "#        pad_token_id=tokenizer.pad_token_id\n",
    "#    )\n",
    "#    \n",
    "#    response = tokenizer.decode(output[0], skip_special_tokens=True)\n",
    "#    \n",
    "#    return response #[len(prompt):].strip()"
   ],
   "metadata": {
    "collapsed": false,
    "ExecuteTime": {
     "end_time": "2024-09-23T20:42:26.317434Z",
     "start_time": "2024-09-23T20:42:26.309227Z"
    }
   },
   "id": "a31846dabe81b39f"
  },
  {
   "cell_type": "code",
   "execution_count": 13,
   "outputs": [],
   "source": [
    "#response = chat_with_model(prompt)\n",
    "#print(response)"
   ],
   "metadata": {
    "collapsed": false,
    "ExecuteTime": {
     "end_time": "2024-09-23T20:42:26.610768Z",
     "start_time": "2024-09-23T20:42:26.605366Z"
    }
   },
   "id": "9843f83fa61f4a12"
  },
  {
   "cell_type": "code",
   "execution_count": 40,
   "outputs": [
    {
     "name": "stdout",
     "output_type": "stream",
     "text": [
      "324\n",
      "324\n",
      "324\n"
     ]
    }
   ],
   "source": [
    "print(grid2str(arc_no_id_hf[\"problem_test_output\"][num]))"
   ],
   "metadata": {
    "collapsed": false,
    "ExecuteTime": {
     "end_time": "2024-09-23T22:11:30.489407Z",
     "start_time": "2024-09-23T22:11:30.454433Z"
    }
   },
   "id": "75948349566d9e7d"
  },
  {
   "cell_type": "code",
   "execution_count": 38,
   "outputs": [
    {
     "name": "stderr",
     "output_type": "stream",
     "text": [
      "`flash-attention` package not found, consider installing for better performance: No module named 'flash_attn'.\n",
      "Current `flash-attention` does not support `window_size`. Either upgrade or use `attn_implementation='eager'`.\n"
     ]
    },
    {
     "data": {
      "text/plain": "Loading checkpoint shards:   0%|          | 0/2 [00:00<?, ?it/s]",
      "application/vnd.jupyter.widget-view+json": {
       "version_major": 2,
       "version_minor": 0,
       "model_id": "d38edde5b6f04a08b8ef04f1142eca15"
      }
     },
     "metadata": {},
     "output_type": "display_data"
    },
    {
     "data": {
      "text/plain": "<torch._C.Generator at 0x106befdd0>"
     },
     "execution_count": 38,
     "metadata": {},
     "output_type": "execute_result"
    }
   ],
   "source": [
    "# from unittest.mock import patch\n",
    "# from transformers.dynamic_module_utils import get_imports\n",
    "# \n",
    "# device = \"cpu\"\n",
    "# \n",
    "# def fixed_get_imports(filename: str | os.PathLike) -> list[str]:\n",
    "#     \"\"\"Work around for https://huggingface.co/microsoft/phi-1_5/discussions/72.\"\"\"\n",
    "#     if not str(filename).endswith(\"/modeling_phimoe.py\"):\n",
    "#         return get_imports(filename)\n",
    "#     imports = get_imports(filename)\n",
    "#     imports.remove(\"flash_attn\")\n",
    "#     return imports\n",
    "\n",
    "model_name = \"microsoft/Phi-3.5-mini-instruct\"\n",
    "\n",
    "# create model\n",
    "#with patch(\"transformers.dynamic_module_utils.get_imports\", fixed_get_imports):\n",
    "model = AutoModelForCausalLM.from_pretrained(\n",
    "    model_name,\n",
    "    #torch_dtype=torch.float16 if torch.cuda.is_available() else torch.float32,\n",
    "    #device_map='auto' if torch.cuda.is_available() else \"mps\",\n",
    "    trust_remote_code=True,\n",
    "    attn_implementation=\"eager\"\n",
    ")\n",
    "\n",
    "tokenizer = AutoTokenizer.from_pretrained(\n",
    "    model_name,\n",
    "    trust_remote_code=True\n",
    ")\n",
    "\n",
    "torch.random.manual_seed(0)\n",
    "\n",
    "# model = AutoModelForCausalLM.from_pretrained(\n",
    "#     model_name, \n",
    "#     device_map=\"mps\", \n",
    "#     torch_dtype=\"auto\", \n",
    "#     trust_remote_code=True,\n",
    "#     attn_implementation=\"eager\"\n",
    "# )\n",
    "# tokenizer = AutoTokenizer.from_pretrained(model_name)"
   ],
   "metadata": {
    "collapsed": false,
    "ExecuteTime": {
     "end_time": "2024-09-23T22:06:55.885042Z",
     "start_time": "2024-09-23T22:06:46.442971Z"
    }
   },
   "id": "4a0e223aa387fe1a"
  },
  {
   "cell_type": "code",
   "execution_count": 44,
   "outputs": [
    {
     "name": "stdout",
     "output_type": "stream",
     "text": [
      " They. learned.\n",
      ". through. connection facilated.     [] connection facilated.     ].\"\".\", and communication facilated.     \"\".\"self\".\n",
      ". initi.\n",
      "\n",
      " ): The � []: The ibility.\":\".\":\".\"\"\"\", self – and communication.flight.)) and communication.\")); and self – communication –).).\".\".\".\"\"). \"\").\"\".\"\".\"\".\"\".\".\".\".\".\".\".\".\".\".\".\".\".\".\".\".\".\".\".\".\".\".\".\".\".\".\".\".\".\".\".\".\".\".\".\".\".\".\".\".\".\".\".\".\".\".\".\".\".\".\".\".\".“..\".….“.“.“.“.“.“.“.“.“.“.“....`.`.```.`````.`.````.````````.`.`` \"\".\".\".\".\".\".\".\".\".\".\".\".\".\".\".\".\".\".\".\".\".\".\".\".\".\".\".\".\".\".\".\".\".\".\".\".\".\".\".\".\".\".\".\".\".\".\".\".\".\".\".\".\".\".\".\".\".\".\".\".\".\".\".\".\".\".\".\".\".\".\".\".\".\".\".\").\".\".\".\").\".\".\".\".\").\".\".\".\").\"\".\".\").\").\".\".\").\").\".\").\".\")).\".(\".\")).\".\".(\".\")).\".\".\".\")).\".\".\".\")).\".\".\".\").\".\".\".\")).\".\")).\".\".\".\")).\".(\".\")).\".\".\".\".\".\").\").\".\").\".\").\").\".\").\").\").\").\").\").\").\").\").\").\")).\").\").\").\").\").\").\").\").\").\").\").\").\").\").\").\").\").\").\").\").\").\").\").\").\").\").\").\").\").\").\").\").\").\").\").\").\").\").\").).\").\").\").\").\").\").\").\").\").\").\").\").\").\").\").\").\").\").\").\")\").\").\").\")\").\").\").\").\").\")\").\").\").\").\").\")\").\").\").\").\").\").\")).\").\").\").\")\").\").\").\")\").\").\").\")\").\").\").\")\").\").\").\").\")\").\").\").\").\")\").\").\").\").\").\")\").\").\").\")\").\").\").\")\").\").\")\").\").\")\").\").\")\").\").\")\").\").\")\").\").\n"
     ]
    }
   ],
   "source": [
    "messages = [\n",
    "    {\"role\": \"system\", \"content\": \"You are a helpful AI assistant.\"},\n",
    "    {\"role\": \"user\", \"content\": f\"{prompt}\"},\n",
    "]\n",
    "\n",
    "pipe = pipeline(\n",
    "    \"text-generation\",\n",
    "    model=model,\n",
    "    tokenizer=tokenizer,\n",
    "    device=\"mps\"\n",
    ")\n",
    "\n",
    "generation_args = {\n",
    "    \"max_new_tokens\": 500,\n",
    "    \"return_full_text\": False,\n",
    "    #\"temperature\": 0.9,\n",
    "    #\"do_sample\": True,\n",
    "}\n",
    "\n",
    "output = pipe(messages, **generation_args)\n",
    "print(output[0]['generated_text'])"
   ],
   "metadata": {
    "collapsed": false,
    "ExecuteTime": {
     "end_time": "2024-09-23T22:22:49.658634Z",
     "start_time": "2024-09-23T22:20:20.365906Z"
    }
   },
   "id": "d93727d5113ae404"
  },
  {
   "cell_type": "code",
   "execution_count": null,
   "outputs": [],
   "source": [],
   "metadata": {
    "collapsed": false
   },
   "id": "3c1c07a2f5c6d50f"
  }
 ],
 "metadata": {
  "kernelspec": {
   "display_name": "Python 3",
   "language": "python",
   "name": "python3"
  },
  "language_info": {
   "codemirror_mode": {
    "name": "ipython",
    "version": 2
   },
   "file_extension": ".py",
   "mimetype": "text/x-python",
   "name": "python",
   "nbconvert_exporter": "python",
   "pygments_lexer": "ipython2",
   "version": "2.7.6"
  }
 },
 "nbformat": 4,
 "nbformat_minor": 5
}
