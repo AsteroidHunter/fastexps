{
 "cells": [
  {
   "cell_type": "code",
   "execution_count": 2,
   "id": "initial_id",
   "metadata": {
    "collapsed": true,
    "ExecuteTime": {
     "end_time": "2024-09-17T23:25:07.681073Z",
     "start_time": "2024-09-17T23:25:07.677955Z"
    }
   },
   "outputs": [
    {
     "name": "stdout",
     "output_type": "stream",
     "text": [
      "2024-09-17 16:25:07.677290\n"
     ]
    }
   ],
   "source": [
    "import datetime\n",
    "\n",
    "print(datetime.datetime.now())"
   ]
  },
  {
   "cell_type": "markdown",
   "source": [
    "**Background and question**: I have never benchmarked an AI model. I installed a Mistral model back in 02/24 for a separate high-level idea. Can I benchmark this model under an hour?\n",
    "\n",
    "**Response from 9/23:** The answer is no, especially given the benchmark I picked."
   ],
   "metadata": {
    "collapsed": false
   },
   "id": "2e8de682d09e9400"
  },
  {
   "cell_type": "code",
   "execution_count": 2,
   "outputs": [
    {
     "name": "stdout",
     "output_type": "stream",
     "text": [
      "{'train': [{'input': [[0, 0, 0, 0, 0, 2, 0, 0, 0, 0, 0, 0, 0, 0, 0, 0, 0, 0, 0, 0, 0, 0, 0, 0, 0], [0, 0, 0, 0, 0, 0, 0, 0, 0, 0, 0, 0, 0, 0, 0, 0, 0, 0, 0, 0, 0, 0, 0, 0, 0], [0, 0, 0, 0, 0, 0, 0, 0, 0, 0, 0, 0, 0, 0, 0, 0, 0, 0, 0, 0, 0, 0, 0, 0, 0], [0, 0, 0, 0, 0, 0, 0, 0, 0, 0, 0, 0, 0, 0, 0, 0, 0, 0, 0, 0, 0, 0, 0, 0, 0], [0, 0, 0, 0, 0, 0, 0, 0, 0, 0, 0, 0, 0, 0, 0, 0, 0, 0, 0, 0, 0, 0, 0, 0, 0], [0, 0, 0, 0, 0, 0, 0, 0, 0, 0, 0, 0, 0, 0, 0, 0, 0, 0, 0, 0, 0, 0, 0, 0, 0], [0, 0, 0, 0, 0, 0, 0, 0, 0, 0, 0, 0, 0, 0, 0, 0, 0, 0, 0, 0, 0, 0, 0, 0, 0], [0, 0, 0, 0, 0, 0, 0, 0, 0, 0, 0, 0, 0, 0, 0, 0, 0, 0, 0, 0, 0, 0, 0, 0, 0], [0, 0, 0, 0, 0, 0, 0, 0, 0, 0, 0, 0, 0, 0, 0, 0, 0, 0, 0, 0, 0, 0, 0, 0, 0], [0, 0, 0, 0, 0, 0, 0, 8, 0, 0, 0, 0, 0, 0, 0, 0, 0, 0, 0, 0, 0, 0, 0, 0, 0]], 'output': [[0, 0, 0, 0, 0, 2, 0, 8, 0, 2, 0, 8, 0, 2, 0, 8, 0, 2, 0, 8, 0, 2, 0, 8, 0], [0, 0, 0, 0, 0, 2, 0, 8, 0, 2, 0, 8, 0, 2, 0, 8, 0, 2, 0, 8, 0, 2, 0, 8, 0], [0, 0, 0, 0, 0, 2, 0, 8, 0, 2, 0, 8, 0, 2, 0, 8, 0, 2, 0, 8, 0, 2, 0, 8, 0], [0, 0, 0, 0, 0, 2, 0, 8, 0, 2, 0, 8, 0, 2, 0, 8, 0, 2, 0, 8, 0, 2, 0, 8, 0], [0, 0, 0, 0, 0, 2, 0, 8, 0, 2, 0, 8, 0, 2, 0, 8, 0, 2, 0, 8, 0, 2, 0, 8, 0], [0, 0, 0, 0, 0, 2, 0, 8, 0, 2, 0, 8, 0, 2, 0, 8, 0, 2, 0, 8, 0, 2, 0, 8, 0], [0, 0, 0, 0, 0, 2, 0, 8, 0, 2, 0, 8, 0, 2, 0, 8, 0, 2, 0, 8, 0, 2, 0, 8, 0], [0, 0, 0, 0, 0, 2, 0, 8, 0, 2, 0, 8, 0, 2, 0, 8, 0, 2, 0, 8, 0, 2, 0, 8, 0], [0, 0, 0, 0, 0, 2, 0, 8, 0, 2, 0, 8, 0, 2, 0, 8, 0, 2, 0, 8, 0, 2, 0, 8, 0], [0, 0, 0, 0, 0, 2, 0, 8, 0, 2, 0, 8, 0, 2, 0, 8, 0, 2, 0, 8, 0, 2, 0, 8, 0]]}, {'input': [[0, 0, 0, 0, 0, 1, 0, 0, 0, 0, 0, 0, 0, 0, 0, 0, 0, 0, 0, 0, 0, 0, 0], [0, 0, 0, 0, 0, 0, 0, 0, 0, 0, 0, 0, 0, 0, 0, 0, 0, 0, 0, 0, 0, 0, 0], [0, 0, 0, 0, 0, 0, 0, 0, 0, 0, 0, 0, 0, 0, 0, 0, 0, 0, 0, 0, 0, 0, 0], [0, 0, 0, 0, 0, 0, 0, 0, 0, 0, 0, 0, 0, 0, 0, 0, 0, 0, 0, 0, 0, 0, 0], [0, 0, 0, 0, 0, 0, 0, 0, 0, 0, 0, 0, 0, 0, 0, 0, 0, 0, 0, 0, 0, 0, 0], [0, 0, 0, 0, 0, 0, 0, 0, 0, 0, 0, 0, 0, 0, 0, 0, 0, 0, 0, 0, 0, 0, 0], [0, 0, 0, 0, 0, 0, 0, 0, 3, 0, 0, 0, 0, 0, 0, 0, 0, 0, 0, 0, 0, 0, 0]], 'output': [[0, 0, 0, 0, 0, 1, 0, 0, 3, 0, 0, 1, 0, 0, 3, 0, 0, 1, 0, 0, 3, 0, 0], [0, 0, 0, 0, 0, 1, 0, 0, 3, 0, 0, 1, 0, 0, 3, 0, 0, 1, 0, 0, 3, 0, 0], [0, 0, 0, 0, 0, 1, 0, 0, 3, 0, 0, 1, 0, 0, 3, 0, 0, 1, 0, 0, 3, 0, 0], [0, 0, 0, 0, 0, 1, 0, 0, 3, 0, 0, 1, 0, 0, 3, 0, 0, 1, 0, 0, 3, 0, 0], [0, 0, 0, 0, 0, 1, 0, 0, 3, 0, 0, 1, 0, 0, 3, 0, 0, 1, 0, 0, 3, 0, 0], [0, 0, 0, 0, 0, 1, 0, 0, 3, 0, 0, 1, 0, 0, 3, 0, 0, 1, 0, 0, 3, 0, 0], [0, 0, 0, 0, 0, 1, 0, 0, 3, 0, 0, 1, 0, 0, 3, 0, 0, 1, 0, 0, 3, 0, 0]]}, {'input': [[0, 0, 0, 0, 0, 0, 0, 0, 0], [0, 0, 0, 0, 0, 0, 0, 0, 0], [0, 0, 0, 0, 0, 0, 0, 0, 0], [0, 0, 0, 0, 0, 0, 0, 0, 0], [0, 0, 0, 0, 0, 0, 0, 0, 0], [2, 0, 0, 0, 0, 0, 0, 0, 0], [0, 0, 0, 0, 0, 0, 0, 0, 0], [0, 0, 0, 0, 0, 0, 0, 0, 3], [0, 0, 0, 0, 0, 0, 0, 0, 0], [0, 0, 0, 0, 0, 0, 0, 0, 0], [0, 0, 0, 0, 0, 0, 0, 0, 0], [0, 0, 0, 0, 0, 0, 0, 0, 0], [0, 0, 0, 0, 0, 0, 0, 0, 0], [0, 0, 0, 0, 0, 0, 0, 0, 0], [0, 0, 0, 0, 0, 0, 0, 0, 0], [0, 0, 0, 0, 0, 0, 0, 0, 0], [0, 0, 0, 0, 0, 0, 0, 0, 0], [0, 0, 0, 0, 0, 0, 0, 0, 0], [0, 0, 0, 0, 0, 0, 0, 0, 0], [0, 0, 0, 0, 0, 0, 0, 0, 0], [0, 0, 0, 0, 0, 0, 0, 0, 0], [0, 0, 0, 0, 0, 0, 0, 0, 0]], 'output': [[0, 0, 0, 0, 0, 0, 0, 0, 0], [0, 0, 0, 0, 0, 0, 0, 0, 0], [0, 0, 0, 0, 0, 0, 0, 0, 0], [0, 0, 0, 0, 0, 0, 0, 0, 0], [0, 0, 0, 0, 0, 0, 0, 0, 0], [2, 2, 2, 2, 2, 2, 2, 2, 2], [0, 0, 0, 0, 0, 0, 0, 0, 0], [3, 3, 3, 3, 3, 3, 3, 3, 3], [0, 0, 0, 0, 0, 0, 0, 0, 0], [2, 2, 2, 2, 2, 2, 2, 2, 2], [0, 0, 0, 0, 0, 0, 0, 0, 0], [3, 3, 3, 3, 3, 3, 3, 3, 3], [0, 0, 0, 0, 0, 0, 0, 0, 0], [2, 2, 2, 2, 2, 2, 2, 2, 2], [0, 0, 0, 0, 0, 0, 0, 0, 0], [3, 3, 3, 3, 3, 3, 3, 3, 3], [0, 0, 0, 0, 0, 0, 0, 0, 0], [2, 2, 2, 2, 2, 2, 2, 2, 2], [0, 0, 0, 0, 0, 0, 0, 0, 0], [3, 3, 3, 3, 3, 3, 3, 3, 3], [0, 0, 0, 0, 0, 0, 0, 0, 0], [2, 2, 2, 2, 2, 2, 2, 2, 2]]}, {'input': [[0, 0, 0, 0, 0, 0, 0, 0], [0, 0, 0, 0, 0, 0, 0, 0], [0, 0, 0, 0, 0, 0, 0, 0], [0, 0, 0, 0, 0, 0, 0, 0], [0, 0, 0, 0, 0, 0, 0, 0], [0, 0, 0, 0, 0, 0, 0, 0], [0, 0, 0, 0, 0, 0, 0, 0], [4, 0, 0, 0, 0, 0, 0, 0], [0, 0, 0, 0, 0, 0, 0, 0], [0, 0, 0, 0, 0, 0, 0, 0], [0, 0, 0, 0, 0, 0, 0, 0], [1, 0, 0, 0, 0, 0, 0, 0], [0, 0, 0, 0, 0, 0, 0, 0], [0, 0, 0, 0, 0, 0, 0, 0], [0, 0, 0, 0, 0, 0, 0, 0], [0, 0, 0, 0, 0, 0, 0, 0], [0, 0, 0, 0, 0, 0, 0, 0], [0, 0, 0, 0, 0, 0, 0, 0], [0, 0, 0, 0, 0, 0, 0, 0], [0, 0, 0, 0, 0, 0, 0, 0], [0, 0, 0, 0, 0, 0, 0, 0], [0, 0, 0, 0, 0, 0, 0, 0], [0, 0, 0, 0, 0, 0, 0, 0], [0, 0, 0, 0, 0, 0, 0, 0]], 'output': [[0, 0, 0, 0, 0, 0, 0, 0], [0, 0, 0, 0, 0, 0, 0, 0], [0, 0, 0, 0, 0, 0, 0, 0], [0, 0, 0, 0, 0, 0, 0, 0], [0, 0, 0, 0, 0, 0, 0, 0], [0, 0, 0, 0, 0, 0, 0, 0], [0, 0, 0, 0, 0, 0, 0, 0], [4, 4, 4, 4, 4, 4, 4, 4], [0, 0, 0, 0, 0, 0, 0, 0], [0, 0, 0, 0, 0, 0, 0, 0], [0, 0, 0, 0, 0, 0, 0, 0], [1, 1, 1, 1, 1, 1, 1, 1], [0, 0, 0, 0, 0, 0, 0, 0], [0, 0, 0, 0, 0, 0, 0, 0], [0, 0, 0, 0, 0, 0, 0, 0], [4, 4, 4, 4, 4, 4, 4, 4], [0, 0, 0, 0, 0, 0, 0, 0], [0, 0, 0, 0, 0, 0, 0, 0], [0, 0, 0, 0, 0, 0, 0, 0], [1, 1, 1, 1, 1, 1, 1, 1], [0, 0, 0, 0, 0, 0, 0, 0], [0, 0, 0, 0, 0, 0, 0, 0], [0, 0, 0, 0, 0, 0, 0, 0], [4, 4, 4, 4, 4, 4, 4, 4]]}], 'test': [{'input': [[0, 0, 0, 0, 0, 3, 0, 0, 0, 0, 0, 0, 0, 0, 0, 0, 0, 0, 0, 0, 0, 0, 0, 0, 0, 0, 0], [0, 0, 0, 0, 0, 0, 0, 0, 0, 0, 0, 0, 0, 0, 0, 0, 0, 0, 0, 0, 0, 0, 0, 0, 0, 0, 0], [0, 0, 0, 0, 0, 0, 0, 0, 0, 0, 0, 0, 0, 0, 0, 0, 0, 0, 0, 0, 0, 0, 0, 0, 0, 0, 0], [0, 0, 0, 0, 0, 0, 0, 0, 0, 0, 0, 0, 0, 0, 0, 0, 0, 0, 0, 0, 0, 0, 0, 0, 0, 0, 0], [0, 0, 0, 0, 0, 0, 0, 0, 0, 0, 0, 0, 0, 0, 0, 0, 0, 0, 0, 0, 0, 0, 0, 0, 0, 0, 0], [0, 0, 0, 0, 0, 0, 0, 0, 0, 0, 0, 0, 0, 0, 0, 0, 0, 0, 0, 0, 0, 0, 0, 0, 0, 0, 0], [0, 0, 0, 0, 0, 0, 0, 0, 0, 0, 0, 0, 0, 0, 0, 0, 0, 0, 0, 0, 0, 0, 0, 0, 0, 0, 0], [0, 0, 0, 0, 0, 0, 0, 0, 0, 0, 0, 0, 0, 0, 0, 0, 0, 0, 0, 0, 0, 0, 0, 0, 0, 0, 0], [0, 0, 0, 0, 0, 0, 0, 0, 0, 0, 0, 0, 0, 0, 0, 0, 0, 0, 0, 0, 0, 0, 0, 0, 0, 0, 0], [0, 0, 0, 0, 0, 0, 0, 0, 0, 0, 0, 0, 0, 0, 0, 0, 0, 0, 0, 0, 0, 0, 0, 0, 0, 0, 0], [0, 0, 0, 0, 0, 0, 0, 0, 0, 0, 4, 0, 0, 0, 0, 0, 0, 0, 0, 0, 0, 0, 0, 0, 0, 0, 0]], 'output': [[0, 0, 0, 0, 0, 3, 0, 0, 0, 0, 4, 0, 0, 0, 0, 3, 0, 0, 0, 0, 4, 0, 0, 0, 0, 3, 0], [0, 0, 0, 0, 0, 3, 0, 0, 0, 0, 4, 0, 0, 0, 0, 3, 0, 0, 0, 0, 4, 0, 0, 0, 0, 3, 0], [0, 0, 0, 0, 0, 3, 0, 0, 0, 0, 4, 0, 0, 0, 0, 3, 0, 0, 0, 0, 4, 0, 0, 0, 0, 3, 0], [0, 0, 0, 0, 0, 3, 0, 0, 0, 0, 4, 0, 0, 0, 0, 3, 0, 0, 0, 0, 4, 0, 0, 0, 0, 3, 0], [0, 0, 0, 0, 0, 3, 0, 0, 0, 0, 4, 0, 0, 0, 0, 3, 0, 0, 0, 0, 4, 0, 0, 0, 0, 3, 0], [0, 0, 0, 0, 0, 3, 0, 0, 0, 0, 4, 0, 0, 0, 0, 3, 0, 0, 0, 0, 4, 0, 0, 0, 0, 3, 0], [0, 0, 0, 0, 0, 3, 0, 0, 0, 0, 4, 0, 0, 0, 0, 3, 0, 0, 0, 0, 4, 0, 0, 0, 0, 3, 0], [0, 0, 0, 0, 0, 3, 0, 0, 0, 0, 4, 0, 0, 0, 0, 3, 0, 0, 0, 0, 4, 0, 0, 0, 0, 3, 0], [0, 0, 0, 0, 0, 3, 0, 0, 0, 0, 4, 0, 0, 0, 0, 3, 0, 0, 0, 0, 4, 0, 0, 0, 0, 3, 0], [0, 0, 0, 0, 0, 3, 0, 0, 0, 0, 4, 0, 0, 0, 0, 3, 0, 0, 0, 0, 4, 0, 0, 0, 0, 3, 0], [0, 0, 0, 0, 0, 3, 0, 0, 0, 0, 4, 0, 0, 0, 0, 3, 0, 0, 0, 0, 4, 0, 0, 0, 0, 3, 0]]}]}\n"
     ]
    }
   ],
   "source": [
    "import json\n",
    "\n",
    "with open(\"./ARC-AGI-master/data/training/0a938d79.json\") as f:\n",
    "    some_file = json.load(f)\n",
    "    print(some_file)"
   ],
   "metadata": {
    "collapsed": false,
    "ExecuteTime": {
     "end_time": "2024-09-20T03:13:21.560265Z",
     "start_time": "2024-09-20T03:13:21.553843Z"
    }
   },
   "id": "e28cfd8749892820"
  },
  {
   "cell_type": "code",
   "execution_count": 2,
   "outputs": [],
   "source": [
    "# reusing code from earlier\n",
    "from transformers import AutoTokenizer, AutoModelForCausalLM, BitsAndBytesConfig, pipeline\n",
    "import torch"
   ],
   "metadata": {
    "collapsed": false,
    "ExecuteTime": {
     "end_time": "2024-09-19T22:17:06.865434Z",
     "start_time": "2024-09-19T22:17:03.262761Z"
    }
   },
   "id": "fac206025c5280a6"
  },
  {
   "cell_type": "code",
   "execution_count": 6,
   "outputs": [
    {
     "data": {
      "text/plain": "Loading checkpoint shards:   0%|          | 0/2 [00:00<?, ?it/s]",
      "application/vnd.jupyter.widget-view+json": {
       "version_major": 2,
       "version_minor": 0,
       "model_id": "41f64a715c3644e5a7624388eba1d58c"
      }
     },
     "metadata": {},
     "output_type": "display_data"
    },
    {
     "ename": "KeyboardInterrupt",
     "evalue": "",
     "output_type": "error",
     "traceback": [
      "\u001B[0;31m---------------------------------------------------------------------------\u001B[0m",
      "\u001B[0;31mKeyboardInterrupt\u001B[0m                         Traceback (most recent call last)",
      "Cell \u001B[0;32mIn[6], line 4\u001B[0m\n\u001B[1;32m      1\u001B[0m model_name \u001B[38;5;241m=\u001B[39m \u001B[38;5;124m\"\u001B[39m\u001B[38;5;124mmistralai/Mistral-7B-v0.1\u001B[39m\u001B[38;5;124m\"\u001B[39m\n\u001B[1;32m      3\u001B[0m tokenizer \u001B[38;5;241m=\u001B[39m AutoTokenizer\u001B[38;5;241m.\u001B[39mfrom_pretrained(model_name)\n\u001B[0;32m----> 4\u001B[0m model \u001B[38;5;241m=\u001B[39m \u001B[43mAutoModelForCausalLM\u001B[49m\u001B[38;5;241;43m.\u001B[39;49m\u001B[43mfrom_pretrained\u001B[49m\u001B[43m(\u001B[49m\n\u001B[1;32m      5\u001B[0m \u001B[43m        \u001B[49m\u001B[43mmodel_name\u001B[49m\u001B[43m,\u001B[49m\n\u001B[1;32m      6\u001B[0m \u001B[43m        \u001B[49m\u001B[38;5;66;43;03m#load_in_4bit=True,\u001B[39;49;00m\n\u001B[1;32m      7\u001B[0m \u001B[43m        \u001B[49m\u001B[38;5;66;43;03m#quantization_config=bnb_config,\u001B[39;49;00m\n\u001B[1;32m      8\u001B[0m \u001B[43m        \u001B[49m\u001B[43mtorch_dtype\u001B[49m\u001B[38;5;241;43m=\u001B[39;49m\u001B[43mtorch\u001B[49m\u001B[38;5;241;43m.\u001B[39;49m\u001B[43mfloat16\u001B[49m\u001B[43m,\u001B[49m\u001B[43m \u001B[49m\u001B[38;5;66;43;03m#bfloat if quantization was working\u001B[39;49;00m\n\u001B[1;32m      9\u001B[0m \u001B[43m        \u001B[49m\u001B[43mdevice_map\u001B[49m\u001B[38;5;241;43m=\u001B[39;49m\u001B[38;5;124;43m\"\u001B[39;49m\u001B[38;5;124;43mmps\u001B[39;49m\u001B[38;5;124;43m\"\u001B[39;49m\u001B[43m,\u001B[49m\n\u001B[1;32m     10\u001B[0m \u001B[43m        \u001B[49m\u001B[38;5;66;43;03m#trust_remote_code=True,\u001B[39;49;00m\n\u001B[1;32m     11\u001B[0m \u001B[43m    \u001B[49m\u001B[43m)\u001B[49m\n",
      "File \u001B[0;32m~/PycharmProjects/fastexps/venv/lib/python3.11/site-packages/transformers/models/auto/auto_factory.py:564\u001B[0m, in \u001B[0;36m_BaseAutoModelClass.from_pretrained\u001B[0;34m(cls, pretrained_model_name_or_path, *model_args, **kwargs)\u001B[0m\n\u001B[1;32m    562\u001B[0m \u001B[38;5;28;01melif\u001B[39;00m \u001B[38;5;28mtype\u001B[39m(config) \u001B[38;5;129;01min\u001B[39;00m \u001B[38;5;28mcls\u001B[39m\u001B[38;5;241m.\u001B[39m_model_mapping\u001B[38;5;241m.\u001B[39mkeys():\n\u001B[1;32m    563\u001B[0m     model_class \u001B[38;5;241m=\u001B[39m _get_model_class(config, \u001B[38;5;28mcls\u001B[39m\u001B[38;5;241m.\u001B[39m_model_mapping)\n\u001B[0;32m--> 564\u001B[0m     \u001B[38;5;28;01mreturn\u001B[39;00m \u001B[43mmodel_class\u001B[49m\u001B[38;5;241;43m.\u001B[39;49m\u001B[43mfrom_pretrained\u001B[49m\u001B[43m(\u001B[49m\n\u001B[1;32m    565\u001B[0m \u001B[43m        \u001B[49m\u001B[43mpretrained_model_name_or_path\u001B[49m\u001B[43m,\u001B[49m\u001B[43m \u001B[49m\u001B[38;5;241;43m*\u001B[39;49m\u001B[43mmodel_args\u001B[49m\u001B[43m,\u001B[49m\u001B[43m \u001B[49m\u001B[43mconfig\u001B[49m\u001B[38;5;241;43m=\u001B[39;49m\u001B[43mconfig\u001B[49m\u001B[43m,\u001B[49m\u001B[43m \u001B[49m\u001B[38;5;241;43m*\u001B[39;49m\u001B[38;5;241;43m*\u001B[39;49m\u001B[43mhub_kwargs\u001B[49m\u001B[43m,\u001B[49m\u001B[43m \u001B[49m\u001B[38;5;241;43m*\u001B[39;49m\u001B[38;5;241;43m*\u001B[39;49m\u001B[43mkwargs\u001B[49m\n\u001B[1;32m    566\u001B[0m \u001B[43m    \u001B[49m\u001B[43m)\u001B[49m\n\u001B[1;32m    567\u001B[0m \u001B[38;5;28;01mraise\u001B[39;00m \u001B[38;5;167;01mValueError\u001B[39;00m(\n\u001B[1;32m    568\u001B[0m     \u001B[38;5;124mf\u001B[39m\u001B[38;5;124m\"\u001B[39m\u001B[38;5;124mUnrecognized configuration class \u001B[39m\u001B[38;5;132;01m{\u001B[39;00mconfig\u001B[38;5;241m.\u001B[39m\u001B[38;5;18m__class__\u001B[39m\u001B[38;5;132;01m}\u001B[39;00m\u001B[38;5;124m for this kind of AutoModel: \u001B[39m\u001B[38;5;132;01m{\u001B[39;00m\u001B[38;5;28mcls\u001B[39m\u001B[38;5;241m.\u001B[39m\u001B[38;5;18m__name__\u001B[39m\u001B[38;5;132;01m}\u001B[39;00m\u001B[38;5;124m.\u001B[39m\u001B[38;5;130;01m\\n\u001B[39;00m\u001B[38;5;124m\"\u001B[39m\n\u001B[1;32m    569\u001B[0m     \u001B[38;5;124mf\u001B[39m\u001B[38;5;124m\"\u001B[39m\u001B[38;5;124mModel type should be one of \u001B[39m\u001B[38;5;132;01m{\u001B[39;00m\u001B[38;5;124m'\u001B[39m\u001B[38;5;124m, \u001B[39m\u001B[38;5;124m'\u001B[39m\u001B[38;5;241m.\u001B[39mjoin(c\u001B[38;5;241m.\u001B[39m\u001B[38;5;18m__name__\u001B[39m\u001B[38;5;250m \u001B[39m\u001B[38;5;28;01mfor\u001B[39;00m\u001B[38;5;250m \u001B[39mc\u001B[38;5;250m \u001B[39m\u001B[38;5;129;01min\u001B[39;00m\u001B[38;5;250m \u001B[39m\u001B[38;5;28mcls\u001B[39m\u001B[38;5;241m.\u001B[39m_model_mapping\u001B[38;5;241m.\u001B[39mkeys())\u001B[38;5;132;01m}\u001B[39;00m\u001B[38;5;124m.\u001B[39m\u001B[38;5;124m\"\u001B[39m\n\u001B[1;32m    570\u001B[0m )\n",
      "File \u001B[0;32m~/PycharmProjects/fastexps/venv/lib/python3.11/site-packages/transformers/modeling_utils.py:3960\u001B[0m, in \u001B[0;36mPreTrainedModel.from_pretrained\u001B[0;34m(cls, pretrained_model_name_or_path, config, cache_dir, ignore_mismatched_sizes, force_download, local_files_only, token, revision, use_safetensors, *model_args, **kwargs)\u001B[0m\n\u001B[1;32m   3950\u001B[0m     \u001B[38;5;28;01mif\u001B[39;00m dtype_orig \u001B[38;5;129;01mis\u001B[39;00m \u001B[38;5;129;01mnot\u001B[39;00m \u001B[38;5;28;01mNone\u001B[39;00m:\n\u001B[1;32m   3951\u001B[0m         torch\u001B[38;5;241m.\u001B[39mset_default_dtype(dtype_orig)\n\u001B[1;32m   3953\u001B[0m     (\n\u001B[1;32m   3954\u001B[0m         model,\n\u001B[1;32m   3955\u001B[0m         missing_keys,\n\u001B[1;32m   3956\u001B[0m         unexpected_keys,\n\u001B[1;32m   3957\u001B[0m         mismatched_keys,\n\u001B[1;32m   3958\u001B[0m         offload_index,\n\u001B[1;32m   3959\u001B[0m         error_msgs,\n\u001B[0;32m-> 3960\u001B[0m     ) \u001B[38;5;241m=\u001B[39m \u001B[38;5;28;43mcls\u001B[39;49m\u001B[38;5;241;43m.\u001B[39;49m\u001B[43m_load_pretrained_model\u001B[49m\u001B[43m(\u001B[49m\n\u001B[1;32m   3961\u001B[0m \u001B[43m        \u001B[49m\u001B[43mmodel\u001B[49m\u001B[43m,\u001B[49m\n\u001B[1;32m   3962\u001B[0m \u001B[43m        \u001B[49m\u001B[43mstate_dict\u001B[49m\u001B[43m,\u001B[49m\n\u001B[1;32m   3963\u001B[0m \u001B[43m        \u001B[49m\u001B[43mloaded_state_dict_keys\u001B[49m\u001B[43m,\u001B[49m\u001B[43m  \u001B[49m\u001B[38;5;66;43;03m# XXX: rename?\u001B[39;49;00m\n\u001B[1;32m   3964\u001B[0m \u001B[43m        \u001B[49m\u001B[43mresolved_archive_file\u001B[49m\u001B[43m,\u001B[49m\n\u001B[1;32m   3965\u001B[0m \u001B[43m        \u001B[49m\u001B[43mpretrained_model_name_or_path\u001B[49m\u001B[43m,\u001B[49m\n\u001B[1;32m   3966\u001B[0m \u001B[43m        \u001B[49m\u001B[43mignore_mismatched_sizes\u001B[49m\u001B[38;5;241;43m=\u001B[39;49m\u001B[43mignore_mismatched_sizes\u001B[49m\u001B[43m,\u001B[49m\n\u001B[1;32m   3967\u001B[0m \u001B[43m        \u001B[49m\u001B[43msharded_metadata\u001B[49m\u001B[38;5;241;43m=\u001B[39;49m\u001B[43msharded_metadata\u001B[49m\u001B[43m,\u001B[49m\n\u001B[1;32m   3968\u001B[0m \u001B[43m        \u001B[49m\u001B[43m_fast_init\u001B[49m\u001B[38;5;241;43m=\u001B[39;49m\u001B[43m_fast_init\u001B[49m\u001B[43m,\u001B[49m\n\u001B[1;32m   3969\u001B[0m \u001B[43m        \u001B[49m\u001B[43mlow_cpu_mem_usage\u001B[49m\u001B[38;5;241;43m=\u001B[39;49m\u001B[43mlow_cpu_mem_usage\u001B[49m\u001B[43m,\u001B[49m\n\u001B[1;32m   3970\u001B[0m \u001B[43m        \u001B[49m\u001B[43mdevice_map\u001B[49m\u001B[38;5;241;43m=\u001B[39;49m\u001B[43mdevice_map\u001B[49m\u001B[43m,\u001B[49m\n\u001B[1;32m   3971\u001B[0m \u001B[43m        \u001B[49m\u001B[43moffload_folder\u001B[49m\u001B[38;5;241;43m=\u001B[39;49m\u001B[43moffload_folder\u001B[49m\u001B[43m,\u001B[49m\n\u001B[1;32m   3972\u001B[0m \u001B[43m        \u001B[49m\u001B[43moffload_state_dict\u001B[49m\u001B[38;5;241;43m=\u001B[39;49m\u001B[43moffload_state_dict\u001B[49m\u001B[43m,\u001B[49m\n\u001B[1;32m   3973\u001B[0m \u001B[43m        \u001B[49m\u001B[43mdtype\u001B[49m\u001B[38;5;241;43m=\u001B[39;49m\u001B[43mtorch_dtype\u001B[49m\u001B[43m,\u001B[49m\n\u001B[1;32m   3974\u001B[0m \u001B[43m        \u001B[49m\u001B[43mhf_quantizer\u001B[49m\u001B[38;5;241;43m=\u001B[39;49m\u001B[43mhf_quantizer\u001B[49m\u001B[43m,\u001B[49m\n\u001B[1;32m   3975\u001B[0m \u001B[43m        \u001B[49m\u001B[43mkeep_in_fp32_modules\u001B[49m\u001B[38;5;241;43m=\u001B[39;49m\u001B[43mkeep_in_fp32_modules\u001B[49m\u001B[43m,\u001B[49m\n\u001B[1;32m   3976\u001B[0m \u001B[43m        \u001B[49m\u001B[43mgguf_path\u001B[49m\u001B[38;5;241;43m=\u001B[39;49m\u001B[43mgguf_path\u001B[49m\u001B[43m,\u001B[49m\n\u001B[1;32m   3977\u001B[0m \u001B[43m    \u001B[49m\u001B[43m)\u001B[49m\n\u001B[1;32m   3979\u001B[0m \u001B[38;5;66;03m# make sure token embedding weights are still tied if needed\u001B[39;00m\n\u001B[1;32m   3980\u001B[0m model\u001B[38;5;241m.\u001B[39mtie_weights()\n",
      "File \u001B[0;32m~/PycharmProjects/fastexps/venv/lib/python3.11/site-packages/transformers/modeling_utils.py:4434\u001B[0m, in \u001B[0;36mPreTrainedModel._load_pretrained_model\u001B[0;34m(cls, model, state_dict, loaded_keys, resolved_archive_file, pretrained_model_name_or_path, ignore_mismatched_sizes, sharded_metadata, _fast_init, low_cpu_mem_usage, device_map, offload_folder, offload_state_dict, dtype, hf_quantizer, keep_in_fp32_modules, gguf_path)\u001B[0m\n\u001B[1;32m   4430\u001B[0m                 set_module_tensor_to_device(\n\u001B[1;32m   4431\u001B[0m                     model_to_load, key, \u001B[38;5;124m\"\u001B[39m\u001B[38;5;124mcpu\u001B[39m\u001B[38;5;124m\"\u001B[39m, torch\u001B[38;5;241m.\u001B[39mempty(\u001B[38;5;241m*\u001B[39mparam\u001B[38;5;241m.\u001B[39msize(), dtype\u001B[38;5;241m=\u001B[39mdtype)\n\u001B[1;32m   4432\u001B[0m                 )\n\u001B[1;32m   4433\u001B[0m     \u001B[38;5;28;01melse\u001B[39;00m:\n\u001B[0;32m-> 4434\u001B[0m         new_error_msgs, offload_index, state_dict_index \u001B[38;5;241m=\u001B[39m \u001B[43m_load_state_dict_into_meta_model\u001B[49m\u001B[43m(\u001B[49m\n\u001B[1;32m   4435\u001B[0m \u001B[43m            \u001B[49m\u001B[43mmodel_to_load\u001B[49m\u001B[43m,\u001B[49m\n\u001B[1;32m   4436\u001B[0m \u001B[43m            \u001B[49m\u001B[43mstate_dict\u001B[49m\u001B[43m,\u001B[49m\n\u001B[1;32m   4437\u001B[0m \u001B[43m            \u001B[49m\u001B[43mloaded_keys\u001B[49m\u001B[43m,\u001B[49m\n\u001B[1;32m   4438\u001B[0m \u001B[43m            \u001B[49m\u001B[43mstart_prefix\u001B[49m\u001B[43m,\u001B[49m\n\u001B[1;32m   4439\u001B[0m \u001B[43m            \u001B[49m\u001B[43mexpected_keys\u001B[49m\u001B[43m,\u001B[49m\n\u001B[1;32m   4440\u001B[0m \u001B[43m            \u001B[49m\u001B[43mdevice_map\u001B[49m\u001B[38;5;241;43m=\u001B[39;49m\u001B[43mdevice_map\u001B[49m\u001B[43m,\u001B[49m\n\u001B[1;32m   4441\u001B[0m \u001B[43m            \u001B[49m\u001B[43moffload_folder\u001B[49m\u001B[38;5;241;43m=\u001B[39;49m\u001B[43moffload_folder\u001B[49m\u001B[43m,\u001B[49m\n\u001B[1;32m   4442\u001B[0m \u001B[43m            \u001B[49m\u001B[43moffload_index\u001B[49m\u001B[38;5;241;43m=\u001B[39;49m\u001B[43moffload_index\u001B[49m\u001B[43m,\u001B[49m\n\u001B[1;32m   4443\u001B[0m \u001B[43m            \u001B[49m\u001B[43mstate_dict_folder\u001B[49m\u001B[38;5;241;43m=\u001B[39;49m\u001B[43mstate_dict_folder\u001B[49m\u001B[43m,\u001B[49m\n\u001B[1;32m   4444\u001B[0m \u001B[43m            \u001B[49m\u001B[43mstate_dict_index\u001B[49m\u001B[38;5;241;43m=\u001B[39;49m\u001B[43mstate_dict_index\u001B[49m\u001B[43m,\u001B[49m\n\u001B[1;32m   4445\u001B[0m \u001B[43m            \u001B[49m\u001B[43mdtype\u001B[49m\u001B[38;5;241;43m=\u001B[39;49m\u001B[43mdtype\u001B[49m\u001B[43m,\u001B[49m\n\u001B[1;32m   4446\u001B[0m \u001B[43m            \u001B[49m\u001B[43mhf_quantizer\u001B[49m\u001B[38;5;241;43m=\u001B[39;49m\u001B[43mhf_quantizer\u001B[49m\u001B[43m,\u001B[49m\n\u001B[1;32m   4447\u001B[0m \u001B[43m            \u001B[49m\u001B[43mis_safetensors\u001B[49m\u001B[38;5;241;43m=\u001B[39;49m\u001B[43mis_safetensors\u001B[49m\u001B[43m,\u001B[49m\n\u001B[1;32m   4448\u001B[0m \u001B[43m            \u001B[49m\u001B[43mkeep_in_fp32_modules\u001B[49m\u001B[38;5;241;43m=\u001B[39;49m\u001B[43mkeep_in_fp32_modules\u001B[49m\u001B[43m,\u001B[49m\n\u001B[1;32m   4449\u001B[0m \u001B[43m            \u001B[49m\u001B[43munexpected_keys\u001B[49m\u001B[38;5;241;43m=\u001B[39;49m\u001B[43munexpected_keys\u001B[49m\u001B[43m,\u001B[49m\n\u001B[1;32m   4450\u001B[0m \u001B[43m        \u001B[49m\u001B[43m)\u001B[49m\n\u001B[1;32m   4451\u001B[0m         error_msgs \u001B[38;5;241m+\u001B[39m\u001B[38;5;241m=\u001B[39m new_error_msgs\n\u001B[1;32m   4452\u001B[0m \u001B[38;5;28;01melse\u001B[39;00m:\n\u001B[1;32m   4453\u001B[0m     \u001B[38;5;66;03m# Sharded checkpoint or whole but low_cpu_mem_usage==True\u001B[39;00m\n",
      "File \u001B[0;32m~/PycharmProjects/fastexps/venv/lib/python3.11/site-packages/transformers/modeling_utils.py:914\u001B[0m, in \u001B[0;36m_load_state_dict_into_meta_model\u001B[0;34m(model, state_dict, loaded_state_dict_keys, start_prefix, expected_keys, device_map, offload_folder, offload_index, state_dict_folder, state_dict_index, dtype, hf_quantizer, is_safetensors, keep_in_fp32_modules, unexpected_keys, pretrained_model_name_or_path)\u001B[0m\n\u001B[1;32m    912\u001B[0m             set_module_kwargs[\u001B[38;5;124m\"\u001B[39m\u001B[38;5;124mdtype\u001B[39m\u001B[38;5;124m\"\u001B[39m] \u001B[38;5;241m=\u001B[39m torch\u001B[38;5;241m.\u001B[39mfloat32\n\u001B[1;32m    913\u001B[0m     \u001B[38;5;28;01melse\u001B[39;00m:\n\u001B[0;32m--> 914\u001B[0m         param \u001B[38;5;241m=\u001B[39m \u001B[43mparam\u001B[49m\u001B[38;5;241;43m.\u001B[39;49m\u001B[43mto\u001B[49m\u001B[43m(\u001B[49m\u001B[43mdtype\u001B[49m\u001B[43m)\u001B[49m\n\u001B[1;32m    916\u001B[0m \u001B[38;5;66;03m# For compatibility with PyTorch load_state_dict which converts state dict dtype to existing dtype in model, and which\u001B[39;00m\n\u001B[1;32m    917\u001B[0m \u001B[38;5;66;03m# uses `param.copy_(input_param)` that preserves the contiguity of the parameter in the model.\u001B[39;00m\n\u001B[1;32m    918\u001B[0m \u001B[38;5;66;03m# Reference: https://github.com/pytorch/pytorch/blob/db79ceb110f6646523019a59bbd7b838f43d4a86/torch/nn/modules/module.py#L2040C29-L2040C29\u001B[39;00m\n\u001B[1;32m    919\u001B[0m old_param \u001B[38;5;241m=\u001B[39m model\n",
      "\u001B[0;31mKeyboardInterrupt\u001B[0m: "
     ]
    }
   ],
   "source": [
    "model_name = \"mistralai/Mistral-7B-v0.1\"\n",
    "\n",
    "tokenizer = AutoTokenizer.from_pretrained(model_name)\n",
    "model = AutoModelForCausalLM.from_pretrained(\n",
    "        model_name,\n",
    "        #load_in_4bit=True,\n",
    "        #quantization_config=bnb_config,\n",
    "        torch_dtype=torch.float16, #bfloat if quantization was working\n",
    "        device_map=\"mps\",\n",
    "        #trust_remote_code=True,\n",
    "    )"
   ],
   "metadata": {
    "collapsed": false,
    "ExecuteTime": {
     "end_time": "2024-09-18T21:21:01.254879Z",
     "start_time": "2024-09-18T21:20:58.212084Z"
    }
   },
   "id": "b1c36ad2cb01410f"
  },
  {
   "cell_type": "code",
   "execution_count": null,
   "outputs": [],
   "source": [
    "params_7b = model.num_parameters() / 1_000_000\n",
    "print(round(params_7b), \"million\")"
   ],
   "metadata": {
    "collapsed": false,
    "ExecuteTime": {
     "end_time": "2024-09-18T21:21:01.259182Z",
     "start_time": "2024-09-18T21:21:01.255575Z"
    }
   },
   "id": "5032e24d5850f170"
  },
  {
   "cell_type": "code",
   "execution_count": 3,
   "outputs": [
    {
     "name": "stdout",
     "output_type": "stream",
     "text": [
      "['./ARC-AGI-master/data/training/a85d4709.json', './ARC-AGI-master/data/training/c8cbb738.json', './ARC-AGI-master/data/training/8e1813be.json', './ARC-AGI-master/data/training/a699fb00.json', './ARC-AGI-master/data/training/5c2c9af4.json', './ARC-AGI-master/data/training/44f52bb0.json', './ARC-AGI-master/data/training/23581191.json', './ARC-AGI-master/data/training/94f9d214.json', './ARC-AGI-master/data/training/f9012d9b.json', './ARC-AGI-master/data/training/4258a5f9.json', './ARC-AGI-master/data/training/bdad9b1f.json', './ARC-AGI-master/data/training/d06dbe63.json', './ARC-AGI-master/data/training/8403a5d5.json', './ARC-AGI-master/data/training/67e8384a.json', './ARC-AGI-master/data/training/8731374e.json', './ARC-AGI-master/data/training/25ff71a9.json', './ARC-AGI-master/data/training/ecdecbb3.json', './ARC-AGI-master/data/training/6e19193c.json', './ARC-AGI-master/data/training/39e1d7f9.json', './ARC-AGI-master/data/training/ba97ae07.json', './ARC-AGI-master/data/training/99b1bc43.json', './ARC-AGI-master/data/training/77fdfe62.json', './ARC-AGI-master/data/training/50cb2852.json', './ARC-AGI-master/data/training/4c5c2cf0.json', './ARC-AGI-master/data/training/d5d6de2d.json', './ARC-AGI-master/data/training/b91ae062.json', './ARC-AGI-master/data/training/d037b0a7.json', './ARC-AGI-master/data/training/93b581b8.json', './ARC-AGI-master/data/training/025d127b.json', './ARC-AGI-master/data/training/d2abd087.json', './ARC-AGI-master/data/training/017c7c7b.json', './ARC-AGI-master/data/training/28bf18c6.json', './ARC-AGI-master/data/training/9f236235.json', './ARC-AGI-master/data/training/c3e719e8.json', './ARC-AGI-master/data/training/264363fd.json', './ARC-AGI-master/data/training/6855a6e4.json', './ARC-AGI-master/data/training/f8c80d96.json', './ARC-AGI-master/data/training/7837ac64.json', './ARC-AGI-master/data/training/a68b268e.json', './ARC-AGI-master/data/training/5c0a986e.json', './ARC-AGI-master/data/training/890034e9.json', './ARC-AGI-master/data/training/6773b310.json', './ARC-AGI-master/data/training/49d1d64f.json', './ARC-AGI-master/data/training/6cdd2623.json', './ARC-AGI-master/data/training/36d67576.json', './ARC-AGI-master/data/training/ed36ccf7.json', './ARC-AGI-master/data/training/d8c310e9.json', './ARC-AGI-master/data/training/1f876c06.json', './ARC-AGI-master/data/training/b60334d2.json', './ARC-AGI-master/data/training/6c434453.json', './ARC-AGI-master/data/training/810b9b61.json', './ARC-AGI-master/data/training/1c786137.json', './ARC-AGI-master/data/training/74dd1130.json', './ARC-AGI-master/data/training/ded97339.json', './ARC-AGI-master/data/training/aedd82e4.json', './ARC-AGI-master/data/training/5614dbcf.json', './ARC-AGI-master/data/training/d22278a0.json', './ARC-AGI-master/data/training/d406998b.json', './ARC-AGI-master/data/training/a5313dff.json', './ARC-AGI-master/data/training/6150a2bd.json', './ARC-AGI-master/data/training/97a05b5b.json', './ARC-AGI-master/data/training/dbc1a6ce.json', './ARC-AGI-master/data/training/3bd67248.json', './ARC-AGI-master/data/training/e9afcf9a.json', './ARC-AGI-master/data/training/d364b489.json', './ARC-AGI-master/data/training/2013d3e2.json', './ARC-AGI-master/data/training/2dc579da.json', './ARC-AGI-master/data/training/ec883f72.json', './ARC-AGI-master/data/training/2281f1f4.json', './ARC-AGI-master/data/training/68b16354.json', './ARC-AGI-master/data/training/a78176bb.json', './ARC-AGI-master/data/training/1a07d186.json', './ARC-AGI-master/data/training/32597951.json', './ARC-AGI-master/data/training/be94b721.json', './ARC-AGI-master/data/training/cf98881b.json', './ARC-AGI-master/data/training/6455b5f5.json', './ARC-AGI-master/data/training/54d9e175.json', './ARC-AGI-master/data/training/363442ee.json', './ARC-AGI-master/data/training/91714a58.json', './ARC-AGI-master/data/training/a1570a43.json', './ARC-AGI-master/data/training/a87f7484.json', './ARC-AGI-master/data/training/6430c8c4.json', './ARC-AGI-master/data/training/90f3ed37.json', './ARC-AGI-master/data/training/a5f85a15.json', './ARC-AGI-master/data/training/95990924.json', './ARC-AGI-master/data/training/c909285e.json', './ARC-AGI-master/data/training/a3325580.json', './ARC-AGI-master/data/training/b94a9452.json', './ARC-AGI-master/data/training/d631b094.json', './ARC-AGI-master/data/training/539a4f51.json', './ARC-AGI-master/data/training/6d0aefbc.json', './ARC-AGI-master/data/training/e179c5f4.json', './ARC-AGI-master/data/training/623ea044.json', './ARC-AGI-master/data/training/a8c38be5.json', './ARC-AGI-master/data/training/72322fa7.json', './ARC-AGI-master/data/training/29623171.json', './ARC-AGI-master/data/training/d13f3404.json', './ARC-AGI-master/data/training/6e82a1ae.json', './ARC-AGI-master/data/training/b548a754.json', './ARC-AGI-master/data/training/7ddcd7ec.json', './ARC-AGI-master/data/training/7468f01a.json', './ARC-AGI-master/data/training/29c11459.json', './ARC-AGI-master/data/training/2dd70a9a.json', './ARC-AGI-master/data/training/db3e9e38.json', './ARC-AGI-master/data/training/8f2ea7aa.json', './ARC-AGI-master/data/training/6fa7a44f.json', './ARC-AGI-master/data/training/776ffc46.json', './ARC-AGI-master/data/training/cbded52d.json', './ARC-AGI-master/data/training/97999447.json', './ARC-AGI-master/data/training/846bdb03.json', './ARC-AGI-master/data/training/8d510a79.json', './ARC-AGI-master/data/training/f25ffba3.json', './ARC-AGI-master/data/training/c1d99e64.json', './ARC-AGI-master/data/training/25d487eb.json', './ARC-AGI-master/data/training/484b58aa.json', './ARC-AGI-master/data/training/ddf7fa4f.json', './ARC-AGI-master/data/training/3906de3d.json', './ARC-AGI-master/data/training/7447852a.json', './ARC-AGI-master/data/training/c9f8e694.json', './ARC-AGI-master/data/training/e3497940.json', './ARC-AGI-master/data/training/46442a0e.json', './ARC-AGI-master/data/training/c3f564a4.json', './ARC-AGI-master/data/training/d0f5fe59.json', './ARC-AGI-master/data/training/4290ef0e.json', './ARC-AGI-master/data/training/d6ad076f.json', './ARC-AGI-master/data/training/db93a21d.json', './ARC-AGI-master/data/training/67a423a3.json', './ARC-AGI-master/data/training/1190e5a7.json', './ARC-AGI-master/data/training/6e02f1e3.json', './ARC-AGI-master/data/training/b190f7f5.json', './ARC-AGI-master/data/training/f76d97a5.json', './ARC-AGI-master/data/training/3af2c5a8.json', './ARC-AGI-master/data/training/239be575.json', './ARC-AGI-master/data/training/b8cdaf2b.json', './ARC-AGI-master/data/training/dc0a314f.json', './ARC-AGI-master/data/training/dc433765.json', './ARC-AGI-master/data/training/1e0a9b12.json', './ARC-AGI-master/data/training/10fcaaa3.json', './ARC-AGI-master/data/training/56dc2b01.json', './ARC-AGI-master/data/training/4093f84a.json', './ARC-AGI-master/data/training/508bd3b6.json', './ARC-AGI-master/data/training/62c24649.json', './ARC-AGI-master/data/training/de1cd16c.json', './ARC-AGI-master/data/training/913fb3ed.json', './ARC-AGI-master/data/training/662c240a.json', './ARC-AGI-master/data/training/fafffa47.json', './ARC-AGI-master/data/training/7e0986d6.json', './ARC-AGI-master/data/training/941d9a10.json', './ARC-AGI-master/data/training/6b9890af.json', './ARC-AGI-master/data/training/ff28f65a.json', './ARC-AGI-master/data/training/80af3007.json', './ARC-AGI-master/data/training/b27ca6d3.json', './ARC-AGI-master/data/training/f8b3ba0a.json', './ARC-AGI-master/data/training/150deff5.json', './ARC-AGI-master/data/training/952a094c.json', './ARC-AGI-master/data/training/1b2d62fb.json', './ARC-AGI-master/data/training/928ad970.json', './ARC-AGI-master/data/training/d89b689b.json', './ARC-AGI-master/data/training/3de23699.json', './ARC-AGI-master/data/training/e21d9049.json', './ARC-AGI-master/data/training/ba26e723.json', './ARC-AGI-master/data/training/6a1e5592.json', './ARC-AGI-master/data/training/39a8645d.json', './ARC-AGI-master/data/training/56ff96f3.json', './ARC-AGI-master/data/training/a2fd1cf0.json', './ARC-AGI-master/data/training/a9f96cdd.json', './ARC-AGI-master/data/training/ae4f1146.json', './ARC-AGI-master/data/training/22233c11.json', './ARC-AGI-master/data/training/780d0b14.json', './ARC-AGI-master/data/training/3e980e27.json', './ARC-AGI-master/data/training/1e32b0e9.json', './ARC-AGI-master/data/training/7f4411dc.json', './ARC-AGI-master/data/training/4347f46a.json', './ARC-AGI-master/data/training/6aa20dc0.json', './ARC-AGI-master/data/training/253bf280.json', './ARC-AGI-master/data/training/a8d7556c.json', './ARC-AGI-master/data/training/1f85a75f.json', './ARC-AGI-master/data/training/ce4f8723.json', './ARC-AGI-master/data/training/05f2a901.json', './ARC-AGI-master/data/training/3c9b0459.json', './ARC-AGI-master/data/training/90c28cc7.json', './ARC-AGI-master/data/training/2dee498d.json', './ARC-AGI-master/data/training/3ac3eb23.json', './ARC-AGI-master/data/training/5168d44c.json', './ARC-AGI-master/data/training/f1cefba8.json', './ARC-AGI-master/data/training/a3df8b1e.json', './ARC-AGI-master/data/training/e6721834.json', './ARC-AGI-master/data/training/6d0160f0.json', './ARC-AGI-master/data/training/6cf79266.json', './ARC-AGI-master/data/training/cce03e0d.json', './ARC-AGI-master/data/training/7b6016b9.json', './ARC-AGI-master/data/training/6d75e8bb.json', './ARC-AGI-master/data/training/e9614598.json', './ARC-AGI-master/data/training/08ed6ac7.json', './ARC-AGI-master/data/training/67385a82.json', './ARC-AGI-master/data/training/22eb0ac0.json', './ARC-AGI-master/data/training/25d8a9c8.json', './ARC-AGI-master/data/training/bda2d7a6.json', './ARC-AGI-master/data/training/b775ac94.json', './ARC-AGI-master/data/training/d43fd935.json', './ARC-AGI-master/data/training/cdecee7f.json', './ARC-AGI-master/data/training/c9e6f938.json', './ARC-AGI-master/data/training/9565186b.json', './ARC-AGI-master/data/training/1b60fb0c.json', './ARC-AGI-master/data/training/fcc82909.json', './ARC-AGI-master/data/training/178fcbfb.json', './ARC-AGI-master/data/training/72ca375d.json', './ARC-AGI-master/data/training/4be741c5.json', './ARC-AGI-master/data/training/3bdb4ada.json', './ARC-AGI-master/data/training/27a28665.json', './ARC-AGI-master/data/training/0520fde7.json', './ARC-AGI-master/data/training/f5b8619d.json', './ARC-AGI-master/data/training/a61f2674.json', './ARC-AGI-master/data/training/5521c0d9.json', './ARC-AGI-master/data/training/1caeab9d.json', './ARC-AGI-master/data/training/3befdf3e.json', './ARC-AGI-master/data/training/ea32f347.json', './ARC-AGI-master/data/training/e8dc4411.json', './ARC-AGI-master/data/training/4c4377d9.json', './ARC-AGI-master/data/training/91413438.json', './ARC-AGI-master/data/training/b2862040.json', './ARC-AGI-master/data/training/469497ad.json', './ARC-AGI-master/data/training/d10ecb37.json', './ARC-AGI-master/data/training/1f0c79e5.json', './ARC-AGI-master/data/training/eb281b96.json', './ARC-AGI-master/data/training/c8f0f002.json', './ARC-AGI-master/data/training/e76a88a6.json', './ARC-AGI-master/data/training/bc1d5164.json', './ARC-AGI-master/data/training/88a10436.json', './ARC-AGI-master/data/training/6d58a25d.json', './ARC-AGI-master/data/training/eb5a1d5d.json', './ARC-AGI-master/data/training/760b3cac.json', './ARC-AGI-master/data/training/ce22a75a.json', './ARC-AGI-master/data/training/a65b410d.json', './ARC-AGI-master/data/training/5582e5ca.json', './ARC-AGI-master/data/training/0b148d64.json', './ARC-AGI-master/data/training/e98196ab.json', './ARC-AGI-master/data/training/73251a56.json', './ARC-AGI-master/data/training/0a938d79.json', './ARC-AGI-master/data/training/e48d4e1a.json', './ARC-AGI-master/data/training/c0f76784.json', './ARC-AGI-master/data/training/4522001f.json', './ARC-AGI-master/data/training/d4469b4b.json', './ARC-AGI-master/data/training/caa06a1f.json', './ARC-AGI-master/data/training/7fe24cdd.json', './ARC-AGI-master/data/training/447fd412.json', './ARC-AGI-master/data/training/d23f8c26.json', './ARC-AGI-master/data/training/321b1fc6.json', './ARC-AGI-master/data/training/4938f0c2.json', './ARC-AGI-master/data/training/82819916.json', './ARC-AGI-master/data/training/e8593010.json', './ARC-AGI-master/data/training/85c4e7cd.json', './ARC-AGI-master/data/training/445eab21.json', './ARC-AGI-master/data/training/42a50994.json', './ARC-AGI-master/data/training/bd4472b8.json', './ARC-AGI-master/data/training/28e73c20.json', './ARC-AGI-master/data/training/54d82841.json', './ARC-AGI-master/data/training/b230c067.json', './ARC-AGI-master/data/training/67a3c6ac.json', './ARC-AGI-master/data/training/a48eeaf7.json', './ARC-AGI-master/data/training/ce9e57f2.json', './ARC-AGI-master/data/training/855e0971.json', './ARC-AGI-master/data/training/5ad4f10b.json', './ARC-AGI-master/data/training/feca6190.json', './ARC-AGI-master/data/training/234bbc79.json', './ARC-AGI-master/data/training/7df24a62.json', './ARC-AGI-master/data/training/a416b8f3.json', './ARC-AGI-master/data/training/a740d043.json', './ARC-AGI-master/data/training/ef135b50.json', './ARC-AGI-master/data/training/681b3aeb.json', './ARC-AGI-master/data/training/50846271.json', './ARC-AGI-master/data/training/794b24be.json', './ARC-AGI-master/data/training/75b8110e.json', './ARC-AGI-master/data/training/09629e4f.json', './ARC-AGI-master/data/training/b7249182.json', './ARC-AGI-master/data/training/1f642eb9.json', './ARC-AGI-master/data/training/ac0a08a4.json', './ARC-AGI-master/data/training/8efcae92.json', './ARC-AGI-master/data/training/9ecd008a.json', './ARC-AGI-master/data/training/5daaa586.json', './ARC-AGI-master/data/training/1fad071e.json', './ARC-AGI-master/data/training/a61ba2ce.json', './ARC-AGI-master/data/training/ce602527.json', './ARC-AGI-master/data/training/543a7ed5.json', './ARC-AGI-master/data/training/3eda0437.json', './ARC-AGI-master/data/training/d07ae81c.json', './ARC-AGI-master/data/training/f8ff0b80.json', './ARC-AGI-master/data/training/83302e8f.json', './ARC-AGI-master/data/training/b1948b0a.json', './ARC-AGI-master/data/training/1cf80156.json', './ARC-AGI-master/data/training/963e52fc.json', './ARC-AGI-master/data/training/3618c87e.json', './ARC-AGI-master/data/training/d9fac9be.json', './ARC-AGI-master/data/training/007bbfb7.json', './ARC-AGI-master/data/training/b8825c91.json', './ARC-AGI-master/data/training/6f8cd79b.json', './ARC-AGI-master/data/training/47c1f68c.json', './ARC-AGI-master/data/training/d90796e8.json', './ARC-AGI-master/data/training/dc1df850.json', './ARC-AGI-master/data/training/af902bf9.json', './ARC-AGI-master/data/training/2c608aff.json', './ARC-AGI-master/data/training/834ec97d.json', './ARC-AGI-master/data/training/8eb1be9a.json', './ARC-AGI-master/data/training/e50d258f.json', './ARC-AGI-master/data/training/48d8fb45.json', './ARC-AGI-master/data/training/3aa6fb7a.json', './ARC-AGI-master/data/training/0ca9ddb6.json', './ARC-AGI-master/data/training/05269061.json', './ARC-AGI-master/data/training/c59eb873.json', './ARC-AGI-master/data/training/0dfd9992.json', './ARC-AGI-master/data/training/868de0fa.json', './ARC-AGI-master/data/training/ff805c23.json', './ARC-AGI-master/data/training/40853293.json', './ARC-AGI-master/data/training/63613498.json', './ARC-AGI-master/data/training/b0c4d837.json', './ARC-AGI-master/data/training/36fdfd69.json', './ARC-AGI-master/data/training/5117e062.json', './ARC-AGI-master/data/training/d4a91cb9.json', './ARC-AGI-master/data/training/746b3537.json', './ARC-AGI-master/data/training/3428a4f5.json', './ARC-AGI-master/data/training/bb43febb.json', './ARC-AGI-master/data/training/60b61512.json', './ARC-AGI-master/data/training/ea786f4a.json', './ARC-AGI-master/data/training/9dfd6313.json', './ARC-AGI-master/data/training/d511f180.json', './ARC-AGI-master/data/training/9edfc990.json', './ARC-AGI-master/data/training/aba27056.json', './ARC-AGI-master/data/training/ae3edfdc.json', './ARC-AGI-master/data/training/beb8660c.json', './ARC-AGI-master/data/training/0d3d703e.json', './ARC-AGI-master/data/training/b9b7f026.json', './ARC-AGI-master/data/training/f35d900a.json', './ARC-AGI-master/data/training/fcb5c309.json', './ARC-AGI-master/data/training/b527c5c6.json', './ARC-AGI-master/data/training/6ecd11f4.json', './ARC-AGI-master/data/training/5bd6f4ac.json', './ARC-AGI-master/data/training/272f95fa.json', './ARC-AGI-master/data/training/4612dd53.json', './ARC-AGI-master/data/training/e5062a87.json', './ARC-AGI-master/data/training/06df4c85.json', './ARC-AGI-master/data/training/694f12f3.json', './ARC-AGI-master/data/training/41e4d17e.json', './ARC-AGI-master/data/training/c444b776.json', './ARC-AGI-master/data/training/a79310a0.json', './ARC-AGI-master/data/training/1bfc4729.json', './ARC-AGI-master/data/training/e509e548.json', './ARC-AGI-master/data/training/53b68214.json', './ARC-AGI-master/data/training/d687bc17.json', './ARC-AGI-master/data/training/e73095fd.json', './ARC-AGI-master/data/training/496994bd.json', './ARC-AGI-master/data/training/f2829549.json', './ARC-AGI-master/data/training/f15e1fac.json', './ARC-AGI-master/data/training/aabf363d.json', './ARC-AGI-master/data/training/8d5021e8.json', './ARC-AGI-master/data/training/3345333e.json', './ARC-AGI-master/data/training/8a004b2b.json', './ARC-AGI-master/data/training/b6afb2da.json', './ARC-AGI-master/data/training/045e512c.json', './ARC-AGI-master/data/training/673ef223.json', './ARC-AGI-master/data/training/88a62173.json', './ARC-AGI-master/data/training/99fa7670.json', './ARC-AGI-master/data/training/11852cab.json', './ARC-AGI-master/data/training/bbc9ae5d.json', './ARC-AGI-master/data/training/444801d8.json', './ARC-AGI-master/data/training/995c5fa3.json', './ARC-AGI-master/data/training/9d9215db.json', './ARC-AGI-master/data/training/f8a8fe49.json', './ARC-AGI-master/data/training/3631a71a.json', './ARC-AGI-master/data/training/9172f3a0.json', './ARC-AGI-master/data/training/3f7978a0.json', './ARC-AGI-master/data/training/0962bcdd.json', './ARC-AGI-master/data/training/2204b7a8.json', './ARC-AGI-master/data/training/b782dc8a.json', './ARC-AGI-master/data/training/9af7a82c.json', './ARC-AGI-master/data/training/31aa019c.json', './ARC-AGI-master/data/training/0e206a2e.json', './ARC-AGI-master/data/training/7c008303.json', './ARC-AGI-master/data/training/00d62c1b.json', './ARC-AGI-master/data/training/d4f3cd78.json', './ARC-AGI-master/data/training/8e5a5113.json', './ARC-AGI-master/data/training/44d8ac46.json', './ARC-AGI-master/data/training/23b5c85d.json', './ARC-AGI-master/data/training/29ec7d0e.json', './ARC-AGI-master/data/training/d9f24cd1.json', './ARC-AGI-master/data/training/f25fbde4.json', './ARC-AGI-master/data/training/137eaa0f.json', './ARC-AGI-master/data/training/e26a3af2.json', './ARC-AGI-master/data/training/57aa92db.json', './ARC-AGI-master/data/training/9aec4887.json', './ARC-AGI-master/data/training/2bcee788.json', './ARC-AGI-master/data/training/e40b9e2f.json', './ARC-AGI-master/data/training/46f33fce.json', './ARC-AGI-master/data/training/a64e4611.json', './ARC-AGI-master/data/training/22168020.json', './ARC-AGI-master/data/training/228f6490.json', './ARC-AGI-master/data/training/7b7f7511.json', './ARC-AGI-master/data/training/8be77c9e.json', './ARC-AGI-master/data/training/dae9d2b5.json', './ARC-AGI-master/data/training/2bee17df.json', './ARC-AGI-master/data/training/98cf29f8.json']\n"
     ]
    }
   ],
   "source": [
    "import os \n",
    "\n",
    "matches = []\n",
    "train_file_names = []\n",
    "for root, dirnames, filenames in os.walk(\"./ARC-AGI-master/data/training\"):\n",
    "    for filename in filenames:\n",
    "        if filename.endswith('.json'):\n",
    "            matches.append(os.path.join(root, filename))\n",
    "            train_file_names.append(filename)\n",
    "            \n",
    "print(matches)"
   ],
   "metadata": {
    "collapsed": false,
    "ExecuteTime": {
     "end_time": "2024-09-20T03:13:26.502747Z",
     "start_time": "2024-09-20T03:13:26.491312Z"
    }
   },
   "id": "c98275ebfc416456"
  },
  {
   "cell_type": "code",
   "execution_count": 4,
   "outputs": [],
   "source": [
    "import pandas as pd\n",
    "\n",
    "bunch_of_series = []\n",
    "for name in train_file_names:\n",
    "    with (open(f\"./ARC-AGI-master/data/training/{name}\") as temp_file):\n",
    "        some_file = json.load(temp_file)\n",
    "        \n",
    "        try:\n",
    "            prob_ex_3_placement_input = [[str(i[j]) for i in \n",
    "                                         some_file[\"train\"][2][\"input\"]] for j in range\n",
    "                                         (len(some_file[\"train\"][2][\"input\"][0]))]\n",
    "            prob_ex_3_placement_output = [[str(i[j]) for i in \n",
    "                                         some_file[\"train\"][2][\"output\"]] for j in range\n",
    "                                         (len(some_file[\"train\"][2][\"output\"][0]))]\n",
    "            #some_file[\"train\"][2]\n",
    "        except IndexError:\n",
    "            prob_ex_3_placement = {\"input\": \"\", \"output\": \"\"}\n",
    "            \n",
    "        try:\n",
    "            prob_ex_4_placement_input = [[str(i[j]) for i in \n",
    "                                         some_file[\"train\"][3][\"input\"]] for j in range\n",
    "                                         (len(some_file[\"train\"][3][\"input\"][0]))]\n",
    "            prob_ex_4_placement_output = [[str(i[j]) for i in \n",
    "                                         some_file[\"train\"][3][\"output\"]] for j in range\n",
    "                                         (len(some_file[\"train\"][3][\"output\"][0]))]\n",
    "            # some_file[\"train\"][3]\n",
    "        except IndexError:\n",
    "            prob_ex_4_placement = {\"input\": [\"\"], \"output\": [\"\"]}\n",
    "        \n",
    "        temp_series = pd.Series({\n",
    "            \"problem_id\": name,\n",
    "            \"problem_example_1_input\":  [[str(i[j]) for i in \n",
    "                                         some_file[\"train\"][0][\"input\"]] for j in range\n",
    "                                         (len(some_file[\"train\"][0][\"input\"][0]))],\n",
    "            \"problem_example_1_output\": [[str(i[j]) for i in \n",
    "                                         some_file[\"train\"][0][\"output\"]] for j in range\n",
    "                                         (len(some_file[\"train\"][0][\"output\"][0]))],\n",
    "            \"problem_example_2_input\":  [[str(i[j]) for i in \n",
    "                                         some_file[\"train\"][1][\"input\"]] for j in range\n",
    "                                         (len(some_file[\"train\"][1][\"input\"][0]))],\n",
    "            \"problem_example_2_output\": [[str(i[j]) for i in \n",
    "                                         some_file[\"train\"][1][\"output\"]] for j in range\n",
    "                                         (len(some_file[\"train\"][1][\"output\"][0]))],\n",
    "            \"problem_example_3_input\":  prob_ex_3_placement_input,\n",
    "            \"problem_example_3_output\": prob_ex_3_placement_output,\n",
    "            \"problem_example_4_input\":  prob_ex_4_placement_input, \n",
    "            \"problem_example_4_output\": prob_ex_4_placement_output,\n",
    "            \"problem_test_input\":       [[str(i[j]) for i in \n",
    "                                         some_file[\"test\"][0][\"input\"]] for j in range\n",
    "                                         (len(some_file[\"test\"][0][\"input\"][0]))],\n",
    "            \"problem_test_output\":      [[str(i[j]) for i in \n",
    "                                         some_file[\"test\"][0][\"output\"]] for j in range\n",
    "                                         (len(some_file[\"test\"][0][\"output\"][0]))],\n",
    "        })\n",
    "        \n",
    "        bunch_of_series.append(temp_series)"
   ],
   "metadata": {
    "collapsed": false,
    "ExecuteTime": {
     "end_time": "2024-09-20T03:13:28.945084Z",
     "start_time": "2024-09-20T03:13:28.328136Z"
    }
   },
   "id": "4d8208e4ba8515af"
  },
  {
   "cell_type": "code",
   "execution_count": 5,
   "outputs": [
    {
     "data": {
      "text/plain": "[{'input': [[0, 0, 0, 0, 0, 0, 0, 0, 0, 0, 0, 0, 0, 0],\n   [0, 4, 4, 4, 4, 4, 4, 4, 0, 0, 0, 0, 0, 0],\n   [0, 4, 4, 4, 4, 4, 4, 4, 0, 0, 0, 0, 0, 0],\n   [0, 4, 4, 4, 4, 4, 4, 4, 0, 0, 0, 0, 0, 0],\n   [0, 0, 0, 5, 0, 0, 0, 0, 0, 0, 0, 0, 0, 0],\n   [0, 0, 0, 5, 0, 0, 0, 0, 0, 0, 0, 0, 0, 0],\n   [0, 0, 0, 5, 0, 0, 0, 0, 0, 0, 0, 0, 0, 0],\n   [0, 0, 0, 5, 0, 0, 0, 0, 0, 0, 0, 0, 0, 0],\n   [0, 0, 5, 5, 5, 5, 0, 0, 0, 0, 0, 0, 0, 0],\n   [0, 0, 5, 5, 5, 5, 0, 0, 0, 0, 0, 0, 0, 0],\n   [0, 0, 5, 5, 5, 5, 0, 0, 0, 0, 0, 0, 0, 0],\n   [0, 0, 0, 0, 0, 0, 0, 0, 0, 0, 0, 0, 0, 0],\n   [0, 0, 0, 0, 0, 0, 0, 0, 0, 0, 0, 0, 0, 0],\n   [0, 0, 0, 0, 0, 0, 0, 0, 0, 0, 0, 0, 0, 0],\n   [0, 0, 0, 0, 0, 0, 0, 0, 0, 0, 0, 0, 0, 0],\n   [0, 0, 0, 0, 0, 0, 0, 0, 0, 0, 0, 0, 0, 0],\n   [0, 0, 0, 0, 0, 0, 0, 0, 0, 0, 0, 0, 0, 0]],\n  'output': [[0, 0, 0, 0, 0, 0, 0, 0, 0, 0, 0, 0, 0, 0],\n   [0, 4, 4, 4, 4, 4, 4, 4, 0, 0, 0, 0, 0, 0],\n   [0, 4, 4, 4, 4, 4, 4, 4, 0, 0, 0, 0, 0, 0],\n   [0, 4, 4, 4, 4, 4, 4, 4, 0, 0, 0, 0, 0, 0],\n   [0, 0, 5, 5, 5, 5, 0, 0, 0, 0, 0, 0, 0, 0],\n   [0, 0, 5, 5, 5, 5, 0, 0, 0, 0, 0, 0, 0, 0],\n   [0, 0, 5, 5, 5, 5, 0, 0, 0, 0, 0, 0, 0, 0],\n   [0, 0, 0, 0, 0, 0, 0, 0, 0, 0, 0, 0, 0, 0],\n   [0, 0, 0, 0, 0, 0, 0, 0, 0, 0, 0, 0, 0, 0],\n   [0, 0, 0, 0, 0, 0, 0, 0, 0, 0, 0, 0, 0, 0],\n   [0, 0, 0, 0, 0, 0, 0, 0, 0, 0, 0, 0, 0, 0],\n   [0, 0, 0, 0, 0, 0, 0, 0, 0, 0, 0, 0, 0, 0],\n   [0, 0, 0, 0, 0, 0, 0, 0, 0, 0, 0, 0, 0, 0],\n   [0, 0, 0, 0, 0, 0, 0, 0, 0, 0, 0, 0, 0, 0],\n   [0, 0, 0, 0, 0, 0, 0, 0, 0, 0, 0, 0, 0, 0],\n   [0, 0, 0, 0, 0, 0, 0, 0, 0, 0, 0, 0, 0, 0],\n   [0, 0, 0, 0, 0, 0, 0, 0, 0, 0, 0, 0, 0, 0]]},\n {'input': [[0, 0, 0, 0, 0, 0, 0, 0, 0, 0, 0, 0, 0, 0, 0, 0, 0, 0],\n   [0, 0, 0, 0, 0, 0, 0, 0, 0, 0, 0, 0, 0, 0, 0, 0, 0, 0],\n   [0, 0, 0, 0, 0, 0, 0, 0, 0, 0, 0, 0, 0, 0, 0, 0, 0, 0],\n   [0, 0, 0, 0, 0, 0, 0, 2, 2, 2, 2, 2, 2, 2, 0, 0, 0, 0],\n   [0, 0, 0, 0, 0, 0, 0, 2, 2, 2, 2, 2, 2, 2, 0, 0, 0, 0],\n   [0, 4, 4, 4, 0, 0, 0, 2, 2, 2, 2, 2, 2, 2, 0, 0, 0, 0],\n   [0, 4, 4, 4, 4, 4, 4, 2, 2, 2, 2, 2, 2, 2, 0, 0, 0, 0],\n   [0, 4, 4, 4, 0, 0, 0, 2, 2, 2, 2, 2, 2, 2, 0, 0, 0, 0],\n   [0, 0, 0, 0, 0, 0, 0, 2, 2, 2, 2, 2, 2, 2, 0, 0, 0, 0],\n   [0, 0, 0, 0, 0, 0, 0, 2, 2, 2, 2, 2, 2, 2, 0, 0, 0, 0],\n   [0, 0, 0, 0, 0, 0, 0, 0, 0, 0, 0, 0, 0, 0, 0, 0, 0, 0],\n   [0, 0, 0, 0, 0, 0, 0, 0, 0, 0, 0, 0, 0, 0, 0, 0, 0, 0],\n   [0, 0, 0, 0, 0, 0, 0, 0, 0, 0, 0, 0, 0, 0, 0, 0, 0, 0]],\n  'output': [[0, 0, 0, 0, 0, 0, 0, 0, 0, 0, 0, 0, 0, 0, 0, 0, 0, 0],\n   [0, 0, 0, 0, 0, 0, 0, 0, 0, 0, 0, 0, 0, 0, 0, 0, 0, 0],\n   [0, 0, 0, 0, 0, 0, 0, 0, 0, 0, 0, 0, 0, 0, 0, 0, 0, 0],\n   [0, 0, 0, 0, 0, 0, 0, 2, 2, 2, 2, 2, 2, 2, 0, 0, 0, 0],\n   [0, 0, 0, 0, 0, 0, 0, 2, 2, 2, 2, 2, 2, 2, 0, 0, 0, 0],\n   [0, 0, 0, 0, 4, 4, 4, 2, 2, 2, 2, 2, 2, 2, 0, 0, 0, 0],\n   [0, 0, 0, 0, 4, 4, 4, 2, 2, 2, 2, 2, 2, 2, 0, 0, 0, 0],\n   [0, 0, 0, 0, 4, 4, 4, 2, 2, 2, 2, 2, 2, 2, 0, 0, 0, 0],\n   [0, 0, 0, 0, 0, 0, 0, 2, 2, 2, 2, 2, 2, 2, 0, 0, 0, 0],\n   [0, 0, 0, 0, 0, 0, 0, 2, 2, 2, 2, 2, 2, 2, 0, 0, 0, 0],\n   [0, 0, 0, 0, 0, 0, 0, 0, 0, 0, 0, 0, 0, 0, 0, 0, 0, 0],\n   [0, 0, 0, 0, 0, 0, 0, 0, 0, 0, 0, 0, 0, 0, 0, 0, 0, 0],\n   [0, 0, 0, 0, 0, 0, 0, 0, 0, 0, 0, 0, 0, 0, 0, 0, 0, 0]]},\n {'input': [[0, 0, 0, 0, 0, 0, 0, 0, 0, 0, 0, 0, 0, 0, 0, 0, 0, 0, 0],\n   [0, 0, 0, 0, 0, 0, 2, 2, 2, 2, 2, 0, 0, 0, 0, 0, 0, 0, 0],\n   [0, 0, 0, 0, 0, 0, 2, 2, 2, 2, 2, 0, 0, 0, 0, 0, 0, 0, 0],\n   [0, 0, 0, 0, 0, 0, 0, 3, 0, 0, 0, 0, 0, 0, 0, 0, 0, 0, 0],\n   [0, 0, 0, 0, 0, 0, 0, 3, 0, 0, 0, 0, 0, 0, 0, 0, 0, 0, 0],\n   [0, 0, 0, 0, 0, 0, 0, 3, 0, 0, 0, 0, 0, 0, 0, 0, 0, 0, 0],\n   [0, 0, 0, 0, 0, 0, 0, 3, 0, 0, 0, 0, 0, 0, 0, 0, 0, 0, 0],\n   [0, 0, 0, 3, 3, 3, 3, 3, 3, 3, 3, 0, 0, 0, 0, 0, 0, 0, 0],\n   [0, 0, 0, 3, 3, 3, 3, 3, 3, 3, 3, 0, 0, 0, 0, 0, 0, 0, 0],\n   [0, 0, 0, 3, 3, 3, 3, 3, 3, 3, 3, 0, 0, 0, 0, 0, 0, 0, 0],\n   [0, 0, 0, 3, 3, 3, 3, 3, 3, 3, 3, 0, 0, 0, 0, 0, 0, 0, 0],\n   [0, 0, 0, 3, 3, 3, 3, 3, 3, 3, 3, 0, 0, 0, 0, 0, 0, 0, 0],\n   [0, 0, 0, 3, 3, 3, 3, 3, 3, 3, 3, 0, 0, 0, 0, 0, 0, 0, 0],\n   [0, 0, 0, 0, 0, 0, 0, 0, 0, 0, 0, 0, 0, 0, 0, 0, 0, 0, 0],\n   [0, 0, 0, 0, 0, 0, 0, 0, 0, 0, 0, 0, 0, 0, 0, 0, 0, 0, 0]],\n  'output': [[0, 0, 0, 0, 0, 0, 0, 0, 0, 0, 0, 0, 0, 0, 0, 0, 0, 0, 0],\n   [0, 0, 0, 0, 0, 0, 2, 2, 2, 2, 2, 0, 0, 0, 0, 0, 0, 0, 0],\n   [0, 0, 0, 0, 0, 0, 2, 2, 2, 2, 2, 0, 0, 0, 0, 0, 0, 0, 0],\n   [0, 0, 0, 3, 3, 3, 3, 3, 3, 3, 3, 0, 0, 0, 0, 0, 0, 0, 0],\n   [0, 0, 0, 3, 3, 3, 3, 3, 3, 3, 3, 0, 0, 0, 0, 0, 0, 0, 0],\n   [0, 0, 0, 3, 3, 3, 3, 3, 3, 3, 3, 0, 0, 0, 0, 0, 0, 0, 0],\n   [0, 0, 0, 3, 3, 3, 3, 3, 3, 3, 3, 0, 0, 0, 0, 0, 0, 0, 0],\n   [0, 0, 0, 3, 3, 3, 3, 3, 3, 3, 3, 0, 0, 0, 0, 0, 0, 0, 0],\n   [0, 0, 0, 3, 3, 3, 3, 3, 3, 3, 3, 0, 0, 0, 0, 0, 0, 0, 0],\n   [0, 0, 0, 0, 0, 0, 0, 0, 0, 0, 0, 0, 0, 0, 0, 0, 0, 0, 0],\n   [0, 0, 0, 0, 0, 0, 0, 0, 0, 0, 0, 0, 0, 0, 0, 0, 0, 0, 0],\n   [0, 0, 0, 0, 0, 0, 0, 0, 0, 0, 0, 0, 0, 0, 0, 0, 0, 0, 0],\n   [0, 0, 0, 0, 0, 0, 0, 0, 0, 0, 0, 0, 0, 0, 0, 0, 0, 0, 0],\n   [0, 0, 0, 0, 0, 0, 0, 0, 0, 0, 0, 0, 0, 0, 0, 0, 0, 0, 0],\n   [0, 0, 0, 0, 0, 0, 0, 0, 0, 0, 0, 0, 0, 0, 0, 0, 0, 0, 0]]}]"
     },
     "execution_count": 5,
     "metadata": {},
     "output_type": "execute_result"
    }
   ],
   "source": [
    "some_file[\"train\"]"
   ],
   "metadata": {
    "collapsed": false,
    "ExecuteTime": {
     "end_time": "2024-09-20T03:13:29.952512Z",
     "start_time": "2024-09-20T03:13:29.950419Z"
    }
   },
   "id": "c2ca87106a47f893"
  },
  {
   "cell_type": "code",
   "execution_count": 6,
   "outputs": [],
   "source": [
    "#test_df"
   ],
   "metadata": {
    "collapsed": false,
    "ExecuteTime": {
     "end_time": "2024-09-20T03:13:30.131648Z",
     "start_time": "2024-09-20T03:13:30.127903Z"
    }
   },
   "id": "87a526b486893377"
  },
  {
   "cell_type": "code",
   "execution_count": 7,
   "outputs": [
    {
     "data": {
      "text/plain": "        problem_id                            problem_example_1_input  \\\n0    a85d4709.json                  [[0, 0, 5], [0, 5, 0], [5, 0, 0]]   \n1    c8cbb738.json  [[3, 3, 3, 3, 3, 3, 3, 3, 8, 3, 8, 3], [3, 3, ...   \n2    8e1813be.json  [[0, 0, 2, 0, 0, 1, 0, 0, 3, 0, 0, 0, 0, 0, 0,...   \n3    a699fb00.json  [[1, 0, 0, 0, 0], [0, 0, 0, 1, 0], [1, 0, 0, 0...   \n4    5c2c9af4.json  [[0, 0, 0, 0, 0, 0, 0, 0, 0, 0, 0, 0, 0, 0, 0,...   \n..             ...                                                ...   \n395  7b7f7511.json  [[1, 1, 3, 2], [1, 1, 3, 3], [3, 3, 1, 1], [2,...   \n396  8be77c9e.json                  [[1, 1, 0], [1, 1, 0], [0, 1, 0]]   \n397  dae9d2b5.json  [[4, 4, 0], [4, 0, 0], [0, 0, 0], [3, 3, 0], [...   \n398  2bee17df.json  [[2, 8, 8, 8, 8, 8, 8, 8, 8, 8, 8, 8], [2, 0, ...   \n399  98cf29f8.json  [[0, 0, 0, 0, 0, 0, 0, 0, 0, 0, 0, 0, 0, 0, 0,...   \n\n                              problem_example_1_output  \\\n0                    [[3, 4, 2], [3, 4, 2], [3, 4, 2]]   \n1    [[2, 8, 1, 8, 2], [4, 3, 3, 3, 4], [1, 3, 3, 3...   \n2    [[2, 1, 3, 4, 8, 6], [2, 1, 3, 4, 8, 6], [2, 1...   \n3    [[1, 0, 0, 0, 0], [2, 0, 0, 1, 0], [1, 0, 0, 2...   \n4    [[0, 0, 0, 0, 0, 0, 0, 0, 0, 0, 0, 0, 0, 0, 0,...   \n..                                                 ...   \n395  [[1, 1, 3, 2], [1, 1, 3, 3], [3, 3, 1, 1], [2,...   \n396  [[1, 1, 0, 0, 1, 1], [1, 1, 0, 0, 1, 1], [0, 1...   \n397                  [[6, 6, 0], [6, 0, 0], [0, 0, 6]]   \n398  [[2, 8, 8, 8, 8, 8, 8, 8, 8, 8, 8, 8], [2, 0, ...   \n399  [[0, 0, 0, 0, 0, 0, 0, 0, 0, 0, 0, 0, 0, 0, 0,...   \n\n                               problem_example_2_input  \\\n0                    [[0, 0, 0], [0, 0, 0], [5, 5, 5]]   \n1    [[1, 1, 1, 1, 1, 1, 1, 1, 1, 1], [1, 8, 1, 8, ...   \n2    [[0, 0, 0, 0, 0, 0, 0, 0, 0, 0, 0, 0], [0, 5, ...   \n3    [[0, 0, 0, 0, 0, 0, 0, 0, 0, 0], [0, 1, 0, 0, ...   \n4    [[0, 0, 0, 0, 0, 0, 0, 0, 0, 0, 0, 0, 0, 0, 0,...   \n..                                                 ...   \n395  [[4, 6, 6], [4, 4, 6], [4, 8, 8], [4, 6, 6], [...   \n396                  [[0, 1, 1], [0, 0, 1], [0, 1, 0]]   \n397  [[4, 4, 0], [0, 0, 0], [4, 0, 4], [3, 3, 3], [...   \n398  [[8, 2, 2, 2, 2, 2, 2, 2, 2, 2, 2, 2], [8, 0, ...   \n399  [[0, 0, 0, 0, 0, 0, 0, 0, 0, 0, 0, 0, 0], [0, ...   \n\n                              problem_example_2_output  \\\n0                    [[3, 3, 3], [3, 3, 3], [3, 3, 3]]   \n1                    [[8, 3, 8], [3, 1, 3], [8, 3, 8]]   \n2                    [[1, 1, 1], [2, 2, 2], [4, 4, 4]]   \n3    [[0, 0, 0, 0, 0, 0, 0, 0, 0, 0], [0, 1, 0, 0, ...   \n4    [[0, 2, 0, 0, 0, 0, 0, 0, 0, 0, 0, 0, 0, 0, 0,...   \n..                                                 ...   \n395                  [[4, 6, 6], [4, 4, 6], [4, 8, 8]]   \n396  [[0, 1, 1, 1, 1, 0], [0, 0, 1, 1, 0, 0], [0, 1...   \n397                  [[6, 6, 6], [6, 0, 0], [6, 0, 6]]   \n398  [[8, 2, 2, 2, 2, 2, 2, 2, 2, 2, 2, 2], [8, 0, ...   \n399  [[0, 0, 0, 0, 0, 0, 0, 0, 0, 0, 0, 0, 0], [0, ...   \n\n                               problem_example_3_input  \\\n0                    [[5, 0, 5], [0, 5, 0], [0, 0, 0]]   \n1    [[4, 4, 4, 4, 4, 4, 4, 4, 4, 4, 4, 4], [4, 4, ...   \n2    [[0, 2, 0, 0, 8, 0, 0, 4, 0, 0, 1, 0], [0, 2, ...   \n3    [[0, 0, 0, 0, 0, 0, 0, 0, 0, 0], [0, 0, 1, 0, ...   \n4    [[0, 0, 0, 0, 0, 0, 0, 0, 0, 0, 0, 0, 0, 0, 0,...   \n..                                                 ...   \n395           [[2, 3, 4, 2, 3, 4], [3, 2, 4, 3, 2, 4]]   \n396                  [[0, 0, 0], [0, 0, 0], [0, 1, 1]]   \n397  [[0, 0, 4], [0, 4, 4], [4, 4, 0], [0, 3, 0], [...   \n398  [[8, 8, 8, 8, 8, 8, 8, 8, 8, 8], [8, 8, 8, 8, ...   \n399  [[0, 0, 0, 0, 0, 0, 0, 0, 0, 0, 0, 0, 0, 0, 0]...   \n\n                              problem_example_3_output  \\\n0                    [[2, 4, 2], [2, 4, 2], [2, 4, 2]]   \n1    [[1, 4, 7, 4, 1], [4, 4, 4, 4, 4], [7, 4, 4, 4...   \n2    [[2, 8, 4, 1], [2, 8, 4, 1], [2, 8, 4, 1], [2,...   \n3    [[0, 0, 0, 0, 0, 0, 0, 0, 0, 0], [0, 0, 1, 0, ...   \n4    [[3, 3, 3, 3, 3, 3, 3, 3, 3, 3, 3, 3, 3, 3, 3,...   \n..                                                 ...   \n395                             [[2, 3, 4], [3, 2, 4]]   \n396  [[0, 0, 0, 0, 0, 0], [0, 0, 0, 0, 0, 0], [0, 1...   \n397                  [[0, 6, 6], [6, 6, 6], [6, 6, 6]]   \n398  [[8, 8, 8, 8, 8, 8, 8, 8, 8, 8], [8, 8, 8, 8, ...   \n399  [[0, 0, 0, 0, 0, 0, 0, 0, 0, 0, 0, 0, 0, 0, 0]...   \n\n                               problem_example_4_input  \\\n0                    [[0, 0, 0], [5, 0, 5], [0, 5, 0]]   \n1                    [[0, 0, 0], [5, 0, 5], [0, 5, 0]]   \n2                    [[0, 0, 0], [5, 0, 5], [0, 5, 0]]   \n3                    [[0, 0, 0], [5, 0, 5], [0, 5, 0]]   \n4                    [[0, 0, 0], [5, 0, 5], [0, 5, 0]]   \n..                                                 ...   \n395  [[0, 0, 0, 0, 0, 0, 0, 0, 0, 0], [0, 0, 0, 0, ...   \n396  [[0, 0, 0, 0, 0, 0, 0, 0, 0, 0], [0, 0, 0, 0, ...   \n397  [[4, 0, 4], [4, 0, 0], [0, 0, 0], [3, 0, 0], [...   \n398  [[4, 0, 4], [4, 0, 0], [0, 0, 0], [3, 0, 0], [...   \n399  [[4, 0, 4], [4, 0, 0], [0, 0, 0], [3, 0, 0], [...   \n\n                              problem_example_4_output  \\\n0                    [[4, 3, 4], [4, 3, 4], [4, 3, 4]]   \n1                    [[4, 3, 4], [4, 3, 4], [4, 3, 4]]   \n2                    [[4, 3, 4], [4, 3, 4], [4, 3, 4]]   \n3                    [[4, 3, 4], [4, 3, 4], [4, 3, 4]]   \n4                    [[4, 3, 4], [4, 3, 4], [4, 3, 4]]   \n..                                                 ...   \n395  [[3, 3, 3, 3, 3, 3, 3, 3, 3, 3], [3, 3, 3, 3, ...   \n396  [[3, 3, 3, 3, 3, 3, 3, 3, 3, 3], [3, 3, 3, 3, ...   \n397                  [[6, 0, 6], [6, 0, 0], [0, 6, 0]]   \n398                  [[6, 0, 6], [6, 0, 0], [0, 6, 0]]   \n399                  [[6, 0, 6], [6, 0, 0], [0, 6, 0]]   \n\n                                    problem_test_input  \\\n0                    [[0, 5, 0], [0, 0, 5], [5, 0, 0]]   \n1    [[8, 8, 8, 8, 8, 8, 8, 8, 8, 8, 8, 8, 8, 8, 8,...   \n2    [[2, 0, 0, 3, 0, 0, 8, 0, 0, 4, 0, 0, 6, 0, 0,...   \n3    [[0, 0, 0, 0, 0, 0, 0, 0, 0, 0], [1, 0, 0, 0, ...   \n4    [[0, 0, 0, 0, 0, 0, 0, 0, 0, 0, 0, 0, 0, 0, 0,...   \n..                                                 ...   \n395  [[5, 4, 6, 2, 5, 4, 6, 2], [4, 5, 6, 6, 4, 5, ...   \n396                  [[0, 0, 1], [0, 0, 0], [0, 1, 0]]   \n397  [[0, 4, 0], [4, 0, 4], [4, 0, 0], [3, 3, 3], [...   \n398  [[8, 8, 8, 8, 8, 8, 8, 8, 8, 8, 8, 8, 8, 8], [...   \n399  [[0, 0, 0, 0, 0, 0, 0, 0, 0, 0, 0, 0], [0, 0, ...   \n\n                                   problem_test_output  \n0                    [[3, 2, 4], [3, 2, 4], [3, 2, 4]]  \n1    [[3, 8, 2, 1, 2, 8, 3], [8, 8, 8, 8, 8, 8, 8],...  \n2    [[2, 3, 8, 4, 6, 1, 7], [2, 3, 8, 4, 6, 1, 7],...  \n3    [[0, 0, 0, 0, 0, 0, 0, 0, 0, 0], [1, 0, 0, 0, ...  \n4    [[4, 0, 0, 0, 0, 0, 0, 0, 0, 0, 0, 0, 0, 0, 0,...  \n..                                                 ...  \n395         [[5, 4, 6, 2], [4, 5, 6, 6], [5, 4, 4, 2]]  \n396  [[0, 0, 1, 1, 0, 0], [0, 0, 0, 0, 0, 0], [0, 1...  \n397                  [[6, 6, 6], [6, 6, 6], [6, 0, 0]]  \n398  [[8, 8, 8, 8, 8, 8, 8, 8, 8, 8, 8, 8, 8, 8], [...  \n399  [[0, 0, 0, 0, 0, 0, 0, 0, 0, 0, 0, 0], [0, 0, ...  \n\n[400 rows x 11 columns]",
      "text/html": "<div>\n<style scoped>\n    .dataframe tbody tr th:only-of-type {\n        vertical-align: middle;\n    }\n\n    .dataframe tbody tr th {\n        vertical-align: top;\n    }\n\n    .dataframe thead th {\n        text-align: right;\n    }\n</style>\n<table border=\"1\" class=\"dataframe\">\n  <thead>\n    <tr style=\"text-align: right;\">\n      <th></th>\n      <th>problem_id</th>\n      <th>problem_example_1_input</th>\n      <th>problem_example_1_output</th>\n      <th>problem_example_2_input</th>\n      <th>problem_example_2_output</th>\n      <th>problem_example_3_input</th>\n      <th>problem_example_3_output</th>\n      <th>problem_example_4_input</th>\n      <th>problem_example_4_output</th>\n      <th>problem_test_input</th>\n      <th>problem_test_output</th>\n    </tr>\n  </thead>\n  <tbody>\n    <tr>\n      <th>0</th>\n      <td>a85d4709.json</td>\n      <td>[[0, 0, 5], [0, 5, 0], [5, 0, 0]]</td>\n      <td>[[3, 4, 2], [3, 4, 2], [3, 4, 2]]</td>\n      <td>[[0, 0, 0], [0, 0, 0], [5, 5, 5]]</td>\n      <td>[[3, 3, 3], [3, 3, 3], [3, 3, 3]]</td>\n      <td>[[5, 0, 5], [0, 5, 0], [0, 0, 0]]</td>\n      <td>[[2, 4, 2], [2, 4, 2], [2, 4, 2]]</td>\n      <td>[[0, 0, 0], [5, 0, 5], [0, 5, 0]]</td>\n      <td>[[4, 3, 4], [4, 3, 4], [4, 3, 4]]</td>\n      <td>[[0, 5, 0], [0, 0, 5], [5, 0, 0]]</td>\n      <td>[[3, 2, 4], [3, 2, 4], [3, 2, 4]]</td>\n    </tr>\n    <tr>\n      <th>1</th>\n      <td>c8cbb738.json</td>\n      <td>[[3, 3, 3, 3, 3, 3, 3, 3, 8, 3, 8, 3], [3, 3, ...</td>\n      <td>[[2, 8, 1, 8, 2], [4, 3, 3, 3, 4], [1, 3, 3, 3...</td>\n      <td>[[1, 1, 1, 1, 1, 1, 1, 1, 1, 1], [1, 8, 1, 8, ...</td>\n      <td>[[8, 3, 8], [3, 1, 3], [8, 3, 8]]</td>\n      <td>[[4, 4, 4, 4, 4, 4, 4, 4, 4, 4, 4, 4], [4, 4, ...</td>\n      <td>[[1, 4, 7, 4, 1], [4, 4, 4, 4, 4], [7, 4, 4, 4...</td>\n      <td>[[0, 0, 0], [5, 0, 5], [0, 5, 0]]</td>\n      <td>[[4, 3, 4], [4, 3, 4], [4, 3, 4]]</td>\n      <td>[[8, 8, 8, 8, 8, 8, 8, 8, 8, 8, 8, 8, 8, 8, 8,...</td>\n      <td>[[3, 8, 2, 1, 2, 8, 3], [8, 8, 8, 8, 8, 8, 8],...</td>\n    </tr>\n    <tr>\n      <th>2</th>\n      <td>8e1813be.json</td>\n      <td>[[0, 0, 2, 0, 0, 1, 0, 0, 3, 0, 0, 0, 0, 0, 0,...</td>\n      <td>[[2, 1, 3, 4, 8, 6], [2, 1, 3, 4, 8, 6], [2, 1...</td>\n      <td>[[0, 0, 0, 0, 0, 0, 0, 0, 0, 0, 0, 0], [0, 5, ...</td>\n      <td>[[1, 1, 1], [2, 2, 2], [4, 4, 4]]</td>\n      <td>[[0, 2, 0, 0, 8, 0, 0, 4, 0, 0, 1, 0], [0, 2, ...</td>\n      <td>[[2, 8, 4, 1], [2, 8, 4, 1], [2, 8, 4, 1], [2,...</td>\n      <td>[[0, 0, 0], [5, 0, 5], [0, 5, 0]]</td>\n      <td>[[4, 3, 4], [4, 3, 4], [4, 3, 4]]</td>\n      <td>[[2, 0, 0, 3, 0, 0, 8, 0, 0, 4, 0, 0, 6, 0, 0,...</td>\n      <td>[[2, 3, 8, 4, 6, 1, 7], [2, 3, 8, 4, 6, 1, 7],...</td>\n    </tr>\n    <tr>\n      <th>3</th>\n      <td>a699fb00.json</td>\n      <td>[[1, 0, 0, 0, 0], [0, 0, 0, 1, 0], [1, 0, 0, 0...</td>\n      <td>[[1, 0, 0, 0, 0], [2, 0, 0, 1, 0], [1, 0, 0, 2...</td>\n      <td>[[0, 0, 0, 0, 0, 0, 0, 0, 0, 0], [0, 1, 0, 0, ...</td>\n      <td>[[0, 0, 0, 0, 0, 0, 0, 0, 0, 0], [0, 1, 0, 0, ...</td>\n      <td>[[0, 0, 0, 0, 0, 0, 0, 0, 0, 0], [0, 0, 1, 0, ...</td>\n      <td>[[0, 0, 0, 0, 0, 0, 0, 0, 0, 0], [0, 0, 1, 0, ...</td>\n      <td>[[0, 0, 0], [5, 0, 5], [0, 5, 0]]</td>\n      <td>[[4, 3, 4], [4, 3, 4], [4, 3, 4]]</td>\n      <td>[[0, 0, 0, 0, 0, 0, 0, 0, 0, 0], [1, 0, 0, 0, ...</td>\n      <td>[[0, 0, 0, 0, 0, 0, 0, 0, 0, 0], [1, 0, 0, 0, ...</td>\n    </tr>\n    <tr>\n      <th>4</th>\n      <td>5c2c9af4.json</td>\n      <td>[[0, 0, 0, 0, 0, 0, 0, 0, 0, 0, 0, 0, 0, 0, 0,...</td>\n      <td>[[0, 0, 0, 0, 0, 0, 0, 0, 0, 0, 0, 0, 0, 0, 0,...</td>\n      <td>[[0, 0, 0, 0, 0, 0, 0, 0, 0, 0, 0, 0, 0, 0, 0,...</td>\n      <td>[[0, 2, 0, 0, 0, 0, 0, 0, 0, 0, 0, 0, 0, 0, 0,...</td>\n      <td>[[0, 0, 0, 0, 0, 0, 0, 0, 0, 0, 0, 0, 0, 0, 0,...</td>\n      <td>[[3, 3, 3, 3, 3, 3, 3, 3, 3, 3, 3, 3, 3, 3, 3,...</td>\n      <td>[[0, 0, 0], [5, 0, 5], [0, 5, 0]]</td>\n      <td>[[4, 3, 4], [4, 3, 4], [4, 3, 4]]</td>\n      <td>[[0, 0, 0, 0, 0, 0, 0, 0, 0, 0, 0, 0, 0, 0, 0,...</td>\n      <td>[[4, 0, 0, 0, 0, 0, 0, 0, 0, 0, 0, 0, 0, 0, 0,...</td>\n    </tr>\n    <tr>\n      <th>...</th>\n      <td>...</td>\n      <td>...</td>\n      <td>...</td>\n      <td>...</td>\n      <td>...</td>\n      <td>...</td>\n      <td>...</td>\n      <td>...</td>\n      <td>...</td>\n      <td>...</td>\n      <td>...</td>\n    </tr>\n    <tr>\n      <th>395</th>\n      <td>7b7f7511.json</td>\n      <td>[[1, 1, 3, 2], [1, 1, 3, 3], [3, 3, 1, 1], [2,...</td>\n      <td>[[1, 1, 3, 2], [1, 1, 3, 3], [3, 3, 1, 1], [2,...</td>\n      <td>[[4, 6, 6], [4, 4, 6], [4, 8, 8], [4, 6, 6], [...</td>\n      <td>[[4, 6, 6], [4, 4, 6], [4, 8, 8]]</td>\n      <td>[[2, 3, 4, 2, 3, 4], [3, 2, 4, 3, 2, 4]]</td>\n      <td>[[2, 3, 4], [3, 2, 4]]</td>\n      <td>[[0, 0, 0, 0, 0, 0, 0, 0, 0, 0], [0, 0, 0, 0, ...</td>\n      <td>[[3, 3, 3, 3, 3, 3, 3, 3, 3, 3], [3, 3, 3, 3, ...</td>\n      <td>[[5, 4, 6, 2, 5, 4, 6, 2], [4, 5, 6, 6, 4, 5, ...</td>\n      <td>[[5, 4, 6, 2], [4, 5, 6, 6], [5, 4, 4, 2]]</td>\n    </tr>\n    <tr>\n      <th>396</th>\n      <td>8be77c9e.json</td>\n      <td>[[1, 1, 0], [1, 1, 0], [0, 1, 0]]</td>\n      <td>[[1, 1, 0, 0, 1, 1], [1, 1, 0, 0, 1, 1], [0, 1...</td>\n      <td>[[0, 1, 1], [0, 0, 1], [0, 1, 0]]</td>\n      <td>[[0, 1, 1, 1, 1, 0], [0, 0, 1, 1, 0, 0], [0, 1...</td>\n      <td>[[0, 0, 0], [0, 0, 0], [0, 1, 1]]</td>\n      <td>[[0, 0, 0, 0, 0, 0], [0, 0, 0, 0, 0, 0], [0, 1...</td>\n      <td>[[0, 0, 0, 0, 0, 0, 0, 0, 0, 0], [0, 0, 0, 0, ...</td>\n      <td>[[3, 3, 3, 3, 3, 3, 3, 3, 3, 3], [3, 3, 3, 3, ...</td>\n      <td>[[0, 0, 1], [0, 0, 0], [0, 1, 0]]</td>\n      <td>[[0, 0, 1, 1, 0, 0], [0, 0, 0, 0, 0, 0], [0, 1...</td>\n    </tr>\n    <tr>\n      <th>397</th>\n      <td>dae9d2b5.json</td>\n      <td>[[4, 4, 0], [4, 0, 0], [0, 0, 0], [3, 3, 0], [...</td>\n      <td>[[6, 6, 0], [6, 0, 0], [0, 0, 6]]</td>\n      <td>[[4, 4, 0], [0, 0, 0], [4, 0, 4], [3, 3, 3], [...</td>\n      <td>[[6, 6, 6], [6, 0, 0], [6, 0, 6]]</td>\n      <td>[[0, 0, 4], [0, 4, 4], [4, 4, 0], [0, 3, 0], [...</td>\n      <td>[[0, 6, 6], [6, 6, 6], [6, 6, 6]]</td>\n      <td>[[4, 0, 4], [4, 0, 0], [0, 0, 0], [3, 0, 0], [...</td>\n      <td>[[6, 0, 6], [6, 0, 0], [0, 6, 0]]</td>\n      <td>[[0, 4, 0], [4, 0, 4], [4, 0, 0], [3, 3, 3], [...</td>\n      <td>[[6, 6, 6], [6, 6, 6], [6, 0, 0]]</td>\n    </tr>\n    <tr>\n      <th>398</th>\n      <td>2bee17df.json</td>\n      <td>[[2, 8, 8, 8, 8, 8, 8, 8, 8, 8, 8, 8], [2, 0, ...</td>\n      <td>[[2, 8, 8, 8, 8, 8, 8, 8, 8, 8, 8, 8], [2, 0, ...</td>\n      <td>[[8, 2, 2, 2, 2, 2, 2, 2, 2, 2, 2, 2], [8, 0, ...</td>\n      <td>[[8, 2, 2, 2, 2, 2, 2, 2, 2, 2, 2, 2], [8, 0, ...</td>\n      <td>[[8, 8, 8, 8, 8, 8, 8, 8, 8, 8], [8, 8, 8, 8, ...</td>\n      <td>[[8, 8, 8, 8, 8, 8, 8, 8, 8, 8], [8, 8, 8, 8, ...</td>\n      <td>[[4, 0, 4], [4, 0, 0], [0, 0, 0], [3, 0, 0], [...</td>\n      <td>[[6, 0, 6], [6, 0, 0], [0, 6, 0]]</td>\n      <td>[[8, 8, 8, 8, 8, 8, 8, 8, 8, 8, 8, 8, 8, 8], [...</td>\n      <td>[[8, 8, 8, 8, 8, 8, 8, 8, 8, 8, 8, 8, 8, 8], [...</td>\n    </tr>\n    <tr>\n      <th>399</th>\n      <td>98cf29f8.json</td>\n      <td>[[0, 0, 0, 0, 0, 0, 0, 0, 0, 0, 0, 0, 0, 0, 0,...</td>\n      <td>[[0, 0, 0, 0, 0, 0, 0, 0, 0, 0, 0, 0, 0, 0, 0,...</td>\n      <td>[[0, 0, 0, 0, 0, 0, 0, 0, 0, 0, 0, 0, 0], [0, ...</td>\n      <td>[[0, 0, 0, 0, 0, 0, 0, 0, 0, 0, 0, 0, 0], [0, ...</td>\n      <td>[[0, 0, 0, 0, 0, 0, 0, 0, 0, 0, 0, 0, 0, 0, 0]...</td>\n      <td>[[0, 0, 0, 0, 0, 0, 0, 0, 0, 0, 0, 0, 0, 0, 0]...</td>\n      <td>[[4, 0, 4], [4, 0, 0], [0, 0, 0], [3, 0, 0], [...</td>\n      <td>[[6, 0, 6], [6, 0, 0], [0, 6, 0]]</td>\n      <td>[[0, 0, 0, 0, 0, 0, 0, 0, 0, 0, 0, 0], [0, 0, ...</td>\n      <td>[[0, 0, 0, 0, 0, 0, 0, 0, 0, 0, 0, 0], [0, 0, ...</td>\n    </tr>\n  </tbody>\n</table>\n<p>400 rows × 11 columns</p>\n</div>"
     },
     "execution_count": 7,
     "metadata": {},
     "output_type": "execute_result"
    }
   ],
   "source": [
    "arc_train = pd.concat(bunch_of_series, axis=1).T\n",
    "arc_train"
   ],
   "metadata": {
    "collapsed": false,
    "ExecuteTime": {
     "end_time": "2024-09-20T03:13:30.591798Z",
     "start_time": "2024-09-20T03:13:30.516169Z"
    }
   },
   "id": "4a3b614970bb1201"
  },
  {
   "cell_type": "code",
   "execution_count": 8,
   "outputs": [],
   "source": [
    "from datasets import Dataset\n",
    "\n",
    "#arc_train_hf = Dataset.from_pandas(arc_train)"
   ],
   "metadata": {
    "collapsed": false,
    "ExecuteTime": {
     "end_time": "2024-09-20T03:13:37.424525Z",
     "start_time": "2024-09-20T03:13:37.278177Z"
    }
   },
   "id": "76b202b7378fd1c"
  },
  {
   "cell_type": "markdown",
   "source": [
    "Things I have done so far:\n",
    "1. Downloaded the ARC prize benchmark\n",
    "2. Played around with it; I understand the data structure better now\n",
    "3. Load the model and basic code\n",
    "4. Convert the json training files to a dataframe\n",
    "5. **The plan**\n",
    "  - Tokenize the dataset\n",
    "  - Finetune the model weights based on the tokenized dataset\n",
    "  - Test the finetuned model on the evaluation set\n"
   ],
   "metadata": {
    "collapsed": false
   },
   "id": "7fe37279afc0a137"
  },
  {
   "cell_type": "code",
   "execution_count": 73,
   "outputs": [
    {
     "name": "stdout",
     "output_type": "stream",
     "text": [
      "2024-09-17 17:44:29.061345\n"
     ]
    }
   ],
   "source": [
    "# CHECKPOINT \n",
    "import datetime\n",
    "print(datetime.datetime.now())"
   ],
   "metadata": {
    "collapsed": false,
    "ExecuteTime": {
     "end_time": "2024-09-18T00:44:29.065853Z",
     "start_time": "2024-09-18T00:44:29.061859Z"
    }
   },
   "id": "a6b1554cd878fd1e"
  },
  {
   "cell_type": "code",
   "execution_count": 75,
   "outputs": [
    {
     "name": "stdout",
     "output_type": "stream",
     "text": [
      "2024-09-18 11:58:06.441338\n"
     ]
    }
   ],
   "source": [
    "# restarting work on this\n",
    "import datetime\n",
    "print(datetime.datetime.now())"
   ],
   "metadata": {
    "collapsed": false,
    "ExecuteTime": {
     "end_time": "2024-09-18T18:58:06.445134Z",
     "start_time": "2024-09-18T18:58:06.443376Z"
    }
   },
   "id": "6e0631d956e38bc6"
  },
  {
   "cell_type": "code",
   "execution_count": 112,
   "outputs": [
    {
     "data": {
      "text/plain": "'[[[0, 0, 5], [0, 5, 0], [5, 0, 0]]]'"
     },
     "execution_count": 112,
     "metadata": {},
     "output_type": "execute_result"
    }
   ],
   "source": [
    "arc_train2 = arc_train.astype(str)\n",
    "arc_train2[\"problem_example_1_input\"].iloc[0]"
   ],
   "metadata": {
    "collapsed": false,
    "ExecuteTime": {
     "end_time": "2024-09-18T19:11:53.621293Z",
     "start_time": "2024-09-18T19:11:53.595327Z"
    }
   },
   "id": "2aca082b7d4ea963"
  },
  {
   "cell_type": "code",
   "execution_count": 113,
   "outputs": [
    {
     "data": {
      "text/plain": "{'input_ids': [1, 8070, 28792, 28734, 28725, 28705, 28734, 28725, 28705, 28782, 1181, 733, 28734, 28725, 28705, 28782, 28725, 28705, 28734, 1181, 733, 28782, 28725, 28705, 28734, 28725, 28705, 28734, 7700, 28793], 'attention_mask': [1, 1, 1, 1, 1, 1, 1, 1, 1, 1, 1, 1, 1, 1, 1, 1, 1, 1, 1, 1, 1, 1, 1, 1, 1, 1, 1, 1, 1, 1]}"
     },
     "execution_count": 113,
     "metadata": {},
     "output_type": "execute_result"
    }
   ],
   "source": [
    "tokenizer(arc_train2[\"problem_example_1_input\"].iloc[0])"
   ],
   "metadata": {
    "collapsed": false,
    "ExecuteTime": {
     "end_time": "2024-09-18T19:11:55.898456Z",
     "start_time": "2024-09-18T19:11:55.891835Z"
    }
   },
   "id": "916709361fdfb8e"
  },
  {
   "cell_type": "code",
   "execution_count": 194,
   "outputs": [],
   "source": [
    "testl = [[[0, 0, 5], [0, 5, 0], [5, 0, 0]]]\n",
    "testl = [[str(testl[0][j][i]) for i in range(3)] for j in range(3)]"
   ],
   "metadata": {
    "collapsed": false,
    "ExecuteTime": {
     "end_time": "2024-09-18T19:41:48.195736Z",
     "start_time": "2024-09-18T19:41:48.187919Z"
    }
   },
   "id": "9a36f70a6c9c2044"
  },
  {
   "cell_type": "code",
   "execution_count": 201,
   "outputs": [
    {
     "data": {
      "text/plain": "{'input_ids': [[1, 28705, 28734], [1, 28705, 28734], [1, 28705, 28782]], 'attention_mask': [[1, 1, 1], [1, 1, 1], [1, 1, 1]]}"
     },
     "execution_count": 201,
     "metadata": {},
     "output_type": "execute_result"
    }
   ],
   "source": [
    "tokenizer(testl[0])"
   ],
   "metadata": {
    "collapsed": false,
    "ExecuteTime": {
     "end_time": "2024-09-18T19:44:50.080680Z",
     "start_time": "2024-09-18T19:44:50.072189Z"
    }
   },
   "id": "a3c5b65f5113753c"
  },
  {
   "cell_type": "code",
   "execution_count": 31,
   "outputs": [],
   "source": [
    "arc_no_id = arc_train.loc[:, arc_train.columns != \"problem_id\"]"
   ],
   "metadata": {
    "collapsed": false,
    "ExecuteTime": {
     "end_time": "2024-09-18T21:34:49.902548Z",
     "start_time": "2024-09-18T21:34:49.898834Z"
    }
   },
   "id": "c231c4aed2bef3a8"
  },
  {
   "cell_type": "code",
   "execution_count": 15,
   "outputs": [],
   "source": [
    "#def convert_num2str(row):\n",
    "#    total_range1 = len(row[0][0])\n",
    "#    total_range2 = len(row[0])\n",
    "#    return [[str(row[0][j][i]) for i in range(total_range1)] for j in range\n",
    "#    (total_range2)][0]\n",
    "\n",
    "#arc_no_id.map(convert_num2str)"
   ],
   "metadata": {
    "collapsed": false,
    "ExecuteTime": {
     "end_time": "2024-09-18T21:21:27.181967Z",
     "start_time": "2024-09-18T21:21:27.178066Z"
    }
   },
   "id": "1216d77d30a262a3"
  },
  {
   "cell_type": "code",
   "execution_count": 11,
   "outputs": [
    {
     "data": {
      "text/plain": "                               problem_example_1_input  \\\n0                    [[0, 0, 5], [0, 5, 0], [5, 0, 0]]   \n1    [[3, 3, 3, 3, 3, 3, 3, 3, 8, 3, 8, 3], [3, 3, ...   \n2    [[0, 0, 2, 0, 0, 1, 0, 0, 3, 0, 0, 0, 0, 0, 0,...   \n3    [[1, 0, 0, 0, 0], [0, 0, 0, 1, 0], [1, 0, 0, 0...   \n4    [[0, 0, 0, 0, 0, 0, 0, 0, 0, 0, 0, 0, 0, 0, 0,...   \n..                                                 ...   \n395  [[1, 1, 3, 2], [1, 1, 3, 3], [3, 3, 1, 1], [2,...   \n396                  [[1, 1, 0], [1, 1, 0], [0, 1, 0]]   \n397  [[4, 4, 0], [4, 0, 0], [0, 0, 0], [3, 3, 0], [...   \n398  [[2, 8, 8, 8, 8, 8, 8, 8, 8, 8, 8, 8], [2, 0, ...   \n399  [[0, 0, 0, 0, 0, 0, 0, 0, 0, 0, 0, 0, 0, 0, 0,...   \n\n                              problem_example_1_output  \\\n0                    [[3, 4, 2], [3, 4, 2], [3, 4, 2]]   \n1    [[2, 8, 1, 8, 2], [4, 3, 3, 3, 4], [1, 3, 3, 3...   \n2    [[2, 1, 3, 4, 8, 6], [2, 1, 3, 4, 8, 6], [2, 1...   \n3    [[1, 0, 0, 0, 0], [2, 0, 0, 1, 0], [1, 0, 0, 2...   \n4    [[0, 0, 0, 0, 0, 0, 0, 0, 0, 0, 0, 0, 0, 0, 0,...   \n..                                                 ...   \n395  [[1, 1, 3, 2], [1, 1, 3, 3], [3, 3, 1, 1], [2,...   \n396  [[1, 1, 0, 0, 1, 1], [1, 1, 0, 0, 1, 1], [0, 1...   \n397                  [[6, 6, 0], [6, 0, 0], [0, 0, 6]]   \n398  [[2, 8, 8, 8, 8, 8, 8, 8, 8, 8, 8, 8], [2, 0, ...   \n399  [[0, 0, 0, 0, 0, 0, 0, 0, 0, 0, 0, 0, 0, 0, 0,...   \n\n                               problem_example_2_input  \\\n0                    [[0, 0, 0], [0, 0, 0], [5, 5, 5]]   \n1    [[1, 1, 1, 1, 1, 1, 1, 1, 1, 1], [1, 8, 1, 8, ...   \n2    [[0, 0, 0, 0, 0, 0, 0, 0, 0, 0, 0, 0], [0, 5, ...   \n3    [[0, 0, 0, 0, 0, 0, 0, 0, 0, 0], [0, 1, 0, 0, ...   \n4    [[0, 0, 0, 0, 0, 0, 0, 0, 0, 0, 0, 0, 0, 0, 0,...   \n..                                                 ...   \n395  [[4, 6, 6], [4, 4, 6], [4, 8, 8], [4, 6, 6], [...   \n396                  [[0, 1, 1], [0, 0, 1], [0, 1, 0]]   \n397  [[4, 4, 0], [0, 0, 0], [4, 0, 4], [3, 3, 3], [...   \n398  [[8, 2, 2, 2, 2, 2, 2, 2, 2, 2, 2, 2], [8, 0, ...   \n399  [[0, 0, 0, 0, 0, 0, 0, 0, 0, 0, 0, 0, 0], [0, ...   \n\n                              problem_example_2_output  \\\n0                    [[3, 3, 3], [3, 3, 3], [3, 3, 3]]   \n1                    [[8, 3, 8], [3, 1, 3], [8, 3, 8]]   \n2                    [[1, 1, 1], [2, 2, 2], [4, 4, 4]]   \n3    [[0, 0, 0, 0, 0, 0, 0, 0, 0, 0], [0, 1, 0, 0, ...   \n4    [[0, 2, 0, 0, 0, 0, 0, 0, 0, 0, 0, 0, 0, 0, 0,...   \n..                                                 ...   \n395                  [[4, 6, 6], [4, 4, 6], [4, 8, 8]]   \n396  [[0, 1, 1, 1, 1, 0], [0, 0, 1, 1, 0, 0], [0, 1...   \n397                  [[6, 6, 6], [6, 0, 0], [6, 0, 6]]   \n398  [[8, 2, 2, 2, 2, 2, 2, 2, 2, 2, 2, 2], [8, 0, ...   \n399  [[0, 0, 0, 0, 0, 0, 0, 0, 0, 0, 0, 0, 0], [0, ...   \n\n                               problem_example_3_input  \\\n0                          [5, 0, 0, 0, 5, 0, 5, 0, 0]   \n1    [4, 4, 4, 4, 4, 4, 4, 4, 4, 4, 4, 4, 4, 4, 4, ...   \n2    [0, 0, 0, 0, 0, 0, 0, 0, 0, 0, 0, 0, 2, 2, 2, ...   \n3    [0, 0, 0, 0, 0, 0, 0, 0, 0, 0, 0, 0, 0, 0, 0, ...   \n4    [0, 0, 0, 0, 0, 0, 0, 0, 0, 0, 0, 0, 0, 0, 0, ...   \n..                                                 ...   \n395               [2, 3, 3, 2, 4, 4, 2, 3, 3, 2, 4, 4]   \n396                        [0, 0, 0, 0, 0, 1, 0, 0, 1]   \n397  [0, 0, 4, 0, 3, 0, 0, 4, 4, 3, 0, 3, 4, 4, 0, ...   \n398  [8, 8, 8, 8, 8, 8, 8, 8, 8, 2, 8, 8, 8, 0, 8, ...   \n399  [0, 0, 0, 0, 0, 0, 0, 0, 0, 0, 0, 0, 0, 0, 0, ...   \n\n                              problem_example_3_output  \\\n0                          [2, 2, 2, 4, 4, 4, 2, 2, 2]   \n1    [1, 4, 7, 4, 1, 4, 4, 4, 4, 4, 7, 4, 4, 4, 7, ...   \n2     [2, 2, 2, 2, 8, 8, 8, 8, 4, 4, 4, 4, 1, 1, 1, 1]   \n3    [0, 0, 0, 0, 0, 0, 0, 0, 0, 0, 0, 0, 0, 0, 0, ...   \n4    [3, 3, 3, 3, 3, 3, 3, 3, 3, 3, 3, 3, 3, 3, 3, ...   \n..                                                 ...   \n395                                 [2, 3, 3, 2, 4, 4]   \n396  [0, 0, 0, 0, 0, 1, 0, 0, 1, 0, 0, 1, 0, 0, 1, ...   \n397                        [0, 6, 6, 6, 6, 6, 6, 6, 6]   \n398  [8, 8, 8, 8, 8, 8, 8, 8, 8, 2, 8, 8, 8, 3, 8, ...   \n399  [0, 0, 0, 0, 0, 0, 0, 0, 0, 0, 0, 0, 0, 0, 0, ...   \n\n                               problem_example_4_input  \\\n0                    [[0, 0, 0], [5, 0, 5], [0, 5, 0]]   \n1                    [[0, 0, 0], [5, 0, 5], [0, 5, 0]]   \n2                    [[0, 0, 0], [5, 0, 5], [0, 5, 0]]   \n3                    [[0, 0, 0], [5, 0, 5], [0, 5, 0]]   \n4                    [[0, 0, 0], [5, 0, 5], [0, 5, 0]]   \n..                                                 ...   \n395  [[0, 0, 0, 0, 0, 0, 0, 0, 0, 0], [0, 0, 0, 0, ...   \n396  [[0, 0, 0, 0, 0, 0, 0, 0, 0, 0], [0, 0, 0, 0, ...   \n397  [[4, 0, 4], [4, 0, 0], [0, 0, 0], [3, 0, 0], [...   \n398  [[4, 0, 4], [4, 0, 0], [0, 0, 0], [3, 0, 0], [...   \n399  [[4, 0, 4], [4, 0, 0], [0, 0, 0], [3, 0, 0], [...   \n\n                              problem_example_4_output  \\\n0                    [[4, 3, 4], [4, 3, 4], [4, 3, 4]]   \n1                    [[4, 3, 4], [4, 3, 4], [4, 3, 4]]   \n2                    [[4, 3, 4], [4, 3, 4], [4, 3, 4]]   \n3                    [[4, 3, 4], [4, 3, 4], [4, 3, 4]]   \n4                    [[4, 3, 4], [4, 3, 4], [4, 3, 4]]   \n..                                                 ...   \n395  [[3, 3, 3, 3, 3, 3, 3, 3, 3, 3], [3, 3, 3, 3, ...   \n396  [[3, 3, 3, 3, 3, 3, 3, 3, 3, 3], [3, 3, 3, 3, ...   \n397                  [[6, 0, 6], [6, 0, 0], [0, 6, 0]]   \n398                  [[6, 0, 6], [6, 0, 0], [0, 6, 0]]   \n399                  [[6, 0, 6], [6, 0, 0], [0, 6, 0]]   \n\n                                    problem_test_input  \\\n0                    [[0, 5, 0], [0, 0, 5], [5, 0, 0]]   \n1    [[8, 8, 8, 8, 8, 8, 8, 8, 8, 8, 8, 8, 8, 8, 8,...   \n2    [[2, 0, 0, 3, 0, 0, 8, 0, 0, 4, 0, 0, 6, 0, 0,...   \n3    [[0, 0, 0, 0, 0, 0, 0, 0, 0, 0], [1, 0, 0, 0, ...   \n4    [[0, 0, 0, 0, 0, 0, 0, 0, 0, 0, 0, 0, 0, 0, 0,...   \n..                                                 ...   \n395  [[5, 4, 6, 2, 5, 4, 6, 2], [4, 5, 6, 6, 4, 5, ...   \n396                  [[0, 0, 1], [0, 0, 0], [0, 1, 0]]   \n397  [[0, 4, 0], [4, 0, 4], [4, 0, 0], [3, 3, 3], [...   \n398  [[8, 8, 8, 8, 8, 8, 8, 8, 8, 8, 8, 8, 8, 8], [...   \n399  [[0, 0, 0, 0, 0, 0, 0, 0, 0, 0, 0, 0], [0, 0, ...   \n\n                                   problem_test_output  \n0                    [[3, 2, 4], [3, 2, 4], [3, 2, 4]]  \n1    [[3, 8, 2, 1, 2, 8, 3], [8, 8, 8, 8, 8, 8, 8],...  \n2    [[2, 3, 8, 4, 6, 1, 7], [2, 3, 8, 4, 6, 1, 7],...  \n3    [[0, 0, 0, 0, 0, 0, 0, 0, 0, 0], [1, 0, 0, 0, ...  \n4    [[4, 0, 0, 0, 0, 0, 0, 0, 0, 0, 0, 0, 0, 0, 0,...  \n..                                                 ...  \n395         [[5, 4, 6, 2], [4, 5, 6, 6], [5, 4, 4, 2]]  \n396  [[0, 0, 1, 1, 0, 0], [0, 0, 0, 0, 0, 0], [0, 1...  \n397                  [[6, 6, 6], [6, 6, 6], [6, 0, 0]]  \n398  [[8, 8, 8, 8, 8, 8, 8, 8, 8, 8, 8, 8, 8, 8], [...  \n399  [[0, 0, 0, 0, 0, 0, 0, 0, 0, 0, 0, 0], [0, 0, ...  \n\n[400 rows x 10 columns]",
      "text/html": "<div>\n<style scoped>\n    .dataframe tbody tr th:only-of-type {\n        vertical-align: middle;\n    }\n\n    .dataframe tbody tr th {\n        vertical-align: top;\n    }\n\n    .dataframe thead th {\n        text-align: right;\n    }\n</style>\n<table border=\"1\" class=\"dataframe\">\n  <thead>\n    <tr style=\"text-align: right;\">\n      <th></th>\n      <th>problem_example_1_input</th>\n      <th>problem_example_1_output</th>\n      <th>problem_example_2_input</th>\n      <th>problem_example_2_output</th>\n      <th>problem_example_3_input</th>\n      <th>problem_example_3_output</th>\n      <th>problem_example_4_input</th>\n      <th>problem_example_4_output</th>\n      <th>problem_test_input</th>\n      <th>problem_test_output</th>\n    </tr>\n  </thead>\n  <tbody>\n    <tr>\n      <th>0</th>\n      <td>[[0, 0, 5], [0, 5, 0], [5, 0, 0]]</td>\n      <td>[[3, 4, 2], [3, 4, 2], [3, 4, 2]]</td>\n      <td>[[0, 0, 0], [0, 0, 0], [5, 5, 5]]</td>\n      <td>[[3, 3, 3], [3, 3, 3], [3, 3, 3]]</td>\n      <td>[5, 0, 0, 0, 5, 0, 5, 0, 0]</td>\n      <td>[2, 2, 2, 4, 4, 4, 2, 2, 2]</td>\n      <td>[[0, 0, 0], [5, 0, 5], [0, 5, 0]]</td>\n      <td>[[4, 3, 4], [4, 3, 4], [4, 3, 4]]</td>\n      <td>[[0, 5, 0], [0, 0, 5], [5, 0, 0]]</td>\n      <td>[[3, 2, 4], [3, 2, 4], [3, 2, 4]]</td>\n    </tr>\n    <tr>\n      <th>1</th>\n      <td>[[3, 3, 3, 3, 3, 3, 3, 3, 8, 3, 8, 3], [3, 3, ...</td>\n      <td>[[2, 8, 1, 8, 2], [4, 3, 3, 3, 4], [1, 3, 3, 3...</td>\n      <td>[[1, 1, 1, 1, 1, 1, 1, 1, 1, 1], [1, 8, 1, 8, ...</td>\n      <td>[[8, 3, 8], [3, 1, 3], [8, 3, 8]]</td>\n      <td>[4, 4, 4, 4, 4, 4, 4, 4, 4, 4, 4, 4, 4, 4, 4, ...</td>\n      <td>[1, 4, 7, 4, 1, 4, 4, 4, 4, 4, 7, 4, 4, 4, 7, ...</td>\n      <td>[[0, 0, 0], [5, 0, 5], [0, 5, 0]]</td>\n      <td>[[4, 3, 4], [4, 3, 4], [4, 3, 4]]</td>\n      <td>[[8, 8, 8, 8, 8, 8, 8, 8, 8, 8, 8, 8, 8, 8, 8,...</td>\n      <td>[[3, 8, 2, 1, 2, 8, 3], [8, 8, 8, 8, 8, 8, 8],...</td>\n    </tr>\n    <tr>\n      <th>2</th>\n      <td>[[0, 0, 2, 0, 0, 1, 0, 0, 3, 0, 0, 0, 0, 0, 0,...</td>\n      <td>[[2, 1, 3, 4, 8, 6], [2, 1, 3, 4, 8, 6], [2, 1...</td>\n      <td>[[0, 0, 0, 0, 0, 0, 0, 0, 0, 0, 0, 0], [0, 5, ...</td>\n      <td>[[1, 1, 1], [2, 2, 2], [4, 4, 4]]</td>\n      <td>[0, 0, 0, 0, 0, 0, 0, 0, 0, 0, 0, 0, 2, 2, 2, ...</td>\n      <td>[2, 2, 2, 2, 8, 8, 8, 8, 4, 4, 4, 4, 1, 1, 1, 1]</td>\n      <td>[[0, 0, 0], [5, 0, 5], [0, 5, 0]]</td>\n      <td>[[4, 3, 4], [4, 3, 4], [4, 3, 4]]</td>\n      <td>[[2, 0, 0, 3, 0, 0, 8, 0, 0, 4, 0, 0, 6, 0, 0,...</td>\n      <td>[[2, 3, 8, 4, 6, 1, 7], [2, 3, 8, 4, 6, 1, 7],...</td>\n    </tr>\n    <tr>\n      <th>3</th>\n      <td>[[1, 0, 0, 0, 0], [0, 0, 0, 1, 0], [1, 0, 0, 0...</td>\n      <td>[[1, 0, 0, 0, 0], [2, 0, 0, 1, 0], [1, 0, 0, 2...</td>\n      <td>[[0, 0, 0, 0, 0, 0, 0, 0, 0, 0], [0, 1, 0, 0, ...</td>\n      <td>[[0, 0, 0, 0, 0, 0, 0, 0, 0, 0], [0, 1, 0, 0, ...</td>\n      <td>[0, 0, 0, 0, 0, 0, 0, 0, 0, 0, 0, 0, 0, 0, 0, ...</td>\n      <td>[0, 0, 0, 0, 0, 0, 0, 0, 0, 0, 0, 0, 0, 0, 0, ...</td>\n      <td>[[0, 0, 0], [5, 0, 5], [0, 5, 0]]</td>\n      <td>[[4, 3, 4], [4, 3, 4], [4, 3, 4]]</td>\n      <td>[[0, 0, 0, 0, 0, 0, 0, 0, 0, 0], [1, 0, 0, 0, ...</td>\n      <td>[[0, 0, 0, 0, 0, 0, 0, 0, 0, 0], [1, 0, 0, 0, ...</td>\n    </tr>\n    <tr>\n      <th>4</th>\n      <td>[[0, 0, 0, 0, 0, 0, 0, 0, 0, 0, 0, 0, 0, 0, 0,...</td>\n      <td>[[0, 0, 0, 0, 0, 0, 0, 0, 0, 0, 0, 0, 0, 0, 0,...</td>\n      <td>[[0, 0, 0, 0, 0, 0, 0, 0, 0, 0, 0, 0, 0, 0, 0,...</td>\n      <td>[[0, 2, 0, 0, 0, 0, 0, 0, 0, 0, 0, 0, 0, 0, 0,...</td>\n      <td>[0, 0, 0, 0, 0, 0, 0, 0, 0, 0, 0, 0, 0, 0, 0, ...</td>\n      <td>[3, 3, 3, 3, 3, 3, 3, 3, 3, 3, 3, 3, 3, 3, 3, ...</td>\n      <td>[[0, 0, 0], [5, 0, 5], [0, 5, 0]]</td>\n      <td>[[4, 3, 4], [4, 3, 4], [4, 3, 4]]</td>\n      <td>[[0, 0, 0, 0, 0, 0, 0, 0, 0, 0, 0, 0, 0, 0, 0,...</td>\n      <td>[[4, 0, 0, 0, 0, 0, 0, 0, 0, 0, 0, 0, 0, 0, 0,...</td>\n    </tr>\n    <tr>\n      <th>...</th>\n      <td>...</td>\n      <td>...</td>\n      <td>...</td>\n      <td>...</td>\n      <td>...</td>\n      <td>...</td>\n      <td>...</td>\n      <td>...</td>\n      <td>...</td>\n      <td>...</td>\n    </tr>\n    <tr>\n      <th>395</th>\n      <td>[[1, 1, 3, 2], [1, 1, 3, 3], [3, 3, 1, 1], [2,...</td>\n      <td>[[1, 1, 3, 2], [1, 1, 3, 3], [3, 3, 1, 1], [2,...</td>\n      <td>[[4, 6, 6], [4, 4, 6], [4, 8, 8], [4, 6, 6], [...</td>\n      <td>[[4, 6, 6], [4, 4, 6], [4, 8, 8]]</td>\n      <td>[2, 3, 3, 2, 4, 4, 2, 3, 3, 2, 4, 4]</td>\n      <td>[2, 3, 3, 2, 4, 4]</td>\n      <td>[[0, 0, 0, 0, 0, 0, 0, 0, 0, 0], [0, 0, 0, 0, ...</td>\n      <td>[[3, 3, 3, 3, 3, 3, 3, 3, 3, 3], [3, 3, 3, 3, ...</td>\n      <td>[[5, 4, 6, 2, 5, 4, 6, 2], [4, 5, 6, 6, 4, 5, ...</td>\n      <td>[[5, 4, 6, 2], [4, 5, 6, 6], [5, 4, 4, 2]]</td>\n    </tr>\n    <tr>\n      <th>396</th>\n      <td>[[1, 1, 0], [1, 1, 0], [0, 1, 0]]</td>\n      <td>[[1, 1, 0, 0, 1, 1], [1, 1, 0, 0, 1, 1], [0, 1...</td>\n      <td>[[0, 1, 1], [0, 0, 1], [0, 1, 0]]</td>\n      <td>[[0, 1, 1, 1, 1, 0], [0, 0, 1, 1, 0, 0], [0, 1...</td>\n      <td>[0, 0, 0, 0, 0, 1, 0, 0, 1]</td>\n      <td>[0, 0, 0, 0, 0, 1, 0, 0, 1, 0, 0, 1, 0, 0, 1, ...</td>\n      <td>[[0, 0, 0, 0, 0, 0, 0, 0, 0, 0], [0, 0, 0, 0, ...</td>\n      <td>[[3, 3, 3, 3, 3, 3, 3, 3, 3, 3], [3, 3, 3, 3, ...</td>\n      <td>[[0, 0, 1], [0, 0, 0], [0, 1, 0]]</td>\n      <td>[[0, 0, 1, 1, 0, 0], [0, 0, 0, 0, 0, 0], [0, 1...</td>\n    </tr>\n    <tr>\n      <th>397</th>\n      <td>[[4, 4, 0], [4, 0, 0], [0, 0, 0], [3, 3, 0], [...</td>\n      <td>[[6, 6, 0], [6, 0, 0], [0, 0, 6]]</td>\n      <td>[[4, 4, 0], [0, 0, 0], [4, 0, 4], [3, 3, 3], [...</td>\n      <td>[[6, 6, 6], [6, 0, 0], [6, 0, 6]]</td>\n      <td>[0, 0, 4, 0, 3, 0, 0, 4, 4, 3, 0, 3, 4, 4, 0, ...</td>\n      <td>[0, 6, 6, 6, 6, 6, 6, 6, 6]</td>\n      <td>[[4, 0, 4], [4, 0, 0], [0, 0, 0], [3, 0, 0], [...</td>\n      <td>[[6, 0, 6], [6, 0, 0], [0, 6, 0]]</td>\n      <td>[[0, 4, 0], [4, 0, 4], [4, 0, 0], [3, 3, 3], [...</td>\n      <td>[[6, 6, 6], [6, 6, 6], [6, 0, 0]]</td>\n    </tr>\n    <tr>\n      <th>398</th>\n      <td>[[2, 8, 8, 8, 8, 8, 8, 8, 8, 8, 8, 8], [2, 0, ...</td>\n      <td>[[2, 8, 8, 8, 8, 8, 8, 8, 8, 8, 8, 8], [2, 0, ...</td>\n      <td>[[8, 2, 2, 2, 2, 2, 2, 2, 2, 2, 2, 2], [8, 0, ...</td>\n      <td>[[8, 2, 2, 2, 2, 2, 2, 2, 2, 2, 2, 2], [8, 0, ...</td>\n      <td>[8, 8, 8, 8, 8, 8, 8, 8, 8, 2, 8, 8, 8, 0, 8, ...</td>\n      <td>[8, 8, 8, 8, 8, 8, 8, 8, 8, 2, 8, 8, 8, 3, 8, ...</td>\n      <td>[[4, 0, 4], [4, 0, 0], [0, 0, 0], [3, 0, 0], [...</td>\n      <td>[[6, 0, 6], [6, 0, 0], [0, 6, 0]]</td>\n      <td>[[8, 8, 8, 8, 8, 8, 8, 8, 8, 8, 8, 8, 8, 8], [...</td>\n      <td>[[8, 8, 8, 8, 8, 8, 8, 8, 8, 8, 8, 8, 8, 8], [...</td>\n    </tr>\n    <tr>\n      <th>399</th>\n      <td>[[0, 0, 0, 0, 0, 0, 0, 0, 0, 0, 0, 0, 0, 0, 0,...</td>\n      <td>[[0, 0, 0, 0, 0, 0, 0, 0, 0, 0, 0, 0, 0, 0, 0,...</td>\n      <td>[[0, 0, 0, 0, 0, 0, 0, 0, 0, 0, 0, 0, 0], [0, ...</td>\n      <td>[[0, 0, 0, 0, 0, 0, 0, 0, 0, 0, 0, 0, 0], [0, ...</td>\n      <td>[0, 0, 0, 0, 0, 0, 0, 0, 0, 0, 0, 0, 0, 0, 0, ...</td>\n      <td>[0, 0, 0, 0, 0, 0, 0, 0, 0, 0, 0, 0, 0, 0, 0, ...</td>\n      <td>[[4, 0, 4], [4, 0, 0], [0, 0, 0], [3, 0, 0], [...</td>\n      <td>[[6, 0, 6], [6, 0, 0], [0, 6, 0]]</td>\n      <td>[[0, 0, 0, 0, 0, 0, 0, 0, 0, 0, 0, 0], [0, 0, ...</td>\n      <td>[[0, 0, 0, 0, 0, 0, 0, 0, 0, 0, 0, 0], [0, 0, ...</td>\n    </tr>\n  </tbody>\n</table>\n<p>400 rows × 10 columns</p>\n</div>"
     },
     "execution_count": 11,
     "metadata": {},
     "output_type": "execute_result"
    }
   ],
   "source": [
    "arc_no_id"
   ],
   "metadata": {
    "collapsed": false,
    "ExecuteTime": {
     "end_time": "2024-09-19T22:17:37.436490Z",
     "start_time": "2024-09-19T22:17:37.414829Z"
    }
   },
   "id": "59922bca943240e7"
  },
  {
   "cell_type": "code",
   "execution_count": 184,
   "outputs": [
    {
     "data": {
      "text/plain": "[['0', '0', '5'], ['0', '5', '0'], ['5', '0', '0']]"
     },
     "execution_count": 184,
     "metadata": {},
     "output_type": "execute_result"
    }
   ],
   "source": [
    "arc_train[\"problem_example_1_input\"].iloc[0]"
   ],
   "metadata": {
    "collapsed": false,
    "ExecuteTime": {
     "end_time": "2024-09-18T19:40:30.454268Z",
     "start_time": "2024-09-18T19:40:30.442968Z"
    }
   },
   "id": "a7885ca02e8b7019"
  },
  {
   "cell_type": "code",
   "execution_count": 9,
   "outputs": [],
   "source": [
    "arc_no_id = arc_train.loc[:, arc_train.columns != \"problem_id\"]\n",
    "arc_no_id_hf = Dataset.from_pandas(arc_no_id)"
   ],
   "metadata": {
    "collapsed": false,
    "ExecuteTime": {
     "end_time": "2024-09-20T03:14:01.653357Z",
     "start_time": "2024-09-20T03:14:01.609594Z"
    }
   },
   "id": "440338c9d83bb122"
  },
  {
   "cell_type": "code",
   "execution_count": 181,
   "outputs": [
    {
     "ename": "TypeError",
     "evalue": "TextEncodeInput must be Union[TextInputSequence, Tuple[InputSequence, InputSequence]]",
     "output_type": "error",
     "traceback": [
      "\u001B[0;31m---------------------------------------------------------------------------\u001B[0m",
      "\u001B[0;31mTypeError\u001B[0m                                 Traceback (most recent call last)",
      "Cell \u001B[0;32mIn[181], line 1\u001B[0m\n\u001B[0;32m----> 1\u001B[0m arc_no_id_tokenized \u001B[38;5;241m=\u001B[39m \u001B[43marc_no_id\u001B[49m\u001B[38;5;241;43m.\u001B[39;49m\u001B[43mmap\u001B[49m\u001B[43m(\u001B[49m\n\u001B[1;32m      2\u001B[0m \u001B[43m    \u001B[49m\u001B[43mtokenizer\u001B[49m\u001B[43m,\u001B[49m\n\u001B[1;32m      3\u001B[0m \u001B[43m    \u001B[49m\u001B[38;5;66;43;03m#batched=True,\u001B[39;49;00m\n\u001B[1;32m      4\u001B[0m \u001B[43m    \u001B[49m\u001B[38;5;66;43;03m#batch_size=10,\u001B[39;49;00m\n\u001B[1;32m      5\u001B[0m \u001B[43m)\u001B[49m\n",
      "File \u001B[0;32m~/PycharmProjects/fastexps/venv/lib/python3.11/site-packages/pandas/core/frame.py:10468\u001B[0m, in \u001B[0;36mDataFrame.map\u001B[0;34m(self, func, na_action, **kwargs)\u001B[0m\n\u001B[1;32m  10465\u001B[0m \u001B[38;5;28;01mdef\u001B[39;00m \u001B[38;5;21minfer\u001B[39m(x):\n\u001B[1;32m  10466\u001B[0m     \u001B[38;5;28;01mreturn\u001B[39;00m x\u001B[38;5;241m.\u001B[39m_map_values(func, na_action\u001B[38;5;241m=\u001B[39mna_action)\n\u001B[0;32m> 10468\u001B[0m \u001B[38;5;28;01mreturn\u001B[39;00m \u001B[38;5;28;43mself\u001B[39;49m\u001B[38;5;241;43m.\u001B[39;49m\u001B[43mapply\u001B[49m\u001B[43m(\u001B[49m\u001B[43minfer\u001B[49m\u001B[43m)\u001B[49m\u001B[38;5;241m.\u001B[39m__finalize__(\u001B[38;5;28mself\u001B[39m, \u001B[38;5;124m\"\u001B[39m\u001B[38;5;124mmap\u001B[39m\u001B[38;5;124m\"\u001B[39m)\n",
      "File \u001B[0;32m~/PycharmProjects/fastexps/venv/lib/python3.11/site-packages/pandas/core/frame.py:10374\u001B[0m, in \u001B[0;36mDataFrame.apply\u001B[0;34m(self, func, axis, raw, result_type, args, by_row, engine, engine_kwargs, **kwargs)\u001B[0m\n\u001B[1;32m  10360\u001B[0m \u001B[38;5;28;01mfrom\u001B[39;00m \u001B[38;5;21;01mpandas\u001B[39;00m\u001B[38;5;21;01m.\u001B[39;00m\u001B[38;5;21;01mcore\u001B[39;00m\u001B[38;5;21;01m.\u001B[39;00m\u001B[38;5;21;01mapply\u001B[39;00m \u001B[38;5;28;01mimport\u001B[39;00m frame_apply\n\u001B[1;32m  10362\u001B[0m op \u001B[38;5;241m=\u001B[39m frame_apply(\n\u001B[1;32m  10363\u001B[0m     \u001B[38;5;28mself\u001B[39m,\n\u001B[1;32m  10364\u001B[0m     func\u001B[38;5;241m=\u001B[39mfunc,\n\u001B[0;32m   (...)\u001B[0m\n\u001B[1;32m  10372\u001B[0m     kwargs\u001B[38;5;241m=\u001B[39mkwargs,\n\u001B[1;32m  10373\u001B[0m )\n\u001B[0;32m> 10374\u001B[0m \u001B[38;5;28;01mreturn\u001B[39;00m \u001B[43mop\u001B[49m\u001B[38;5;241;43m.\u001B[39;49m\u001B[43mapply\u001B[49m\u001B[43m(\u001B[49m\u001B[43m)\u001B[49m\u001B[38;5;241m.\u001B[39m__finalize__(\u001B[38;5;28mself\u001B[39m, method\u001B[38;5;241m=\u001B[39m\u001B[38;5;124m\"\u001B[39m\u001B[38;5;124mapply\u001B[39m\u001B[38;5;124m\"\u001B[39m)\n",
      "File \u001B[0;32m~/PycharmProjects/fastexps/venv/lib/python3.11/site-packages/pandas/core/apply.py:916\u001B[0m, in \u001B[0;36mFrameApply.apply\u001B[0;34m(self)\u001B[0m\n\u001B[1;32m    913\u001B[0m \u001B[38;5;28;01melif\u001B[39;00m \u001B[38;5;28mself\u001B[39m\u001B[38;5;241m.\u001B[39mraw:\n\u001B[1;32m    914\u001B[0m     \u001B[38;5;28;01mreturn\u001B[39;00m \u001B[38;5;28mself\u001B[39m\u001B[38;5;241m.\u001B[39mapply_raw(engine\u001B[38;5;241m=\u001B[39m\u001B[38;5;28mself\u001B[39m\u001B[38;5;241m.\u001B[39mengine, engine_kwargs\u001B[38;5;241m=\u001B[39m\u001B[38;5;28mself\u001B[39m\u001B[38;5;241m.\u001B[39mengine_kwargs)\n\u001B[0;32m--> 916\u001B[0m \u001B[38;5;28;01mreturn\u001B[39;00m \u001B[38;5;28;43mself\u001B[39;49m\u001B[38;5;241;43m.\u001B[39;49m\u001B[43mapply_standard\u001B[49m\u001B[43m(\u001B[49m\u001B[43m)\u001B[49m\n",
      "File \u001B[0;32m~/PycharmProjects/fastexps/venv/lib/python3.11/site-packages/pandas/core/apply.py:1063\u001B[0m, in \u001B[0;36mFrameApply.apply_standard\u001B[0;34m(self)\u001B[0m\n\u001B[1;32m   1061\u001B[0m \u001B[38;5;28;01mdef\u001B[39;00m \u001B[38;5;21mapply_standard\u001B[39m(\u001B[38;5;28mself\u001B[39m):\n\u001B[1;32m   1062\u001B[0m     \u001B[38;5;28;01mif\u001B[39;00m \u001B[38;5;28mself\u001B[39m\u001B[38;5;241m.\u001B[39mengine \u001B[38;5;241m==\u001B[39m \u001B[38;5;124m\"\u001B[39m\u001B[38;5;124mpython\u001B[39m\u001B[38;5;124m\"\u001B[39m:\n\u001B[0;32m-> 1063\u001B[0m         results, res_index \u001B[38;5;241m=\u001B[39m \u001B[38;5;28;43mself\u001B[39;49m\u001B[38;5;241;43m.\u001B[39;49m\u001B[43mapply_series_generator\u001B[49m\u001B[43m(\u001B[49m\u001B[43m)\u001B[49m\n\u001B[1;32m   1064\u001B[0m     \u001B[38;5;28;01melse\u001B[39;00m:\n\u001B[1;32m   1065\u001B[0m         results, res_index \u001B[38;5;241m=\u001B[39m \u001B[38;5;28mself\u001B[39m\u001B[38;5;241m.\u001B[39mapply_series_numba()\n",
      "File \u001B[0;32m~/PycharmProjects/fastexps/venv/lib/python3.11/site-packages/pandas/core/apply.py:1081\u001B[0m, in \u001B[0;36mFrameApply.apply_series_generator\u001B[0;34m(self)\u001B[0m\n\u001B[1;32m   1078\u001B[0m \u001B[38;5;28;01mwith\u001B[39;00m option_context(\u001B[38;5;124m\"\u001B[39m\u001B[38;5;124mmode.chained_assignment\u001B[39m\u001B[38;5;124m\"\u001B[39m, \u001B[38;5;28;01mNone\u001B[39;00m):\n\u001B[1;32m   1079\u001B[0m     \u001B[38;5;28;01mfor\u001B[39;00m i, v \u001B[38;5;129;01min\u001B[39;00m \u001B[38;5;28menumerate\u001B[39m(series_gen):\n\u001B[1;32m   1080\u001B[0m         \u001B[38;5;66;03m# ignore SettingWithCopy here in case the user mutates\u001B[39;00m\n\u001B[0;32m-> 1081\u001B[0m         results[i] \u001B[38;5;241m=\u001B[39m \u001B[38;5;28;43mself\u001B[39;49m\u001B[38;5;241;43m.\u001B[39;49m\u001B[43mfunc\u001B[49m\u001B[43m(\u001B[49m\u001B[43mv\u001B[49m\u001B[43m,\u001B[49m\u001B[43m \u001B[49m\u001B[38;5;241;43m*\u001B[39;49m\u001B[38;5;28;43mself\u001B[39;49m\u001B[38;5;241;43m.\u001B[39;49m\u001B[43margs\u001B[49m\u001B[43m,\u001B[49m\u001B[43m \u001B[49m\u001B[38;5;241;43m*\u001B[39;49m\u001B[38;5;241;43m*\u001B[39;49m\u001B[38;5;28;43mself\u001B[39;49m\u001B[38;5;241;43m.\u001B[39;49m\u001B[43mkwargs\u001B[49m\u001B[43m)\u001B[49m\n\u001B[1;32m   1082\u001B[0m         \u001B[38;5;28;01mif\u001B[39;00m \u001B[38;5;28misinstance\u001B[39m(results[i], ABCSeries):\n\u001B[1;32m   1083\u001B[0m             \u001B[38;5;66;03m# If we have a view on v, we need to make a copy because\u001B[39;00m\n\u001B[1;32m   1084\u001B[0m             \u001B[38;5;66;03m#  series_generator will swap out the underlying data\u001B[39;00m\n\u001B[1;32m   1085\u001B[0m             results[i] \u001B[38;5;241m=\u001B[39m results[i]\u001B[38;5;241m.\u001B[39mcopy(deep\u001B[38;5;241m=\u001B[39m\u001B[38;5;28;01mFalse\u001B[39;00m)\n",
      "File \u001B[0;32m~/PycharmProjects/fastexps/venv/lib/python3.11/site-packages/pandas/core/frame.py:10466\u001B[0m, in \u001B[0;36mDataFrame.map.<locals>.infer\u001B[0;34m(x)\u001B[0m\n\u001B[1;32m  10465\u001B[0m \u001B[38;5;28;01mdef\u001B[39;00m \u001B[38;5;21minfer\u001B[39m(x):\n\u001B[0;32m> 10466\u001B[0m     \u001B[38;5;28;01mreturn\u001B[39;00m \u001B[43mx\u001B[49m\u001B[38;5;241;43m.\u001B[39;49m\u001B[43m_map_values\u001B[49m\u001B[43m(\u001B[49m\u001B[43mfunc\u001B[49m\u001B[43m,\u001B[49m\u001B[43m \u001B[49m\u001B[43mna_action\u001B[49m\u001B[38;5;241;43m=\u001B[39;49m\u001B[43mna_action\u001B[49m\u001B[43m)\u001B[49m\n",
      "File \u001B[0;32m~/PycharmProjects/fastexps/venv/lib/python3.11/site-packages/pandas/core/base.py:921\u001B[0m, in \u001B[0;36mIndexOpsMixin._map_values\u001B[0;34m(self, mapper, na_action, convert)\u001B[0m\n\u001B[1;32m    918\u001B[0m \u001B[38;5;28;01mif\u001B[39;00m \u001B[38;5;28misinstance\u001B[39m(arr, ExtensionArray):\n\u001B[1;32m    919\u001B[0m     \u001B[38;5;28;01mreturn\u001B[39;00m arr\u001B[38;5;241m.\u001B[39mmap(mapper, na_action\u001B[38;5;241m=\u001B[39mna_action)\n\u001B[0;32m--> 921\u001B[0m \u001B[38;5;28;01mreturn\u001B[39;00m \u001B[43malgorithms\u001B[49m\u001B[38;5;241;43m.\u001B[39;49m\u001B[43mmap_array\u001B[49m\u001B[43m(\u001B[49m\u001B[43marr\u001B[49m\u001B[43m,\u001B[49m\u001B[43m \u001B[49m\u001B[43mmapper\u001B[49m\u001B[43m,\u001B[49m\u001B[43m \u001B[49m\u001B[43mna_action\u001B[49m\u001B[38;5;241;43m=\u001B[39;49m\u001B[43mna_action\u001B[49m\u001B[43m,\u001B[49m\u001B[43m \u001B[49m\u001B[43mconvert\u001B[49m\u001B[38;5;241;43m=\u001B[39;49m\u001B[43mconvert\u001B[49m\u001B[43m)\u001B[49m\n",
      "File \u001B[0;32m~/PycharmProjects/fastexps/venv/lib/python3.11/site-packages/pandas/core/algorithms.py:1743\u001B[0m, in \u001B[0;36mmap_array\u001B[0;34m(arr, mapper, na_action, convert)\u001B[0m\n\u001B[1;32m   1741\u001B[0m values \u001B[38;5;241m=\u001B[39m arr\u001B[38;5;241m.\u001B[39mastype(\u001B[38;5;28mobject\u001B[39m, copy\u001B[38;5;241m=\u001B[39m\u001B[38;5;28;01mFalse\u001B[39;00m)\n\u001B[1;32m   1742\u001B[0m \u001B[38;5;28;01mif\u001B[39;00m na_action \u001B[38;5;129;01mis\u001B[39;00m \u001B[38;5;28;01mNone\u001B[39;00m:\n\u001B[0;32m-> 1743\u001B[0m     \u001B[38;5;28;01mreturn\u001B[39;00m \u001B[43mlib\u001B[49m\u001B[38;5;241;43m.\u001B[39;49m\u001B[43mmap_infer\u001B[49m\u001B[43m(\u001B[49m\u001B[43mvalues\u001B[49m\u001B[43m,\u001B[49m\u001B[43m \u001B[49m\u001B[43mmapper\u001B[49m\u001B[43m,\u001B[49m\u001B[43m \u001B[49m\u001B[43mconvert\u001B[49m\u001B[38;5;241;43m=\u001B[39;49m\u001B[43mconvert\u001B[49m\u001B[43m)\u001B[49m\n\u001B[1;32m   1744\u001B[0m \u001B[38;5;28;01melse\u001B[39;00m:\n\u001B[1;32m   1745\u001B[0m     \u001B[38;5;28;01mreturn\u001B[39;00m lib\u001B[38;5;241m.\u001B[39mmap_infer_mask(\n\u001B[1;32m   1746\u001B[0m         values, mapper, mask\u001B[38;5;241m=\u001B[39misna(values)\u001B[38;5;241m.\u001B[39mview(np\u001B[38;5;241m.\u001B[39muint8), convert\u001B[38;5;241m=\u001B[39mconvert\n\u001B[1;32m   1747\u001B[0m     )\n",
      "File \u001B[0;32mlib.pyx:2972\u001B[0m, in \u001B[0;36mpandas._libs.lib.map_infer\u001B[0;34m()\u001B[0m\n",
      "File \u001B[0;32m~/PycharmProjects/fastexps/venv/lib/python3.11/site-packages/transformers/tokenization_utils_base.py:3055\u001B[0m, in \u001B[0;36mPreTrainedTokenizerBase.__call__\u001B[0;34m(self, text, text_pair, text_target, text_pair_target, add_special_tokens, padding, truncation, max_length, stride, is_split_into_words, pad_to_multiple_of, return_tensors, return_token_type_ids, return_attention_mask, return_overflowing_tokens, return_special_tokens_mask, return_offsets_mapping, return_length, verbose, **kwargs)\u001B[0m\n\u001B[1;32m   3053\u001B[0m     \u001B[38;5;28;01mif\u001B[39;00m \u001B[38;5;129;01mnot\u001B[39;00m \u001B[38;5;28mself\u001B[39m\u001B[38;5;241m.\u001B[39m_in_target_context_manager:\n\u001B[1;32m   3054\u001B[0m         \u001B[38;5;28mself\u001B[39m\u001B[38;5;241m.\u001B[39m_switch_to_input_mode()\n\u001B[0;32m-> 3055\u001B[0m     encodings \u001B[38;5;241m=\u001B[39m \u001B[38;5;28;43mself\u001B[39;49m\u001B[38;5;241;43m.\u001B[39;49m\u001B[43m_call_one\u001B[49m\u001B[43m(\u001B[49m\u001B[43mtext\u001B[49m\u001B[38;5;241;43m=\u001B[39;49m\u001B[43mtext\u001B[49m\u001B[43m,\u001B[49m\u001B[43m \u001B[49m\u001B[43mtext_pair\u001B[49m\u001B[38;5;241;43m=\u001B[39;49m\u001B[43mtext_pair\u001B[49m\u001B[43m,\u001B[49m\u001B[43m \u001B[49m\u001B[38;5;241;43m*\u001B[39;49m\u001B[38;5;241;43m*\u001B[39;49m\u001B[43mall_kwargs\u001B[49m\u001B[43m)\u001B[49m\n\u001B[1;32m   3056\u001B[0m \u001B[38;5;28;01mif\u001B[39;00m text_target \u001B[38;5;129;01mis\u001B[39;00m \u001B[38;5;129;01mnot\u001B[39;00m \u001B[38;5;28;01mNone\u001B[39;00m:\n\u001B[1;32m   3057\u001B[0m     \u001B[38;5;28mself\u001B[39m\u001B[38;5;241m.\u001B[39m_switch_to_target_mode()\n",
      "File \u001B[0;32m~/PycharmProjects/fastexps/venv/lib/python3.11/site-packages/transformers/tokenization_utils_base.py:3142\u001B[0m, in \u001B[0;36mPreTrainedTokenizerBase._call_one\u001B[0;34m(self, text, text_pair, add_special_tokens, padding, truncation, max_length, stride, is_split_into_words, pad_to_multiple_of, return_tensors, return_token_type_ids, return_attention_mask, return_overflowing_tokens, return_special_tokens_mask, return_offsets_mapping, return_length, verbose, split_special_tokens, **kwargs)\u001B[0m\n\u001B[1;32m   3137\u001B[0m         \u001B[38;5;28;01mraise\u001B[39;00m \u001B[38;5;167;01mValueError\u001B[39;00m(\n\u001B[1;32m   3138\u001B[0m             \u001B[38;5;124mf\u001B[39m\u001B[38;5;124m\"\u001B[39m\u001B[38;5;124mbatch length of `text`: \u001B[39m\u001B[38;5;132;01m{\u001B[39;00m\u001B[38;5;28mlen\u001B[39m(text)\u001B[38;5;132;01m}\u001B[39;00m\u001B[38;5;124m does not match batch length of `text_pair`:\u001B[39m\u001B[38;5;124m\"\u001B[39m\n\u001B[1;32m   3139\u001B[0m             \u001B[38;5;124mf\u001B[39m\u001B[38;5;124m\"\u001B[39m\u001B[38;5;124m \u001B[39m\u001B[38;5;132;01m{\u001B[39;00m\u001B[38;5;28mlen\u001B[39m(text_pair)\u001B[38;5;132;01m}\u001B[39;00m\u001B[38;5;124m.\u001B[39m\u001B[38;5;124m\"\u001B[39m\n\u001B[1;32m   3140\u001B[0m         )\n\u001B[1;32m   3141\u001B[0m     batch_text_or_text_pairs \u001B[38;5;241m=\u001B[39m \u001B[38;5;28mlist\u001B[39m(\u001B[38;5;28mzip\u001B[39m(text, text_pair)) \u001B[38;5;28;01mif\u001B[39;00m text_pair \u001B[38;5;129;01mis\u001B[39;00m \u001B[38;5;129;01mnot\u001B[39;00m \u001B[38;5;28;01mNone\u001B[39;00m \u001B[38;5;28;01melse\u001B[39;00m text\n\u001B[0;32m-> 3142\u001B[0m     \u001B[38;5;28;01mreturn\u001B[39;00m \u001B[38;5;28;43mself\u001B[39;49m\u001B[38;5;241;43m.\u001B[39;49m\u001B[43mbatch_encode_plus\u001B[49m\u001B[43m(\u001B[49m\n\u001B[1;32m   3143\u001B[0m \u001B[43m        \u001B[49m\u001B[43mbatch_text_or_text_pairs\u001B[49m\u001B[38;5;241;43m=\u001B[39;49m\u001B[43mbatch_text_or_text_pairs\u001B[49m\u001B[43m,\u001B[49m\n\u001B[1;32m   3144\u001B[0m \u001B[43m        \u001B[49m\u001B[43madd_special_tokens\u001B[49m\u001B[38;5;241;43m=\u001B[39;49m\u001B[43madd_special_tokens\u001B[49m\u001B[43m,\u001B[49m\n\u001B[1;32m   3145\u001B[0m \u001B[43m        \u001B[49m\u001B[43mpadding\u001B[49m\u001B[38;5;241;43m=\u001B[39;49m\u001B[43mpadding\u001B[49m\u001B[43m,\u001B[49m\n\u001B[1;32m   3146\u001B[0m \u001B[43m        \u001B[49m\u001B[43mtruncation\u001B[49m\u001B[38;5;241;43m=\u001B[39;49m\u001B[43mtruncation\u001B[49m\u001B[43m,\u001B[49m\n\u001B[1;32m   3147\u001B[0m \u001B[43m        \u001B[49m\u001B[43mmax_length\u001B[49m\u001B[38;5;241;43m=\u001B[39;49m\u001B[43mmax_length\u001B[49m\u001B[43m,\u001B[49m\n\u001B[1;32m   3148\u001B[0m \u001B[43m        \u001B[49m\u001B[43mstride\u001B[49m\u001B[38;5;241;43m=\u001B[39;49m\u001B[43mstride\u001B[49m\u001B[43m,\u001B[49m\n\u001B[1;32m   3149\u001B[0m \u001B[43m        \u001B[49m\u001B[43mis_split_into_words\u001B[49m\u001B[38;5;241;43m=\u001B[39;49m\u001B[43mis_split_into_words\u001B[49m\u001B[43m,\u001B[49m\n\u001B[1;32m   3150\u001B[0m \u001B[43m        \u001B[49m\u001B[43mpad_to_multiple_of\u001B[49m\u001B[38;5;241;43m=\u001B[39;49m\u001B[43mpad_to_multiple_of\u001B[49m\u001B[43m,\u001B[49m\n\u001B[1;32m   3151\u001B[0m \u001B[43m        \u001B[49m\u001B[43mreturn_tensors\u001B[49m\u001B[38;5;241;43m=\u001B[39;49m\u001B[43mreturn_tensors\u001B[49m\u001B[43m,\u001B[49m\n\u001B[1;32m   3152\u001B[0m \u001B[43m        \u001B[49m\u001B[43mreturn_token_type_ids\u001B[49m\u001B[38;5;241;43m=\u001B[39;49m\u001B[43mreturn_token_type_ids\u001B[49m\u001B[43m,\u001B[49m\n\u001B[1;32m   3153\u001B[0m \u001B[43m        \u001B[49m\u001B[43mreturn_attention_mask\u001B[49m\u001B[38;5;241;43m=\u001B[39;49m\u001B[43mreturn_attention_mask\u001B[49m\u001B[43m,\u001B[49m\n\u001B[1;32m   3154\u001B[0m \u001B[43m        \u001B[49m\u001B[43mreturn_overflowing_tokens\u001B[49m\u001B[38;5;241;43m=\u001B[39;49m\u001B[43mreturn_overflowing_tokens\u001B[49m\u001B[43m,\u001B[49m\n\u001B[1;32m   3155\u001B[0m \u001B[43m        \u001B[49m\u001B[43mreturn_special_tokens_mask\u001B[49m\u001B[38;5;241;43m=\u001B[39;49m\u001B[43mreturn_special_tokens_mask\u001B[49m\u001B[43m,\u001B[49m\n\u001B[1;32m   3156\u001B[0m \u001B[43m        \u001B[49m\u001B[43mreturn_offsets_mapping\u001B[49m\u001B[38;5;241;43m=\u001B[39;49m\u001B[43mreturn_offsets_mapping\u001B[49m\u001B[43m,\u001B[49m\n\u001B[1;32m   3157\u001B[0m \u001B[43m        \u001B[49m\u001B[43mreturn_length\u001B[49m\u001B[38;5;241;43m=\u001B[39;49m\u001B[43mreturn_length\u001B[49m\u001B[43m,\u001B[49m\n\u001B[1;32m   3158\u001B[0m \u001B[43m        \u001B[49m\u001B[43mverbose\u001B[49m\u001B[38;5;241;43m=\u001B[39;49m\u001B[43mverbose\u001B[49m\u001B[43m,\u001B[49m\n\u001B[1;32m   3159\u001B[0m \u001B[43m        \u001B[49m\u001B[43msplit_special_tokens\u001B[49m\u001B[38;5;241;43m=\u001B[39;49m\u001B[43msplit_special_tokens\u001B[49m\u001B[43m,\u001B[49m\n\u001B[1;32m   3160\u001B[0m \u001B[43m        \u001B[49m\u001B[38;5;241;43m*\u001B[39;49m\u001B[38;5;241;43m*\u001B[39;49m\u001B[43mkwargs\u001B[49m\u001B[43m,\u001B[49m\n\u001B[1;32m   3161\u001B[0m \u001B[43m    \u001B[49m\u001B[43m)\u001B[49m\n\u001B[1;32m   3162\u001B[0m \u001B[38;5;28;01melse\u001B[39;00m:\n\u001B[1;32m   3163\u001B[0m     \u001B[38;5;28;01mreturn\u001B[39;00m \u001B[38;5;28mself\u001B[39m\u001B[38;5;241m.\u001B[39mencode_plus(\n\u001B[1;32m   3164\u001B[0m         text\u001B[38;5;241m=\u001B[39mtext,\n\u001B[1;32m   3165\u001B[0m         text_pair\u001B[38;5;241m=\u001B[39mtext_pair,\n\u001B[0;32m   (...)\u001B[0m\n\u001B[1;32m   3182\u001B[0m         \u001B[38;5;241m*\u001B[39m\u001B[38;5;241m*\u001B[39mkwargs,\n\u001B[1;32m   3183\u001B[0m     )\n",
      "File \u001B[0;32m~/PycharmProjects/fastexps/venv/lib/python3.11/site-packages/transformers/tokenization_utils_base.py:3338\u001B[0m, in \u001B[0;36mPreTrainedTokenizerBase.batch_encode_plus\u001B[0;34m(self, batch_text_or_text_pairs, add_special_tokens, padding, truncation, max_length, stride, is_split_into_words, pad_to_multiple_of, return_tensors, return_token_type_ids, return_attention_mask, return_overflowing_tokens, return_special_tokens_mask, return_offsets_mapping, return_length, verbose, split_special_tokens, **kwargs)\u001B[0m\n\u001B[1;32m   3328\u001B[0m \u001B[38;5;66;03m# Backward compatibility for 'truncation_strategy', 'pad_to_max_length'\u001B[39;00m\n\u001B[1;32m   3329\u001B[0m padding_strategy, truncation_strategy, max_length, kwargs \u001B[38;5;241m=\u001B[39m \u001B[38;5;28mself\u001B[39m\u001B[38;5;241m.\u001B[39m_get_padding_truncation_strategies(\n\u001B[1;32m   3330\u001B[0m     padding\u001B[38;5;241m=\u001B[39mpadding,\n\u001B[1;32m   3331\u001B[0m     truncation\u001B[38;5;241m=\u001B[39mtruncation,\n\u001B[0;32m   (...)\u001B[0m\n\u001B[1;32m   3335\u001B[0m     \u001B[38;5;241m*\u001B[39m\u001B[38;5;241m*\u001B[39mkwargs,\n\u001B[1;32m   3336\u001B[0m )\n\u001B[0;32m-> 3338\u001B[0m \u001B[38;5;28;01mreturn\u001B[39;00m \u001B[38;5;28;43mself\u001B[39;49m\u001B[38;5;241;43m.\u001B[39;49m\u001B[43m_batch_encode_plus\u001B[49m\u001B[43m(\u001B[49m\n\u001B[1;32m   3339\u001B[0m \u001B[43m    \u001B[49m\u001B[43mbatch_text_or_text_pairs\u001B[49m\u001B[38;5;241;43m=\u001B[39;49m\u001B[43mbatch_text_or_text_pairs\u001B[49m\u001B[43m,\u001B[49m\n\u001B[1;32m   3340\u001B[0m \u001B[43m    \u001B[49m\u001B[43madd_special_tokens\u001B[49m\u001B[38;5;241;43m=\u001B[39;49m\u001B[43madd_special_tokens\u001B[49m\u001B[43m,\u001B[49m\n\u001B[1;32m   3341\u001B[0m \u001B[43m    \u001B[49m\u001B[43mpadding_strategy\u001B[49m\u001B[38;5;241;43m=\u001B[39;49m\u001B[43mpadding_strategy\u001B[49m\u001B[43m,\u001B[49m\n\u001B[1;32m   3342\u001B[0m \u001B[43m    \u001B[49m\u001B[43mtruncation_strategy\u001B[49m\u001B[38;5;241;43m=\u001B[39;49m\u001B[43mtruncation_strategy\u001B[49m\u001B[43m,\u001B[49m\n\u001B[1;32m   3343\u001B[0m \u001B[43m    \u001B[49m\u001B[43mmax_length\u001B[49m\u001B[38;5;241;43m=\u001B[39;49m\u001B[43mmax_length\u001B[49m\u001B[43m,\u001B[49m\n\u001B[1;32m   3344\u001B[0m \u001B[43m    \u001B[49m\u001B[43mstride\u001B[49m\u001B[38;5;241;43m=\u001B[39;49m\u001B[43mstride\u001B[49m\u001B[43m,\u001B[49m\n\u001B[1;32m   3345\u001B[0m \u001B[43m    \u001B[49m\u001B[43mis_split_into_words\u001B[49m\u001B[38;5;241;43m=\u001B[39;49m\u001B[43mis_split_into_words\u001B[49m\u001B[43m,\u001B[49m\n\u001B[1;32m   3346\u001B[0m \u001B[43m    \u001B[49m\u001B[43mpad_to_multiple_of\u001B[49m\u001B[38;5;241;43m=\u001B[39;49m\u001B[43mpad_to_multiple_of\u001B[49m\u001B[43m,\u001B[49m\n\u001B[1;32m   3347\u001B[0m \u001B[43m    \u001B[49m\u001B[43mreturn_tensors\u001B[49m\u001B[38;5;241;43m=\u001B[39;49m\u001B[43mreturn_tensors\u001B[49m\u001B[43m,\u001B[49m\n\u001B[1;32m   3348\u001B[0m \u001B[43m    \u001B[49m\u001B[43mreturn_token_type_ids\u001B[49m\u001B[38;5;241;43m=\u001B[39;49m\u001B[43mreturn_token_type_ids\u001B[49m\u001B[43m,\u001B[49m\n\u001B[1;32m   3349\u001B[0m \u001B[43m    \u001B[49m\u001B[43mreturn_attention_mask\u001B[49m\u001B[38;5;241;43m=\u001B[39;49m\u001B[43mreturn_attention_mask\u001B[49m\u001B[43m,\u001B[49m\n\u001B[1;32m   3350\u001B[0m \u001B[43m    \u001B[49m\u001B[43mreturn_overflowing_tokens\u001B[49m\u001B[38;5;241;43m=\u001B[39;49m\u001B[43mreturn_overflowing_tokens\u001B[49m\u001B[43m,\u001B[49m\n\u001B[1;32m   3351\u001B[0m \u001B[43m    \u001B[49m\u001B[43mreturn_special_tokens_mask\u001B[49m\u001B[38;5;241;43m=\u001B[39;49m\u001B[43mreturn_special_tokens_mask\u001B[49m\u001B[43m,\u001B[49m\n\u001B[1;32m   3352\u001B[0m \u001B[43m    \u001B[49m\u001B[43mreturn_offsets_mapping\u001B[49m\u001B[38;5;241;43m=\u001B[39;49m\u001B[43mreturn_offsets_mapping\u001B[49m\u001B[43m,\u001B[49m\n\u001B[1;32m   3353\u001B[0m \u001B[43m    \u001B[49m\u001B[43mreturn_length\u001B[49m\u001B[38;5;241;43m=\u001B[39;49m\u001B[43mreturn_length\u001B[49m\u001B[43m,\u001B[49m\n\u001B[1;32m   3354\u001B[0m \u001B[43m    \u001B[49m\u001B[43mverbose\u001B[49m\u001B[38;5;241;43m=\u001B[39;49m\u001B[43mverbose\u001B[49m\u001B[43m,\u001B[49m\n\u001B[1;32m   3355\u001B[0m \u001B[43m    \u001B[49m\u001B[43msplit_special_tokens\u001B[49m\u001B[38;5;241;43m=\u001B[39;49m\u001B[43msplit_special_tokens\u001B[49m\u001B[43m,\u001B[49m\n\u001B[1;32m   3356\u001B[0m \u001B[43m    \u001B[49m\u001B[38;5;241;43m*\u001B[39;49m\u001B[38;5;241;43m*\u001B[39;49m\u001B[43mkwargs\u001B[49m\u001B[43m,\u001B[49m\n\u001B[1;32m   3357\u001B[0m \u001B[43m\u001B[49m\u001B[43m)\u001B[49m\n",
      "File \u001B[0;32m~/PycharmProjects/fastexps/venv/lib/python3.11/site-packages/transformers/tokenization_utils_fast.py:528\u001B[0m, in \u001B[0;36mPreTrainedTokenizerFast._batch_encode_plus\u001B[0;34m(self, batch_text_or_text_pairs, add_special_tokens, padding_strategy, truncation_strategy, max_length, stride, is_split_into_words, pad_to_multiple_of, return_tensors, return_token_type_ids, return_attention_mask, return_overflowing_tokens, return_special_tokens_mask, return_offsets_mapping, return_length, verbose, split_special_tokens)\u001B[0m\n\u001B[1;32m    525\u001B[0m \u001B[38;5;28;01mif\u001B[39;00m \u001B[38;5;28mself\u001B[39m\u001B[38;5;241m.\u001B[39m_tokenizer\u001B[38;5;241m.\u001B[39mencode_special_tokens \u001B[38;5;241m!=\u001B[39m split_special_tokens:\n\u001B[1;32m    526\u001B[0m     \u001B[38;5;28mself\u001B[39m\u001B[38;5;241m.\u001B[39m_tokenizer\u001B[38;5;241m.\u001B[39mencode_special_tokens \u001B[38;5;241m=\u001B[39m split_special_tokens\n\u001B[0;32m--> 528\u001B[0m encodings \u001B[38;5;241m=\u001B[39m \u001B[38;5;28;43mself\u001B[39;49m\u001B[38;5;241;43m.\u001B[39;49m\u001B[43m_tokenizer\u001B[49m\u001B[38;5;241;43m.\u001B[39;49m\u001B[43mencode_batch\u001B[49m\u001B[43m(\u001B[49m\n\u001B[1;32m    529\u001B[0m \u001B[43m    \u001B[49m\u001B[43mbatch_text_or_text_pairs\u001B[49m\u001B[43m,\u001B[49m\n\u001B[1;32m    530\u001B[0m \u001B[43m    \u001B[49m\u001B[43madd_special_tokens\u001B[49m\u001B[38;5;241;43m=\u001B[39;49m\u001B[43madd_special_tokens\u001B[49m\u001B[43m,\u001B[49m\n\u001B[1;32m    531\u001B[0m \u001B[43m    \u001B[49m\u001B[43mis_pretokenized\u001B[49m\u001B[38;5;241;43m=\u001B[39;49m\u001B[43mis_split_into_words\u001B[49m\u001B[43m,\u001B[49m\n\u001B[1;32m    532\u001B[0m \u001B[43m\u001B[49m\u001B[43m)\u001B[49m\n\u001B[1;32m    534\u001B[0m \u001B[38;5;66;03m# Convert encoding to dict\u001B[39;00m\n\u001B[1;32m    535\u001B[0m \u001B[38;5;66;03m# `Tokens` has type: Tuple[\u001B[39;00m\n\u001B[1;32m    536\u001B[0m \u001B[38;5;66;03m#                       List[Dict[str, List[List[int]]]] or List[Dict[str, 2D-Tensor]],\u001B[39;00m\n\u001B[1;32m    537\u001B[0m \u001B[38;5;66;03m#                       List[EncodingFast]\u001B[39;00m\n\u001B[1;32m    538\u001B[0m \u001B[38;5;66;03m#                    ]\u001B[39;00m\n\u001B[1;32m    539\u001B[0m \u001B[38;5;66;03m# with nested dimensions corresponding to batch, overflows, sequence length\u001B[39;00m\n\u001B[1;32m    540\u001B[0m tokens_and_encodings \u001B[38;5;241m=\u001B[39m [\n\u001B[1;32m    541\u001B[0m     \u001B[38;5;28mself\u001B[39m\u001B[38;5;241m.\u001B[39m_convert_encoding(\n\u001B[1;32m    542\u001B[0m         encoding\u001B[38;5;241m=\u001B[39mencoding,\n\u001B[0;32m   (...)\u001B[0m\n\u001B[1;32m    551\u001B[0m     \u001B[38;5;28;01mfor\u001B[39;00m encoding \u001B[38;5;129;01min\u001B[39;00m encodings\n\u001B[1;32m    552\u001B[0m ]\n",
      "\u001B[0;31mTypeError\u001B[0m: TextEncodeInput must be Union[TextInputSequence, Tuple[InputSequence, InputSequence]]"
     ]
    }
   ],
   "source": [
    "arc_no_id_tokenized = arc_no_id.map(\n",
    "    tokenizer,\n",
    "    #batched=True,\n",
    "    #batch_size=10,\n",
    ")"
   ],
   "metadata": {
    "collapsed": false,
    "ExecuteTime": {
     "end_time": "2024-09-18T19:37:39.786108Z",
     "start_time": "2024-09-18T19:37:39.719501Z"
    }
   },
   "id": "659f17381f12221d"
  },
  {
   "cell_type": "code",
   "execution_count": 203,
   "outputs": [
    {
     "ename": "TypeError",
     "evalue": "TextEncodeInput must be Union[TextInputSequence, Tuple[InputSequence, InputSequence]]",
     "output_type": "error",
     "traceback": [
      "\u001B[0;31m---------------------------------------------------------------------------\u001B[0m",
      "\u001B[0;31mTypeError\u001B[0m                                 Traceback (most recent call last)",
      "Cell \u001B[0;32mIn[203], line 1\u001B[0m\n\u001B[0;32m----> 1\u001B[0m \u001B[43mtokenizer\u001B[49m\u001B[43m(\u001B[49m\u001B[43marc_no_id\u001B[49m\u001B[43m[\u001B[49m\u001B[38;5;124;43m\"\u001B[39;49m\u001B[38;5;124;43mproblem_example_1_input\u001B[39;49m\u001B[38;5;124;43m\"\u001B[39;49m\u001B[43m]\u001B[49m\u001B[43m[\u001B[49m\u001B[38;5;241;43m0\u001B[39;49m\u001B[43m]\u001B[49m\u001B[43m)\u001B[49m\n",
      "File \u001B[0;32m~/PycharmProjects/fastexps/venv/lib/python3.11/site-packages/transformers/tokenization_utils_base.py:3055\u001B[0m, in \u001B[0;36mPreTrainedTokenizerBase.__call__\u001B[0;34m(self, text, text_pair, text_target, text_pair_target, add_special_tokens, padding, truncation, max_length, stride, is_split_into_words, pad_to_multiple_of, return_tensors, return_token_type_ids, return_attention_mask, return_overflowing_tokens, return_special_tokens_mask, return_offsets_mapping, return_length, verbose, **kwargs)\u001B[0m\n\u001B[1;32m   3053\u001B[0m     \u001B[38;5;28;01mif\u001B[39;00m \u001B[38;5;129;01mnot\u001B[39;00m \u001B[38;5;28mself\u001B[39m\u001B[38;5;241m.\u001B[39m_in_target_context_manager:\n\u001B[1;32m   3054\u001B[0m         \u001B[38;5;28mself\u001B[39m\u001B[38;5;241m.\u001B[39m_switch_to_input_mode()\n\u001B[0;32m-> 3055\u001B[0m     encodings \u001B[38;5;241m=\u001B[39m \u001B[38;5;28;43mself\u001B[39;49m\u001B[38;5;241;43m.\u001B[39;49m\u001B[43m_call_one\u001B[49m\u001B[43m(\u001B[49m\u001B[43mtext\u001B[49m\u001B[38;5;241;43m=\u001B[39;49m\u001B[43mtext\u001B[49m\u001B[43m,\u001B[49m\u001B[43m \u001B[49m\u001B[43mtext_pair\u001B[49m\u001B[38;5;241;43m=\u001B[39;49m\u001B[43mtext_pair\u001B[49m\u001B[43m,\u001B[49m\u001B[43m \u001B[49m\u001B[38;5;241;43m*\u001B[39;49m\u001B[38;5;241;43m*\u001B[39;49m\u001B[43mall_kwargs\u001B[49m\u001B[43m)\u001B[49m\n\u001B[1;32m   3056\u001B[0m \u001B[38;5;28;01mif\u001B[39;00m text_target \u001B[38;5;129;01mis\u001B[39;00m \u001B[38;5;129;01mnot\u001B[39;00m \u001B[38;5;28;01mNone\u001B[39;00m:\n\u001B[1;32m   3057\u001B[0m     \u001B[38;5;28mself\u001B[39m\u001B[38;5;241m.\u001B[39m_switch_to_target_mode()\n",
      "File \u001B[0;32m~/PycharmProjects/fastexps/venv/lib/python3.11/site-packages/transformers/tokenization_utils_base.py:3142\u001B[0m, in \u001B[0;36mPreTrainedTokenizerBase._call_one\u001B[0;34m(self, text, text_pair, add_special_tokens, padding, truncation, max_length, stride, is_split_into_words, pad_to_multiple_of, return_tensors, return_token_type_ids, return_attention_mask, return_overflowing_tokens, return_special_tokens_mask, return_offsets_mapping, return_length, verbose, split_special_tokens, **kwargs)\u001B[0m\n\u001B[1;32m   3137\u001B[0m         \u001B[38;5;28;01mraise\u001B[39;00m \u001B[38;5;167;01mValueError\u001B[39;00m(\n\u001B[1;32m   3138\u001B[0m             \u001B[38;5;124mf\u001B[39m\u001B[38;5;124m\"\u001B[39m\u001B[38;5;124mbatch length of `text`: \u001B[39m\u001B[38;5;132;01m{\u001B[39;00m\u001B[38;5;28mlen\u001B[39m(text)\u001B[38;5;132;01m}\u001B[39;00m\u001B[38;5;124m does not match batch length of `text_pair`:\u001B[39m\u001B[38;5;124m\"\u001B[39m\n\u001B[1;32m   3139\u001B[0m             \u001B[38;5;124mf\u001B[39m\u001B[38;5;124m\"\u001B[39m\u001B[38;5;124m \u001B[39m\u001B[38;5;132;01m{\u001B[39;00m\u001B[38;5;28mlen\u001B[39m(text_pair)\u001B[38;5;132;01m}\u001B[39;00m\u001B[38;5;124m.\u001B[39m\u001B[38;5;124m\"\u001B[39m\n\u001B[1;32m   3140\u001B[0m         )\n\u001B[1;32m   3141\u001B[0m     batch_text_or_text_pairs \u001B[38;5;241m=\u001B[39m \u001B[38;5;28mlist\u001B[39m(\u001B[38;5;28mzip\u001B[39m(text, text_pair)) \u001B[38;5;28;01mif\u001B[39;00m text_pair \u001B[38;5;129;01mis\u001B[39;00m \u001B[38;5;129;01mnot\u001B[39;00m \u001B[38;5;28;01mNone\u001B[39;00m \u001B[38;5;28;01melse\u001B[39;00m text\n\u001B[0;32m-> 3142\u001B[0m     \u001B[38;5;28;01mreturn\u001B[39;00m \u001B[38;5;28;43mself\u001B[39;49m\u001B[38;5;241;43m.\u001B[39;49m\u001B[43mbatch_encode_plus\u001B[49m\u001B[43m(\u001B[49m\n\u001B[1;32m   3143\u001B[0m \u001B[43m        \u001B[49m\u001B[43mbatch_text_or_text_pairs\u001B[49m\u001B[38;5;241;43m=\u001B[39;49m\u001B[43mbatch_text_or_text_pairs\u001B[49m\u001B[43m,\u001B[49m\n\u001B[1;32m   3144\u001B[0m \u001B[43m        \u001B[49m\u001B[43madd_special_tokens\u001B[49m\u001B[38;5;241;43m=\u001B[39;49m\u001B[43madd_special_tokens\u001B[49m\u001B[43m,\u001B[49m\n\u001B[1;32m   3145\u001B[0m \u001B[43m        \u001B[49m\u001B[43mpadding\u001B[49m\u001B[38;5;241;43m=\u001B[39;49m\u001B[43mpadding\u001B[49m\u001B[43m,\u001B[49m\n\u001B[1;32m   3146\u001B[0m \u001B[43m        \u001B[49m\u001B[43mtruncation\u001B[49m\u001B[38;5;241;43m=\u001B[39;49m\u001B[43mtruncation\u001B[49m\u001B[43m,\u001B[49m\n\u001B[1;32m   3147\u001B[0m \u001B[43m        \u001B[49m\u001B[43mmax_length\u001B[49m\u001B[38;5;241;43m=\u001B[39;49m\u001B[43mmax_length\u001B[49m\u001B[43m,\u001B[49m\n\u001B[1;32m   3148\u001B[0m \u001B[43m        \u001B[49m\u001B[43mstride\u001B[49m\u001B[38;5;241;43m=\u001B[39;49m\u001B[43mstride\u001B[49m\u001B[43m,\u001B[49m\n\u001B[1;32m   3149\u001B[0m \u001B[43m        \u001B[49m\u001B[43mis_split_into_words\u001B[49m\u001B[38;5;241;43m=\u001B[39;49m\u001B[43mis_split_into_words\u001B[49m\u001B[43m,\u001B[49m\n\u001B[1;32m   3150\u001B[0m \u001B[43m        \u001B[49m\u001B[43mpad_to_multiple_of\u001B[49m\u001B[38;5;241;43m=\u001B[39;49m\u001B[43mpad_to_multiple_of\u001B[49m\u001B[43m,\u001B[49m\n\u001B[1;32m   3151\u001B[0m \u001B[43m        \u001B[49m\u001B[43mreturn_tensors\u001B[49m\u001B[38;5;241;43m=\u001B[39;49m\u001B[43mreturn_tensors\u001B[49m\u001B[43m,\u001B[49m\n\u001B[1;32m   3152\u001B[0m \u001B[43m        \u001B[49m\u001B[43mreturn_token_type_ids\u001B[49m\u001B[38;5;241;43m=\u001B[39;49m\u001B[43mreturn_token_type_ids\u001B[49m\u001B[43m,\u001B[49m\n\u001B[1;32m   3153\u001B[0m \u001B[43m        \u001B[49m\u001B[43mreturn_attention_mask\u001B[49m\u001B[38;5;241;43m=\u001B[39;49m\u001B[43mreturn_attention_mask\u001B[49m\u001B[43m,\u001B[49m\n\u001B[1;32m   3154\u001B[0m \u001B[43m        \u001B[49m\u001B[43mreturn_overflowing_tokens\u001B[49m\u001B[38;5;241;43m=\u001B[39;49m\u001B[43mreturn_overflowing_tokens\u001B[49m\u001B[43m,\u001B[49m\n\u001B[1;32m   3155\u001B[0m \u001B[43m        \u001B[49m\u001B[43mreturn_special_tokens_mask\u001B[49m\u001B[38;5;241;43m=\u001B[39;49m\u001B[43mreturn_special_tokens_mask\u001B[49m\u001B[43m,\u001B[49m\n\u001B[1;32m   3156\u001B[0m \u001B[43m        \u001B[49m\u001B[43mreturn_offsets_mapping\u001B[49m\u001B[38;5;241;43m=\u001B[39;49m\u001B[43mreturn_offsets_mapping\u001B[49m\u001B[43m,\u001B[49m\n\u001B[1;32m   3157\u001B[0m \u001B[43m        \u001B[49m\u001B[43mreturn_length\u001B[49m\u001B[38;5;241;43m=\u001B[39;49m\u001B[43mreturn_length\u001B[49m\u001B[43m,\u001B[49m\n\u001B[1;32m   3158\u001B[0m \u001B[43m        \u001B[49m\u001B[43mverbose\u001B[49m\u001B[38;5;241;43m=\u001B[39;49m\u001B[43mverbose\u001B[49m\u001B[43m,\u001B[49m\n\u001B[1;32m   3159\u001B[0m \u001B[43m        \u001B[49m\u001B[43msplit_special_tokens\u001B[49m\u001B[38;5;241;43m=\u001B[39;49m\u001B[43msplit_special_tokens\u001B[49m\u001B[43m,\u001B[49m\n\u001B[1;32m   3160\u001B[0m \u001B[43m        \u001B[49m\u001B[38;5;241;43m*\u001B[39;49m\u001B[38;5;241;43m*\u001B[39;49m\u001B[43mkwargs\u001B[49m\u001B[43m,\u001B[49m\n\u001B[1;32m   3161\u001B[0m \u001B[43m    \u001B[49m\u001B[43m)\u001B[49m\n\u001B[1;32m   3162\u001B[0m \u001B[38;5;28;01melse\u001B[39;00m:\n\u001B[1;32m   3163\u001B[0m     \u001B[38;5;28;01mreturn\u001B[39;00m \u001B[38;5;28mself\u001B[39m\u001B[38;5;241m.\u001B[39mencode_plus(\n\u001B[1;32m   3164\u001B[0m         text\u001B[38;5;241m=\u001B[39mtext,\n\u001B[1;32m   3165\u001B[0m         text_pair\u001B[38;5;241m=\u001B[39mtext_pair,\n\u001B[0;32m   (...)\u001B[0m\n\u001B[1;32m   3182\u001B[0m         \u001B[38;5;241m*\u001B[39m\u001B[38;5;241m*\u001B[39mkwargs,\n\u001B[1;32m   3183\u001B[0m     )\n",
      "File \u001B[0;32m~/PycharmProjects/fastexps/venv/lib/python3.11/site-packages/transformers/tokenization_utils_base.py:3338\u001B[0m, in \u001B[0;36mPreTrainedTokenizerBase.batch_encode_plus\u001B[0;34m(self, batch_text_or_text_pairs, add_special_tokens, padding, truncation, max_length, stride, is_split_into_words, pad_to_multiple_of, return_tensors, return_token_type_ids, return_attention_mask, return_overflowing_tokens, return_special_tokens_mask, return_offsets_mapping, return_length, verbose, split_special_tokens, **kwargs)\u001B[0m\n\u001B[1;32m   3328\u001B[0m \u001B[38;5;66;03m# Backward compatibility for 'truncation_strategy', 'pad_to_max_length'\u001B[39;00m\n\u001B[1;32m   3329\u001B[0m padding_strategy, truncation_strategy, max_length, kwargs \u001B[38;5;241m=\u001B[39m \u001B[38;5;28mself\u001B[39m\u001B[38;5;241m.\u001B[39m_get_padding_truncation_strategies(\n\u001B[1;32m   3330\u001B[0m     padding\u001B[38;5;241m=\u001B[39mpadding,\n\u001B[1;32m   3331\u001B[0m     truncation\u001B[38;5;241m=\u001B[39mtruncation,\n\u001B[0;32m   (...)\u001B[0m\n\u001B[1;32m   3335\u001B[0m     \u001B[38;5;241m*\u001B[39m\u001B[38;5;241m*\u001B[39mkwargs,\n\u001B[1;32m   3336\u001B[0m )\n\u001B[0;32m-> 3338\u001B[0m \u001B[38;5;28;01mreturn\u001B[39;00m \u001B[38;5;28;43mself\u001B[39;49m\u001B[38;5;241;43m.\u001B[39;49m\u001B[43m_batch_encode_plus\u001B[49m\u001B[43m(\u001B[49m\n\u001B[1;32m   3339\u001B[0m \u001B[43m    \u001B[49m\u001B[43mbatch_text_or_text_pairs\u001B[49m\u001B[38;5;241;43m=\u001B[39;49m\u001B[43mbatch_text_or_text_pairs\u001B[49m\u001B[43m,\u001B[49m\n\u001B[1;32m   3340\u001B[0m \u001B[43m    \u001B[49m\u001B[43madd_special_tokens\u001B[49m\u001B[38;5;241;43m=\u001B[39;49m\u001B[43madd_special_tokens\u001B[49m\u001B[43m,\u001B[49m\n\u001B[1;32m   3341\u001B[0m \u001B[43m    \u001B[49m\u001B[43mpadding_strategy\u001B[49m\u001B[38;5;241;43m=\u001B[39;49m\u001B[43mpadding_strategy\u001B[49m\u001B[43m,\u001B[49m\n\u001B[1;32m   3342\u001B[0m \u001B[43m    \u001B[49m\u001B[43mtruncation_strategy\u001B[49m\u001B[38;5;241;43m=\u001B[39;49m\u001B[43mtruncation_strategy\u001B[49m\u001B[43m,\u001B[49m\n\u001B[1;32m   3343\u001B[0m \u001B[43m    \u001B[49m\u001B[43mmax_length\u001B[49m\u001B[38;5;241;43m=\u001B[39;49m\u001B[43mmax_length\u001B[49m\u001B[43m,\u001B[49m\n\u001B[1;32m   3344\u001B[0m \u001B[43m    \u001B[49m\u001B[43mstride\u001B[49m\u001B[38;5;241;43m=\u001B[39;49m\u001B[43mstride\u001B[49m\u001B[43m,\u001B[49m\n\u001B[1;32m   3345\u001B[0m \u001B[43m    \u001B[49m\u001B[43mis_split_into_words\u001B[49m\u001B[38;5;241;43m=\u001B[39;49m\u001B[43mis_split_into_words\u001B[49m\u001B[43m,\u001B[49m\n\u001B[1;32m   3346\u001B[0m \u001B[43m    \u001B[49m\u001B[43mpad_to_multiple_of\u001B[49m\u001B[38;5;241;43m=\u001B[39;49m\u001B[43mpad_to_multiple_of\u001B[49m\u001B[43m,\u001B[49m\n\u001B[1;32m   3347\u001B[0m \u001B[43m    \u001B[49m\u001B[43mreturn_tensors\u001B[49m\u001B[38;5;241;43m=\u001B[39;49m\u001B[43mreturn_tensors\u001B[49m\u001B[43m,\u001B[49m\n\u001B[1;32m   3348\u001B[0m \u001B[43m    \u001B[49m\u001B[43mreturn_token_type_ids\u001B[49m\u001B[38;5;241;43m=\u001B[39;49m\u001B[43mreturn_token_type_ids\u001B[49m\u001B[43m,\u001B[49m\n\u001B[1;32m   3349\u001B[0m \u001B[43m    \u001B[49m\u001B[43mreturn_attention_mask\u001B[49m\u001B[38;5;241;43m=\u001B[39;49m\u001B[43mreturn_attention_mask\u001B[49m\u001B[43m,\u001B[49m\n\u001B[1;32m   3350\u001B[0m \u001B[43m    \u001B[49m\u001B[43mreturn_overflowing_tokens\u001B[49m\u001B[38;5;241;43m=\u001B[39;49m\u001B[43mreturn_overflowing_tokens\u001B[49m\u001B[43m,\u001B[49m\n\u001B[1;32m   3351\u001B[0m \u001B[43m    \u001B[49m\u001B[43mreturn_special_tokens_mask\u001B[49m\u001B[38;5;241;43m=\u001B[39;49m\u001B[43mreturn_special_tokens_mask\u001B[49m\u001B[43m,\u001B[49m\n\u001B[1;32m   3352\u001B[0m \u001B[43m    \u001B[49m\u001B[43mreturn_offsets_mapping\u001B[49m\u001B[38;5;241;43m=\u001B[39;49m\u001B[43mreturn_offsets_mapping\u001B[49m\u001B[43m,\u001B[49m\n\u001B[1;32m   3353\u001B[0m \u001B[43m    \u001B[49m\u001B[43mreturn_length\u001B[49m\u001B[38;5;241;43m=\u001B[39;49m\u001B[43mreturn_length\u001B[49m\u001B[43m,\u001B[49m\n\u001B[1;32m   3354\u001B[0m \u001B[43m    \u001B[49m\u001B[43mverbose\u001B[49m\u001B[38;5;241;43m=\u001B[39;49m\u001B[43mverbose\u001B[49m\u001B[43m,\u001B[49m\n\u001B[1;32m   3355\u001B[0m \u001B[43m    \u001B[49m\u001B[43msplit_special_tokens\u001B[49m\u001B[38;5;241;43m=\u001B[39;49m\u001B[43msplit_special_tokens\u001B[49m\u001B[43m,\u001B[49m\n\u001B[1;32m   3356\u001B[0m \u001B[43m    \u001B[49m\u001B[38;5;241;43m*\u001B[39;49m\u001B[38;5;241;43m*\u001B[39;49m\u001B[43mkwargs\u001B[49m\u001B[43m,\u001B[49m\n\u001B[1;32m   3357\u001B[0m \u001B[43m\u001B[49m\u001B[43m)\u001B[49m\n",
      "File \u001B[0;32m~/PycharmProjects/fastexps/venv/lib/python3.11/site-packages/transformers/tokenization_utils_fast.py:528\u001B[0m, in \u001B[0;36mPreTrainedTokenizerFast._batch_encode_plus\u001B[0;34m(self, batch_text_or_text_pairs, add_special_tokens, padding_strategy, truncation_strategy, max_length, stride, is_split_into_words, pad_to_multiple_of, return_tensors, return_token_type_ids, return_attention_mask, return_overflowing_tokens, return_special_tokens_mask, return_offsets_mapping, return_length, verbose, split_special_tokens)\u001B[0m\n\u001B[1;32m    525\u001B[0m \u001B[38;5;28;01mif\u001B[39;00m \u001B[38;5;28mself\u001B[39m\u001B[38;5;241m.\u001B[39m_tokenizer\u001B[38;5;241m.\u001B[39mencode_special_tokens \u001B[38;5;241m!=\u001B[39m split_special_tokens:\n\u001B[1;32m    526\u001B[0m     \u001B[38;5;28mself\u001B[39m\u001B[38;5;241m.\u001B[39m_tokenizer\u001B[38;5;241m.\u001B[39mencode_special_tokens \u001B[38;5;241m=\u001B[39m split_special_tokens\n\u001B[0;32m--> 528\u001B[0m encodings \u001B[38;5;241m=\u001B[39m \u001B[38;5;28;43mself\u001B[39;49m\u001B[38;5;241;43m.\u001B[39;49m\u001B[43m_tokenizer\u001B[49m\u001B[38;5;241;43m.\u001B[39;49m\u001B[43mencode_batch\u001B[49m\u001B[43m(\u001B[49m\n\u001B[1;32m    529\u001B[0m \u001B[43m    \u001B[49m\u001B[43mbatch_text_or_text_pairs\u001B[49m\u001B[43m,\u001B[49m\n\u001B[1;32m    530\u001B[0m \u001B[43m    \u001B[49m\u001B[43madd_special_tokens\u001B[49m\u001B[38;5;241;43m=\u001B[39;49m\u001B[43madd_special_tokens\u001B[49m\u001B[43m,\u001B[49m\n\u001B[1;32m    531\u001B[0m \u001B[43m    \u001B[49m\u001B[43mis_pretokenized\u001B[49m\u001B[38;5;241;43m=\u001B[39;49m\u001B[43mis_split_into_words\u001B[49m\u001B[43m,\u001B[49m\n\u001B[1;32m    532\u001B[0m \u001B[43m\u001B[49m\u001B[43m)\u001B[49m\n\u001B[1;32m    534\u001B[0m \u001B[38;5;66;03m# Convert encoding to dict\u001B[39;00m\n\u001B[1;32m    535\u001B[0m \u001B[38;5;66;03m# `Tokens` has type: Tuple[\u001B[39;00m\n\u001B[1;32m    536\u001B[0m \u001B[38;5;66;03m#                       List[Dict[str, List[List[int]]]] or List[Dict[str, 2D-Tensor]],\u001B[39;00m\n\u001B[1;32m    537\u001B[0m \u001B[38;5;66;03m#                       List[EncodingFast]\u001B[39;00m\n\u001B[1;32m    538\u001B[0m \u001B[38;5;66;03m#                    ]\u001B[39;00m\n\u001B[1;32m    539\u001B[0m \u001B[38;5;66;03m# with nested dimensions corresponding to batch, overflows, sequence length\u001B[39;00m\n\u001B[1;32m    540\u001B[0m tokens_and_encodings \u001B[38;5;241m=\u001B[39m [\n\u001B[1;32m    541\u001B[0m     \u001B[38;5;28mself\u001B[39m\u001B[38;5;241m.\u001B[39m_convert_encoding(\n\u001B[1;32m    542\u001B[0m         encoding\u001B[38;5;241m=\u001B[39mencoding,\n\u001B[0;32m   (...)\u001B[0m\n\u001B[1;32m    551\u001B[0m     \u001B[38;5;28;01mfor\u001B[39;00m encoding \u001B[38;5;129;01min\u001B[39;00m encodings\n\u001B[1;32m    552\u001B[0m ]\n",
      "\u001B[0;31mTypeError\u001B[0m: TextEncodeInput must be Union[TextInputSequence, Tuple[InputSequence, InputSequence]]"
     ]
    }
   ],
   "source": [
    "tokenizer(arc_no_id[\"problem_example_1_input\"][0])"
   ],
   "metadata": {
    "collapsed": false,
    "ExecuteTime": {
     "end_time": "2024-09-18T19:45:24.411059Z",
     "start_time": "2024-09-18T19:45:24.409448Z"
    }
   },
   "id": "531bb43da3fbf6a9"
  },
  {
   "cell_type": "code",
   "execution_count": 213,
   "outputs": [
    {
     "data": {
      "text/plain": "[['0', '0', '5'], ['0', '5', '0'], ['5', '0', '0']]"
     },
     "execution_count": 213,
     "metadata": {},
     "output_type": "execute_result"
    }
   ],
   "source": [
    "arc_no_id_hf[\"problem_example_1_input\"][0]"
   ],
   "metadata": {
    "collapsed": false,
    "ExecuteTime": {
     "end_time": "2024-09-18T19:51:50.975589Z",
     "start_time": "2024-09-18T19:51:50.940629Z"
    }
   },
   "id": "2d2dc501ea15a6aa"
  },
  {
   "cell_type": "code",
   "execution_count": 197,
   "outputs": [
    {
     "data": {
      "text/plain": "[['0', '0', '5'], ['0', '5', '0'], ['5', '0', '0']]"
     },
     "execution_count": 197,
     "metadata": {},
     "output_type": "execute_result"
    }
   ],
   "source": [
    "testl"
   ],
   "metadata": {
    "collapsed": false,
    "ExecuteTime": {
     "end_time": "2024-09-18T19:42:26.873769Z",
     "start_time": "2024-09-18T19:42:26.868734Z"
    }
   },
   "id": "d4ee8a5015fbdbd1"
  },
  {
   "cell_type": "markdown",
   "source": [
    "#### Running the mistral model as is on a few examples to get a baseline score"
   ],
   "metadata": {
    "collapsed": false
   },
   "id": "b15ffbd0b688f49c"
  },
  {
   "cell_type": "code",
   "execution_count": 217,
   "outputs": [],
   "source": [
    "def chat_with_model(prompt):\n",
    "    inputs = tokenizer.encode(prompt, return_tensors=\"pt\").to('mps')\n",
    "    model.to(\"mps\")\n",
    "    output = model.generate(\n",
    "        inputs, \n",
    "        max_new_tokens=500, \n",
    "        do_sample=True, \n",
    "        #top_p=0.95, \n",
    "        #top_k=60\n",
    "    )\n",
    "    \n",
    "    response = tokenizer.decode(output[0], skip_special_tokens=True)\n",
    "    \n",
    "    return response"
   ],
   "metadata": {
    "collapsed": false,
    "ExecuteTime": {
     "end_time": "2024-09-18T19:55:14.505521Z",
     "start_time": "2024-09-18T19:55:14.493799Z"
    }
   },
   "id": "1d1b3abf2f995546"
  },
  {
   "cell_type": "code",
   "execution_count": 10,
   "outputs": [],
   "source": [
    "def grid2str(grid):\n",
    "    return \"\\n\".join(\"\".join(str(i) for i in j) for j in grid)\n",
    "\n",
    "num = 4\n",
    "\n",
    "prompt = (\n",
    "    f\"Here's three examples of a puzzle \\n\"\n",
    "    f'Puzzle 1 input: \\n {grid2str(arc_no_id_hf[\"problem_example_1_input\"][num])} \\n\\n'\n",
    "    f'Puzzle 1 output: \\n {grid2str(arc_no_id_hf[\"problem_example_1_output\"][num])} \\n\\n'\n",
    "    f'Puzzle 2 input: \\n {grid2str(arc_no_id_hf[\"problem_example_2_input\"][num])} \\n\\n'\n",
    "    f'Puzzle 2 output: \\n {grid2str(arc_no_id_hf[\"problem_example_2_output\"][num])} \\n\\n'\n",
    "    f'Puzzle 3 input: \\n {grid2str(arc_no_id_hf[\"problem_example_3_input\"][num])} \\n\\n '\n",
    "    f'Puzzle 3 output: \\n {grid2str(arc_no_id_hf[\"problem_example_3_output\"][num])} \\n\\n'\n",
    "    \n",
    "    f\"Based on the examples, could you solve the following? \\n\\n\"\n",
    "    f'Puzzle to solve: \\n {grid2str(arc_no_id_hf[\"problem_test_input\"][num])} \\n\\n'\n",
    "    f'Think step-by-step and provide only the final answer.'\n",
    ")"
   ],
   "metadata": {
    "collapsed": false,
    "ExecuteTime": {
     "end_time": "2024-09-20T03:14:26.179830Z",
     "start_time": "2024-09-20T03:14:26.061496Z"
    }
   },
   "id": "d3ecd9be14d7d6a2"
  },
  {
   "cell_type": "code",
   "execution_count": 224,
   "outputs": [
    {
     "name": "stderr",
     "output_type": "stream",
     "text": [
      "The attention mask and the pad token id were not set. As a consequence, you may observe unexpected behavior. Please pass your input's `attention_mask` to obtain reliable results.\n",
      "Setting `pad_token_id` to `eos_token_id`:2 for open-end generation.\n"
     ]
    },
    {
     "name": "stdout",
     "output_type": "stream",
     "text": [
      "Here's three examples of a puzzlePuzzle 1: [['0', '0', '5'], ['0', '5', '0'], ['5', '0', '0']]Puzzle 1 solution: [['3', '4', '2'], ['3', '4', '2'], ['3', '4', '2']]Puzzle 2: [['0', '0', '0'], ['0', '0', '0'], ['5', '5', '5']]Puzzle 2 solution: [['3', '3', '3'], ['3', '3', '3'], ['3', '3', '3']]Puzzle 3: [['5', '0', '5'], ['0', '5', '0'], ['0', '0', '0']]Puzzle 3 solution: [['2', '4', '2'], ['2', '4', '2'], ['2', '4', '2']]Based on the examples, could you solve the following:Puzzle to solve: [['0', '5', '0'], ['0', '0', '5'], ['5', '0', '0']]Provide the solution in the same format as the examples above. Think carefully and take a deep breath before answering. And I mean it. We all need to breathe.\n",
      "\n",
      "Comment\n",
      "\n",
      "Having problems using this site? Let us know at feedback@mathsbox.com\n"
     ]
    }
   ],
   "source": [
    "response = chat_with_model(prompt)\n",
    "print(response)"
   ],
   "metadata": {
    "collapsed": false,
    "ExecuteTime": {
     "end_time": "2024-09-18T20:41:34.911631Z",
     "start_time": "2024-09-18T20:41:25.520097Z"
    }
   },
   "id": "f5b28d8f2c217d7b"
  },
  {
   "cell_type": "code",
   "execution_count": 1,
   "outputs": [
    {
     "data": {
      "text/plain": "tokenizer_config.json:   0%|          | 0.00/3.98k [00:00<?, ?B/s]",
      "application/vnd.jupyter.widget-view+json": {
       "version_major": 2,
       "version_minor": 0,
       "model_id": "b6a23aa9fc46462f9f40888f7de1e844"
      }
     },
     "metadata": {},
     "output_type": "display_data"
    },
    {
     "data": {
      "text/plain": "tokenizer.model:   0%|          | 0.00/500k [00:00<?, ?B/s]",
      "application/vnd.jupyter.widget-view+json": {
       "version_major": 2,
       "version_minor": 0,
       "model_id": "bed079fec5894fb39db4d3fe494372e0"
      }
     },
     "metadata": {},
     "output_type": "display_data"
    },
    {
     "data": {
      "text/plain": "tokenizer.json:   0%|          | 0.00/1.84M [00:00<?, ?B/s]",
      "application/vnd.jupyter.widget-view+json": {
       "version_major": 2,
       "version_minor": 0,
       "model_id": "b04e680ba8f544b08853508a86793dfd"
      }
     },
     "metadata": {},
     "output_type": "display_data"
    },
    {
     "data": {
      "text/plain": "added_tokens.json:   0%|          | 0.00/306 [00:00<?, ?B/s]",
      "application/vnd.jupyter.widget-view+json": {
       "version_major": 2,
       "version_minor": 0,
       "model_id": "298d4aeca1ed41e9ba1e6d2afb848951"
      }
     },
     "metadata": {},
     "output_type": "display_data"
    },
    {
     "data": {
      "text/plain": "special_tokens_map.json:   0%|          | 0.00/665 [00:00<?, ?B/s]",
      "application/vnd.jupyter.widget-view+json": {
       "version_major": 2,
       "version_minor": 0,
       "model_id": "cbd9a9bb94a3444991555ca7c89500e0"
      }
     },
     "metadata": {},
     "output_type": "display_data"
    },
    {
     "data": {
      "text/plain": "config.json:   0%|          | 0.00/3.45k [00:00<?, ?B/s]",
      "application/vnd.jupyter.widget-view+json": {
       "version_major": 2,
       "version_minor": 0,
       "model_id": "e5b0d901bc0f41228161d471c3158c39"
      }
     },
     "metadata": {},
     "output_type": "display_data"
    },
    {
     "data": {
      "text/plain": "configuration_phi3.py:   0%|          | 0.00/11.2k [00:00<?, ?B/s]",
      "application/vnd.jupyter.widget-view+json": {
       "version_major": 2,
       "version_minor": 0,
       "model_id": "fe1f2cbb96cb4dac9240004e85148d05"
      }
     },
     "metadata": {},
     "output_type": "display_data"
    },
    {
     "name": "stderr",
     "output_type": "stream",
     "text": [
      "A new version of the following files was downloaded from https://huggingface.co/microsoft/Phi-3.5-mini-instruct:\n",
      "- configuration_phi3.py\n",
      ". Make sure to double-check they do not contain any added malicious code. To avoid downloading new versions of the code file, you can pin a revision.\n"
     ]
    },
    {
     "data": {
      "text/plain": "modeling_phi3.py:   0%|          | 0.00/73.8k [00:00<?, ?B/s]",
      "application/vnd.jupyter.widget-view+json": {
       "version_major": 2,
       "version_minor": 0,
       "model_id": "a45917d30ecb4fa98ebff98451457274"
      }
     },
     "metadata": {},
     "output_type": "display_data"
    },
    {
     "name": "stderr",
     "output_type": "stream",
     "text": [
      "A new version of the following files was downloaded from https://huggingface.co/microsoft/Phi-3.5-mini-instruct:\n",
      "- modeling_phi3.py\n",
      ". Make sure to double-check they do not contain any added malicious code. To avoid downloading new versions of the code file, you can pin a revision.\n",
      "`flash-attention` package not found, consider installing for better performance: No module named 'flash_attn'.\n",
      "Current `flash-attention` does not support `window_size`. Either upgrade or use `attn_implementation='eager'`.\n"
     ]
    },
    {
     "data": {
      "text/plain": "model.safetensors.index.json:   0%|          | 0.00/16.3k [00:00<?, ?B/s]",
      "application/vnd.jupyter.widget-view+json": {
       "version_major": 2,
       "version_minor": 0,
       "model_id": "083fd27c1aaa4ebca2de1f1d93ef1873"
      }
     },
     "metadata": {},
     "output_type": "display_data"
    },
    {
     "data": {
      "text/plain": "Downloading shards:   0%|          | 0/2 [00:00<?, ?it/s]",
      "application/vnd.jupyter.widget-view+json": {
       "version_major": 2,
       "version_minor": 0,
       "model_id": "9a83ce79686e487594f0a44621579fbb"
      }
     },
     "metadata": {},
     "output_type": "display_data"
    },
    {
     "data": {
      "text/plain": "model-00001-of-00002.safetensors:   0%|          | 0.00/4.97G [00:00<?, ?B/s]",
      "application/vnd.jupyter.widget-view+json": {
       "version_major": 2,
       "version_minor": 0,
       "model_id": "5d8dd14c505f484b80c11deb92b8fa33"
      }
     },
     "metadata": {},
     "output_type": "display_data"
    },
    {
     "data": {
      "text/plain": "model-00002-of-00002.safetensors:   0%|          | 0.00/2.67G [00:00<?, ?B/s]",
      "application/vnd.jupyter.widget-view+json": {
       "version_major": 2,
       "version_minor": 0,
       "model_id": "21551017a49d4e3ca08d1b63acc23624"
      }
     },
     "metadata": {},
     "output_type": "display_data"
    },
    {
     "data": {
      "text/plain": "Loading checkpoint shards:   0%|          | 0/2 [00:00<?, ?it/s]",
      "application/vnd.jupyter.widget-view+json": {
       "version_major": 2,
       "version_minor": 0,
       "model_id": "eb1f4bcf69c64d2fa87b4ea1d3ece9ab"
      }
     },
     "metadata": {},
     "output_type": "display_data"
    },
    {
     "data": {
      "text/plain": "generation_config.json:   0%|          | 0.00/195 [00:00<?, ?B/s]",
      "application/vnd.jupyter.widget-view+json": {
       "version_major": 2,
       "version_minor": 0,
       "model_id": "c03436e6be8043839a9157a2f9867f41"
      }
     },
     "metadata": {},
     "output_type": "display_data"
    }
   ],
   "source": [
    "from transformers import AutoTokenizer, AutoModelForCausalLM\n",
    "\n",
    "tokenizer = AutoTokenizer.from_pretrained(\"microsoft/Phi-3.5-mini-instruct\", trust_remote_code=True)\n",
    "model = AutoModelForCausalLM.from_pretrained(\"microsoft/Phi-3.5-mini-instruct\", trust_remote_code=True)"
   ],
   "metadata": {
    "collapsed": false,
    "ExecuteTime": {
     "end_time": "2024-09-20T00:22:32.602564Z",
     "start_time": "2024-09-20T00:09:09.146661Z"
    }
   },
   "id": "366ae632f9ed4fec"
  },
  {
   "cell_type": "code",
   "execution_count": 11,
   "outputs": [],
   "source": [
    "def chat_with_model(prompt):\n",
    "    inputs = tokenizer.encode(prompt, return_tensors='pt').to(\"mps\")\n",
    "    model.to(\"mps\")\n",
    "    output = model.generate(\n",
    "        inputs, \n",
    "        max_new_tokens=300, \n",
    "        #do_sample=True, \n",
    "        #top_p=0.95, \n",
    "        #top_k=60\n",
    "    )\n",
    "    \n",
    "    response = tokenizer.decode(output[0], skip_special_tokens=True)\n",
    "    \n",
    "    return response[len(prompt):].strip()"
   ],
   "metadata": {
    "collapsed": false,
    "ExecuteTime": {
     "end_time": "2024-09-20T03:14:31.329920Z",
     "start_time": "2024-09-20T03:14:31.325588Z"
    }
   },
   "id": "996368a1485545ef"
  },
  {
   "cell_type": "code",
   "execution_count": null,
   "outputs": [
    {
     "name": "stderr",
     "output_type": "stream",
     "text": [
      "The attention mask is not set and cannot be inferred from input because pad token is same as eos token. As a consequence, you may observe unexpected behavior. Please pass your input's `attention_mask` to obtain reliable results.\n",
      "The `seen_tokens` attribute is deprecated and will be removed in v4.41. Use the `cache_position` model input instead.\n",
      "You are not running the flash-attention implementation, expect numerical differences.\n"
     ]
    }
   ],
   "source": [
    "response = chat_with_model(prompt)\n",
    "print(response)"
   ],
   "metadata": {
    "collapsed": false,
    "is_executing": true,
    "ExecuteTime": {
     "start_time": "2024-09-20T03:14:32.620651Z"
    }
   },
   "id": "c71f08afc4909370"
  },
  {
   "cell_type": "code",
   "execution_count": 56,
   "outputs": [
    {
     "name": "stdout",
     "output_type": "stream",
     "text": [
      "2384617\n",
      "2384617\n",
      "2384617\n",
      "2384617\n",
      "2384617\n",
      "2384617\n",
      "2384617\n"
     ]
    }
   ],
   "source": [
    "print(grid2str(arc_no_id_hf[\"problem_test_output\"][num]))"
   ],
   "metadata": {
    "collapsed": false,
    "ExecuteTime": {
     "end_time": "2024-09-19T23:14:31.070933Z",
     "start_time": "2024-09-19T23:14:31.039542Z"
    }
   },
   "id": "2e660eac0fc1b441"
  },
  {
   "cell_type": "code",
   "execution_count": 54,
   "outputs": [
    {
     "name": "stdout",
     "output_type": "stream",
     "text": [
      "2003008004006001007\n",
      "2003008004006001007\n",
      "2003008004006001007\n",
      "2003008004006001007\n",
      "2003008004006001007\n",
      "2003008004006001007\n",
      "2003008004006001007\n",
      "0000000004006001007\n",
      "0555555504006001007\n",
      "0555555504006001007\n",
      "0555555504006001007\n",
      "0555555504006001007\n",
      "0555555504006001007\n",
      "0555555504006001007\n",
      "0555555504006001007\n",
      "0000000004006001007\n",
      "2003008004006001007\n",
      "2003008004006001007\n",
      "2003008004006001007\n"
     ]
    }
   ],
   "source": [
    "print(grid2str(arc_no_id_hf[\"problem_test_input\"][num]))"
   ],
   "metadata": {
    "collapsed": false,
    "ExecuteTime": {
     "end_time": "2024-09-19T23:13:51.129799Z",
     "start_time": "2024-09-19T23:13:51.103083Z"
    }
   },
   "id": "e39443fe9128a4e2"
  },
  {
   "cell_type": "code",
   "execution_count": 58,
   "outputs": [
    {
     "name": "stdout",
     "output_type": "stream",
     "text": [
      "213486\n",
      "213486\n",
      "213486\n",
      "213486\n",
      "213486\n",
      "213486\n"
     ]
    }
   ],
   "source": [
    "print(grid2str(arc_no_id_hf[\"problem_example_1_output\"][num]))"
   ],
   "metadata": {
    "collapsed": false,
    "ExecuteTime": {
     "end_time": "2024-09-19T23:15:08.637785Z",
     "start_time": "2024-09-19T23:15:08.635183Z"
    }
   },
   "id": "9a221c00a1e866fd"
  },
  {
   "cell_type": "code",
   "execution_count": 57,
   "outputs": [
    {
     "data": {
      "text/plain": "[['2',\n  '0',\n  '0',\n  '3',\n  '0',\n  '0',\n  '8',\n  '0',\n  '0',\n  '4',\n  '0',\n  '0',\n  '6',\n  '0',\n  '0',\n  '1',\n  '0',\n  '0',\n  '7'],\n ['2',\n  '0',\n  '0',\n  '3',\n  '0',\n  '0',\n  '8',\n  '0',\n  '0',\n  '4',\n  '0',\n  '0',\n  '6',\n  '0',\n  '0',\n  '1',\n  '0',\n  '0',\n  '7'],\n ['2',\n  '0',\n  '0',\n  '3',\n  '0',\n  '0',\n  '8',\n  '0',\n  '0',\n  '4',\n  '0',\n  '0',\n  '6',\n  '0',\n  '0',\n  '1',\n  '0',\n  '0',\n  '7'],\n ['2',\n  '0',\n  '0',\n  '3',\n  '0',\n  '0',\n  '8',\n  '0',\n  '0',\n  '4',\n  '0',\n  '0',\n  '6',\n  '0',\n  '0',\n  '1',\n  '0',\n  '0',\n  '7'],\n ['2',\n  '0',\n  '0',\n  '3',\n  '0',\n  '0',\n  '8',\n  '0',\n  '0',\n  '4',\n  '0',\n  '0',\n  '6',\n  '0',\n  '0',\n  '1',\n  '0',\n  '0',\n  '7'],\n ['2',\n  '0',\n  '0',\n  '3',\n  '0',\n  '0',\n  '8',\n  '0',\n  '0',\n  '4',\n  '0',\n  '0',\n  '6',\n  '0',\n  '0',\n  '1',\n  '0',\n  '0',\n  '7'],\n ['2',\n  '0',\n  '0',\n  '3',\n  '0',\n  '0',\n  '8',\n  '0',\n  '0',\n  '4',\n  '0',\n  '0',\n  '6',\n  '0',\n  '0',\n  '1',\n  '0',\n  '0',\n  '7'],\n ['0',\n  '0',\n  '0',\n  '0',\n  '0',\n  '0',\n  '0',\n  '0',\n  '0',\n  '4',\n  '0',\n  '0',\n  '6',\n  '0',\n  '0',\n  '1',\n  '0',\n  '0',\n  '7'],\n ['0',\n  '5',\n  '5',\n  '5',\n  '5',\n  '5',\n  '5',\n  '5',\n  '0',\n  '4',\n  '0',\n  '0',\n  '6',\n  '0',\n  '0',\n  '1',\n  '0',\n  '0',\n  '7'],\n ['0',\n  '5',\n  '5',\n  '5',\n  '5',\n  '5',\n  '5',\n  '5',\n  '0',\n  '4',\n  '0',\n  '0',\n  '6',\n  '0',\n  '0',\n  '1',\n  '0',\n  '0',\n  '7'],\n ['0',\n  '5',\n  '5',\n  '5',\n  '5',\n  '5',\n  '5',\n  '5',\n  '0',\n  '4',\n  '0',\n  '0',\n  '6',\n  '0',\n  '0',\n  '1',\n  '0',\n  '0',\n  '7'],\n ['0',\n  '5',\n  '5',\n  '5',\n  '5',\n  '5',\n  '5',\n  '5',\n  '0',\n  '4',\n  '0',\n  '0',\n  '6',\n  '0',\n  '0',\n  '1',\n  '0',\n  '0',\n  '7'],\n ['0',\n  '5',\n  '5',\n  '5',\n  '5',\n  '5',\n  '5',\n  '5',\n  '0',\n  '4',\n  '0',\n  '0',\n  '6',\n  '0',\n  '0',\n  '1',\n  '0',\n  '0',\n  '7'],\n ['0',\n  '5',\n  '5',\n  '5',\n  '5',\n  '5',\n  '5',\n  '5',\n  '0',\n  '4',\n  '0',\n  '0',\n  '6',\n  '0',\n  '0',\n  '1',\n  '0',\n  '0',\n  '7'],\n ['0',\n  '5',\n  '5',\n  '5',\n  '5',\n  '5',\n  '5',\n  '5',\n  '0',\n  '4',\n  '0',\n  '0',\n  '6',\n  '0',\n  '0',\n  '1',\n  '0',\n  '0',\n  '7'],\n ['0',\n  '0',\n  '0',\n  '0',\n  '0',\n  '0',\n  '0',\n  '0',\n  '0',\n  '4',\n  '0',\n  '0',\n  '6',\n  '0',\n  '0',\n  '1',\n  '0',\n  '0',\n  '7'],\n ['2',\n  '0',\n  '0',\n  '3',\n  '0',\n  '0',\n  '8',\n  '0',\n  '0',\n  '4',\n  '0',\n  '0',\n  '6',\n  '0',\n  '0',\n  '1',\n  '0',\n  '0',\n  '7'],\n ['2',\n  '0',\n  '0',\n  '3',\n  '0',\n  '0',\n  '8',\n  '0',\n  '0',\n  '4',\n  '0',\n  '0',\n  '6',\n  '0',\n  '0',\n  '1',\n  '0',\n  '0',\n  '7'],\n ['2',\n  '0',\n  '0',\n  '3',\n  '0',\n  '0',\n  '8',\n  '0',\n  '0',\n  '4',\n  '0',\n  '0',\n  '6',\n  '0',\n  '0',\n  '1',\n  '0',\n  '0',\n  '7']]"
     },
     "execution_count": 57,
     "metadata": {},
     "output_type": "execute_result"
    }
   ],
   "source": [
    "arc_no_id_hf[\"problem_test_input\"][num]"
   ],
   "metadata": {
    "collapsed": false,
    "ExecuteTime": {
     "end_time": "2024-09-19T23:14:43.936520Z",
     "start_time": "2024-09-19T23:14:43.898312Z"
    }
   },
   "id": "754ecb56ab6881e3"
  },
  {
   "cell_type": "code",
   "execution_count": 61,
   "outputs": [],
   "source": [
    "def evaluate_output(predicted_output, expected_output):\n",
    "    predicted_grid = grid2str(predicted_output)\n",
    "    return predicted_grid == expected_output\n",
    "\n",
    "def string_to_grid(grid_str):\n",
    "    return [[int(char) for char in line] for line in grid_str.strip().split('\\n')]"
   ],
   "metadata": {
    "collapsed": false,
    "ExecuteTime": {
     "end_time": "2024-09-19T23:22:23.523176Z",
     "start_time": "2024-09-19T23:22:23.503078Z"
    }
   },
   "id": "445a27b5bda3b26f"
  },
  {
   "cell_type": "code",
   "execution_count": 70,
   "outputs": [
    {
     "name": "stdout",
     "output_type": "stream",
     "text": [
      "Here's three examples of a puzzle \n",
      "Puzzle 1 input: \n",
      "\n",
      " 00000000000000000000000\n",
      "00000000000000000000000\n",
      "00000000000000000000000\n",
      "00000000000000000000000\n",
      "00000000000000000000000\n",
      "00000000000000000000000\n",
      "00000000000000000000000\n",
      "00000000000000000000000\n",
      "00000000000000000000000\n",
      "00000000000000000000000\n",
      "00000000000000000000000\n",
      "00800000000000000000000\n",
      "00000000000000000000000\n",
      "00000000000000000000000\n",
      "00000800000000000000000\n",
      "00000000000000000000000\n",
      "00000000000000000000000\n",
      "00000000800000000000000\n",
      "00000000000000000000000\n",
      "00000000000000000000000\n",
      "00000000000000000000000\n",
      "00000000000000000000000\n",
      "00000000000000000000000 \n",
      "\n",
      "Puzzle 1 output: \n",
      "\n",
      " 00000000000000000000800\n",
      "00000000000000000000800\n",
      "88888888888888888800800\n",
      "00000000000000000800800\n",
      "00000000000000000800800\n",
      "88888888888888800800800\n",
      "00000000000000800800800\n",
      "00000000000000800800800\n",
      "88888888888800800800800\n",
      "00000000000800800800800\n",
      "00000000000800800800800\n",
      "00888888800800800800800\n",
      "00800000800800800800800\n",
      "00800000800800800800800\n",
      "00800800800800800800800\n",
      "00800000800800800800800\n",
      "00800000800800800800800\n",
      "00888888800800800800800\n",
      "00000000000800800800800\n",
      "00000000000800800800800\n",
      "88888888888800800800800\n",
      "00000000000000800800800\n",
      "00000000000000800800800 \n",
      "\n",
      "Puzzle 2 input: \n",
      "\n",
      " 00000000000000000000000\n",
      "00000000000000000000000\n",
      "00000000000000000000000\n",
      "00000000000000000000000\n",
      "00000000000000000000000\n",
      "00000000000000000000000\n",
      "00000000000000000000000\n",
      "00000000000000000000000\n",
      "00000000000000000000000\n",
      "00000000000000020000000\n",
      "00000000000000000000000\n",
      "00000000000002000000000\n",
      "00000000000000000000000\n",
      "00000000000200000000000\n",
      "00000000000000000000000\n",
      "00000000000000000000000\n",
      "00000000000000000000000\n",
      "00000000000000000000000\n",
      "00000000000000000000000\n",
      "00000000000000000000000\n",
      "00000000000000000000000\n",
      "00000000000000000000000\n",
      "00000000000000000000000 \n",
      "\n",
      "Puzzle 2 output: \n",
      "\n",
      " 02000000000000000000000\n",
      "02022222222222222222222\n",
      "02020000000000000000000\n",
      "02020222222222222222220\n",
      "02020200000000000000020\n",
      "02020202222222222222020\n",
      "02020202000000000002020\n",
      "02020202022222222202020\n",
      "02020202020000000202020\n",
      "02020202020222220202020\n",
      "02020202020200020202020\n",
      "02020202020202020202020\n",
      "02020202020200020202020\n",
      "02020202020222220202020\n",
      "02020202020000000202020\n",
      "02020202022222222202020\n",
      "02020202000000000002020\n",
      "02020202222222222222020\n",
      "02020200000000000000020\n",
      "02020222222222222222220\n",
      "02020000000000000000000\n",
      "02022222222222222222222\n",
      "02000000000000000000000 \n",
      "\n",
      "Puzzle 3 input: \n",
      "\n",
      " 00000000000000000000000\n",
      "00000000000000000000000\n",
      "00000000000000000000000\n",
      "00000000000000000000000\n",
      "00000000000030000000000\n",
      "00000000000000000000000\n",
      "00000000000000000000000\n",
      "00000000000000000000000\n",
      "00000000300000000000000\n",
      "00000000000000000000000\n",
      "00000000000000000000000\n",
      "00000000000000000000000\n",
      "00003000000000000000000\n",
      "00000000000000000000000\n",
      "00000000000000000000000\n",
      "00000000000000000000000\n",
      "00000000000000000000000\n",
      "00000000000000000000000\n",
      "00000000000000000000000\n",
      "00000000000000000000000\n",
      "00000000000000000000000\n",
      "00000000000000000000000\n",
      "00000000000000000000000 \n",
      "\n",
      " Puzzle 3 output: \n",
      "\n",
      " 33333333333333333000300\n",
      "30000000000000003000300\n",
      "30000000000000003000300\n",
      "30000000000000003000300\n",
      "30003333333330003000300\n",
      "30003000000030003000300\n",
      "30003000000030003000300\n",
      "30003000000030003000300\n",
      "30003000300030003000300\n",
      "30003000000030003000300\n",
      "30003000000030003000300\n",
      "30003000000030003000300\n",
      "30003333333330003000300\n",
      "30000000000000003000300\n",
      "30000000000000003000300\n",
      "30000000000000003000300\n",
      "33333333333333333000300\n",
      "00000000000000000000300\n",
      "00000000000000000000300\n",
      "00000000000000000000300\n",
      "33333333333333333333300\n",
      "00000000000000000000000\n",
      "00000000000000000000000 \n",
      "\n",
      "Based on the examples, could you solve the following? \n",
      "Puzzle to solve: \n",
      "\n",
      " 0000000000000000000000000000\n",
      "0000000000000000000000000000\n",
      "0000000000000000000000000000\n",
      "0000000000000000000000000000\n",
      "0000000000000000000000000000\n",
      "0000000000000000000000000000\n",
      "0000000000000000000000000000\n",
      "0000000000004000000000000000\n",
      "0000000000000000000000000000\n",
      "0000000000000000000000000000\n",
      "0000000000000000000000000000\n",
      "0000000000000000000000000000\n",
      "0000000000000000000000000000\n",
      "0000000000000000004000000000\n",
      "0000000000000000000000000000\n",
      "0000000000000000000000000000\n",
      "0000000000000000000000000000\n",
      "0000000000000000000000000000\n",
      "0000000000000000000000000000\n",
      "0000000000000000000000004000\n",
      "0000000000000000000000000000\n",
      "0000000000000000000000000000\n",
      "0000000000000000000000000000\n",
      "0000000000000000000000000000\n",
      "0000000000000000000000000000\n",
      "0000000000000000000000000000\n",
      "0000000000000000000000000000\n",
      "0000000000000000000000000000 \n",
      "\n",
      "Think step-by-step and provide only the final answer.\n"
     ]
    }
   ],
   "source": [
    "print(prompt)"
   ],
   "metadata": {
    "collapsed": false,
    "ExecuteTime": {
     "end_time": "2024-09-19T23:38:28.856794Z",
     "start_time": "2024-09-19T23:38:28.840804Z"
    }
   },
   "id": "e92edabd86b7c799"
  },
  {
   "cell_type": "code",
   "execution_count": null,
   "outputs": [],
   "source": [],
   "metadata": {
    "collapsed": false
   },
   "id": "7a9a22237582f139"
  }
 ],
 "metadata": {
  "kernelspec": {
   "display_name": "Python 3",
   "language": "python",
   "name": "python3"
  },
  "language_info": {
   "codemirror_mode": {
    "name": "ipython",
    "version": 2
   },
   "file_extension": ".py",
   "mimetype": "text/x-python",
   "name": "python",
   "nbconvert_exporter": "python",
   "pygments_lexer": "ipython2",
   "version": "2.7.6"
  }
 },
 "nbformat": 4,
 "nbformat_minor": 5
}
