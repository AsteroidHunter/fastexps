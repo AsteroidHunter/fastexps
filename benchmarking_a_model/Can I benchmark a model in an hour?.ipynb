{
 "cells": [
  {
   "cell_type": "code",
   "execution_count": 2,
   "id": "initial_id",
   "metadata": {
    "collapsed": true,
    "ExecuteTime": {
     "end_time": "2024-09-17T23:25:07.681073Z",
     "start_time": "2024-09-17T23:25:07.677955Z"
    }
   },
   "outputs": [
    {
     "name": "stdout",
     "output_type": "stream",
     "text": [
      "2024-09-17 16:25:07.677290\n"
     ]
    }
   ],
   "source": [
    "import datetime\n",
    "\n",
    "print(datetime.datetime.now())"
   ]
  },
  {
   "cell_type": "markdown",
   "source": [
    "**Background and question**: I have never benchmarked an AI model. I installed a Mistral model back in 02/24 for a separate high-level idea. Can I benchmark this model under an hour?"
   ],
   "metadata": {
    "collapsed": false
   },
   "id": "2e8de682d09e9400"
  },
  {
   "cell_type": "code",
   "execution_count": 1,
   "outputs": [
    {
     "name": "stdout",
     "output_type": "stream",
     "text": [
      "{'train': [{'input': [[0, 0, 0, 0, 0, 2, 0, 0, 0, 0, 0, 0, 0, 0, 0, 0, 0, 0, 0, 0, 0, 0, 0, 0, 0], [0, 0, 0, 0, 0, 0, 0, 0, 0, 0, 0, 0, 0, 0, 0, 0, 0, 0, 0, 0, 0, 0, 0, 0, 0], [0, 0, 0, 0, 0, 0, 0, 0, 0, 0, 0, 0, 0, 0, 0, 0, 0, 0, 0, 0, 0, 0, 0, 0, 0], [0, 0, 0, 0, 0, 0, 0, 0, 0, 0, 0, 0, 0, 0, 0, 0, 0, 0, 0, 0, 0, 0, 0, 0, 0], [0, 0, 0, 0, 0, 0, 0, 0, 0, 0, 0, 0, 0, 0, 0, 0, 0, 0, 0, 0, 0, 0, 0, 0, 0], [0, 0, 0, 0, 0, 0, 0, 0, 0, 0, 0, 0, 0, 0, 0, 0, 0, 0, 0, 0, 0, 0, 0, 0, 0], [0, 0, 0, 0, 0, 0, 0, 0, 0, 0, 0, 0, 0, 0, 0, 0, 0, 0, 0, 0, 0, 0, 0, 0, 0], [0, 0, 0, 0, 0, 0, 0, 0, 0, 0, 0, 0, 0, 0, 0, 0, 0, 0, 0, 0, 0, 0, 0, 0, 0], [0, 0, 0, 0, 0, 0, 0, 0, 0, 0, 0, 0, 0, 0, 0, 0, 0, 0, 0, 0, 0, 0, 0, 0, 0], [0, 0, 0, 0, 0, 0, 0, 8, 0, 0, 0, 0, 0, 0, 0, 0, 0, 0, 0, 0, 0, 0, 0, 0, 0]], 'output': [[0, 0, 0, 0, 0, 2, 0, 8, 0, 2, 0, 8, 0, 2, 0, 8, 0, 2, 0, 8, 0, 2, 0, 8, 0], [0, 0, 0, 0, 0, 2, 0, 8, 0, 2, 0, 8, 0, 2, 0, 8, 0, 2, 0, 8, 0, 2, 0, 8, 0], [0, 0, 0, 0, 0, 2, 0, 8, 0, 2, 0, 8, 0, 2, 0, 8, 0, 2, 0, 8, 0, 2, 0, 8, 0], [0, 0, 0, 0, 0, 2, 0, 8, 0, 2, 0, 8, 0, 2, 0, 8, 0, 2, 0, 8, 0, 2, 0, 8, 0], [0, 0, 0, 0, 0, 2, 0, 8, 0, 2, 0, 8, 0, 2, 0, 8, 0, 2, 0, 8, 0, 2, 0, 8, 0], [0, 0, 0, 0, 0, 2, 0, 8, 0, 2, 0, 8, 0, 2, 0, 8, 0, 2, 0, 8, 0, 2, 0, 8, 0], [0, 0, 0, 0, 0, 2, 0, 8, 0, 2, 0, 8, 0, 2, 0, 8, 0, 2, 0, 8, 0, 2, 0, 8, 0], [0, 0, 0, 0, 0, 2, 0, 8, 0, 2, 0, 8, 0, 2, 0, 8, 0, 2, 0, 8, 0, 2, 0, 8, 0], [0, 0, 0, 0, 0, 2, 0, 8, 0, 2, 0, 8, 0, 2, 0, 8, 0, 2, 0, 8, 0, 2, 0, 8, 0], [0, 0, 0, 0, 0, 2, 0, 8, 0, 2, 0, 8, 0, 2, 0, 8, 0, 2, 0, 8, 0, 2, 0, 8, 0]]}, {'input': [[0, 0, 0, 0, 0, 1, 0, 0, 0, 0, 0, 0, 0, 0, 0, 0, 0, 0, 0, 0, 0, 0, 0], [0, 0, 0, 0, 0, 0, 0, 0, 0, 0, 0, 0, 0, 0, 0, 0, 0, 0, 0, 0, 0, 0, 0], [0, 0, 0, 0, 0, 0, 0, 0, 0, 0, 0, 0, 0, 0, 0, 0, 0, 0, 0, 0, 0, 0, 0], [0, 0, 0, 0, 0, 0, 0, 0, 0, 0, 0, 0, 0, 0, 0, 0, 0, 0, 0, 0, 0, 0, 0], [0, 0, 0, 0, 0, 0, 0, 0, 0, 0, 0, 0, 0, 0, 0, 0, 0, 0, 0, 0, 0, 0, 0], [0, 0, 0, 0, 0, 0, 0, 0, 0, 0, 0, 0, 0, 0, 0, 0, 0, 0, 0, 0, 0, 0, 0], [0, 0, 0, 0, 0, 0, 0, 0, 3, 0, 0, 0, 0, 0, 0, 0, 0, 0, 0, 0, 0, 0, 0]], 'output': [[0, 0, 0, 0, 0, 1, 0, 0, 3, 0, 0, 1, 0, 0, 3, 0, 0, 1, 0, 0, 3, 0, 0], [0, 0, 0, 0, 0, 1, 0, 0, 3, 0, 0, 1, 0, 0, 3, 0, 0, 1, 0, 0, 3, 0, 0], [0, 0, 0, 0, 0, 1, 0, 0, 3, 0, 0, 1, 0, 0, 3, 0, 0, 1, 0, 0, 3, 0, 0], [0, 0, 0, 0, 0, 1, 0, 0, 3, 0, 0, 1, 0, 0, 3, 0, 0, 1, 0, 0, 3, 0, 0], [0, 0, 0, 0, 0, 1, 0, 0, 3, 0, 0, 1, 0, 0, 3, 0, 0, 1, 0, 0, 3, 0, 0], [0, 0, 0, 0, 0, 1, 0, 0, 3, 0, 0, 1, 0, 0, 3, 0, 0, 1, 0, 0, 3, 0, 0], [0, 0, 0, 0, 0, 1, 0, 0, 3, 0, 0, 1, 0, 0, 3, 0, 0, 1, 0, 0, 3, 0, 0]]}, {'input': [[0, 0, 0, 0, 0, 0, 0, 0, 0], [0, 0, 0, 0, 0, 0, 0, 0, 0], [0, 0, 0, 0, 0, 0, 0, 0, 0], [0, 0, 0, 0, 0, 0, 0, 0, 0], [0, 0, 0, 0, 0, 0, 0, 0, 0], [2, 0, 0, 0, 0, 0, 0, 0, 0], [0, 0, 0, 0, 0, 0, 0, 0, 0], [0, 0, 0, 0, 0, 0, 0, 0, 3], [0, 0, 0, 0, 0, 0, 0, 0, 0], [0, 0, 0, 0, 0, 0, 0, 0, 0], [0, 0, 0, 0, 0, 0, 0, 0, 0], [0, 0, 0, 0, 0, 0, 0, 0, 0], [0, 0, 0, 0, 0, 0, 0, 0, 0], [0, 0, 0, 0, 0, 0, 0, 0, 0], [0, 0, 0, 0, 0, 0, 0, 0, 0], [0, 0, 0, 0, 0, 0, 0, 0, 0], [0, 0, 0, 0, 0, 0, 0, 0, 0], [0, 0, 0, 0, 0, 0, 0, 0, 0], [0, 0, 0, 0, 0, 0, 0, 0, 0], [0, 0, 0, 0, 0, 0, 0, 0, 0], [0, 0, 0, 0, 0, 0, 0, 0, 0], [0, 0, 0, 0, 0, 0, 0, 0, 0]], 'output': [[0, 0, 0, 0, 0, 0, 0, 0, 0], [0, 0, 0, 0, 0, 0, 0, 0, 0], [0, 0, 0, 0, 0, 0, 0, 0, 0], [0, 0, 0, 0, 0, 0, 0, 0, 0], [0, 0, 0, 0, 0, 0, 0, 0, 0], [2, 2, 2, 2, 2, 2, 2, 2, 2], [0, 0, 0, 0, 0, 0, 0, 0, 0], [3, 3, 3, 3, 3, 3, 3, 3, 3], [0, 0, 0, 0, 0, 0, 0, 0, 0], [2, 2, 2, 2, 2, 2, 2, 2, 2], [0, 0, 0, 0, 0, 0, 0, 0, 0], [3, 3, 3, 3, 3, 3, 3, 3, 3], [0, 0, 0, 0, 0, 0, 0, 0, 0], [2, 2, 2, 2, 2, 2, 2, 2, 2], [0, 0, 0, 0, 0, 0, 0, 0, 0], [3, 3, 3, 3, 3, 3, 3, 3, 3], [0, 0, 0, 0, 0, 0, 0, 0, 0], [2, 2, 2, 2, 2, 2, 2, 2, 2], [0, 0, 0, 0, 0, 0, 0, 0, 0], [3, 3, 3, 3, 3, 3, 3, 3, 3], [0, 0, 0, 0, 0, 0, 0, 0, 0], [2, 2, 2, 2, 2, 2, 2, 2, 2]]}, {'input': [[0, 0, 0, 0, 0, 0, 0, 0], [0, 0, 0, 0, 0, 0, 0, 0], [0, 0, 0, 0, 0, 0, 0, 0], [0, 0, 0, 0, 0, 0, 0, 0], [0, 0, 0, 0, 0, 0, 0, 0], [0, 0, 0, 0, 0, 0, 0, 0], [0, 0, 0, 0, 0, 0, 0, 0], [4, 0, 0, 0, 0, 0, 0, 0], [0, 0, 0, 0, 0, 0, 0, 0], [0, 0, 0, 0, 0, 0, 0, 0], [0, 0, 0, 0, 0, 0, 0, 0], [1, 0, 0, 0, 0, 0, 0, 0], [0, 0, 0, 0, 0, 0, 0, 0], [0, 0, 0, 0, 0, 0, 0, 0], [0, 0, 0, 0, 0, 0, 0, 0], [0, 0, 0, 0, 0, 0, 0, 0], [0, 0, 0, 0, 0, 0, 0, 0], [0, 0, 0, 0, 0, 0, 0, 0], [0, 0, 0, 0, 0, 0, 0, 0], [0, 0, 0, 0, 0, 0, 0, 0], [0, 0, 0, 0, 0, 0, 0, 0], [0, 0, 0, 0, 0, 0, 0, 0], [0, 0, 0, 0, 0, 0, 0, 0], [0, 0, 0, 0, 0, 0, 0, 0]], 'output': [[0, 0, 0, 0, 0, 0, 0, 0], [0, 0, 0, 0, 0, 0, 0, 0], [0, 0, 0, 0, 0, 0, 0, 0], [0, 0, 0, 0, 0, 0, 0, 0], [0, 0, 0, 0, 0, 0, 0, 0], [0, 0, 0, 0, 0, 0, 0, 0], [0, 0, 0, 0, 0, 0, 0, 0], [4, 4, 4, 4, 4, 4, 4, 4], [0, 0, 0, 0, 0, 0, 0, 0], [0, 0, 0, 0, 0, 0, 0, 0], [0, 0, 0, 0, 0, 0, 0, 0], [1, 1, 1, 1, 1, 1, 1, 1], [0, 0, 0, 0, 0, 0, 0, 0], [0, 0, 0, 0, 0, 0, 0, 0], [0, 0, 0, 0, 0, 0, 0, 0], [4, 4, 4, 4, 4, 4, 4, 4], [0, 0, 0, 0, 0, 0, 0, 0], [0, 0, 0, 0, 0, 0, 0, 0], [0, 0, 0, 0, 0, 0, 0, 0], [1, 1, 1, 1, 1, 1, 1, 1], [0, 0, 0, 0, 0, 0, 0, 0], [0, 0, 0, 0, 0, 0, 0, 0], [0, 0, 0, 0, 0, 0, 0, 0], [4, 4, 4, 4, 4, 4, 4, 4]]}], 'test': [{'input': [[0, 0, 0, 0, 0, 3, 0, 0, 0, 0, 0, 0, 0, 0, 0, 0, 0, 0, 0, 0, 0, 0, 0, 0, 0, 0, 0], [0, 0, 0, 0, 0, 0, 0, 0, 0, 0, 0, 0, 0, 0, 0, 0, 0, 0, 0, 0, 0, 0, 0, 0, 0, 0, 0], [0, 0, 0, 0, 0, 0, 0, 0, 0, 0, 0, 0, 0, 0, 0, 0, 0, 0, 0, 0, 0, 0, 0, 0, 0, 0, 0], [0, 0, 0, 0, 0, 0, 0, 0, 0, 0, 0, 0, 0, 0, 0, 0, 0, 0, 0, 0, 0, 0, 0, 0, 0, 0, 0], [0, 0, 0, 0, 0, 0, 0, 0, 0, 0, 0, 0, 0, 0, 0, 0, 0, 0, 0, 0, 0, 0, 0, 0, 0, 0, 0], [0, 0, 0, 0, 0, 0, 0, 0, 0, 0, 0, 0, 0, 0, 0, 0, 0, 0, 0, 0, 0, 0, 0, 0, 0, 0, 0], [0, 0, 0, 0, 0, 0, 0, 0, 0, 0, 0, 0, 0, 0, 0, 0, 0, 0, 0, 0, 0, 0, 0, 0, 0, 0, 0], [0, 0, 0, 0, 0, 0, 0, 0, 0, 0, 0, 0, 0, 0, 0, 0, 0, 0, 0, 0, 0, 0, 0, 0, 0, 0, 0], [0, 0, 0, 0, 0, 0, 0, 0, 0, 0, 0, 0, 0, 0, 0, 0, 0, 0, 0, 0, 0, 0, 0, 0, 0, 0, 0], [0, 0, 0, 0, 0, 0, 0, 0, 0, 0, 0, 0, 0, 0, 0, 0, 0, 0, 0, 0, 0, 0, 0, 0, 0, 0, 0], [0, 0, 0, 0, 0, 0, 0, 0, 0, 0, 4, 0, 0, 0, 0, 0, 0, 0, 0, 0, 0, 0, 0, 0, 0, 0, 0]], 'output': [[0, 0, 0, 0, 0, 3, 0, 0, 0, 0, 4, 0, 0, 0, 0, 3, 0, 0, 0, 0, 4, 0, 0, 0, 0, 3, 0], [0, 0, 0, 0, 0, 3, 0, 0, 0, 0, 4, 0, 0, 0, 0, 3, 0, 0, 0, 0, 4, 0, 0, 0, 0, 3, 0], [0, 0, 0, 0, 0, 3, 0, 0, 0, 0, 4, 0, 0, 0, 0, 3, 0, 0, 0, 0, 4, 0, 0, 0, 0, 3, 0], [0, 0, 0, 0, 0, 3, 0, 0, 0, 0, 4, 0, 0, 0, 0, 3, 0, 0, 0, 0, 4, 0, 0, 0, 0, 3, 0], [0, 0, 0, 0, 0, 3, 0, 0, 0, 0, 4, 0, 0, 0, 0, 3, 0, 0, 0, 0, 4, 0, 0, 0, 0, 3, 0], [0, 0, 0, 0, 0, 3, 0, 0, 0, 0, 4, 0, 0, 0, 0, 3, 0, 0, 0, 0, 4, 0, 0, 0, 0, 3, 0], [0, 0, 0, 0, 0, 3, 0, 0, 0, 0, 4, 0, 0, 0, 0, 3, 0, 0, 0, 0, 4, 0, 0, 0, 0, 3, 0], [0, 0, 0, 0, 0, 3, 0, 0, 0, 0, 4, 0, 0, 0, 0, 3, 0, 0, 0, 0, 4, 0, 0, 0, 0, 3, 0], [0, 0, 0, 0, 0, 3, 0, 0, 0, 0, 4, 0, 0, 0, 0, 3, 0, 0, 0, 0, 4, 0, 0, 0, 0, 3, 0], [0, 0, 0, 0, 0, 3, 0, 0, 0, 0, 4, 0, 0, 0, 0, 3, 0, 0, 0, 0, 4, 0, 0, 0, 0, 3, 0], [0, 0, 0, 0, 0, 3, 0, 0, 0, 0, 4, 0, 0, 0, 0, 3, 0, 0, 0, 0, 4, 0, 0, 0, 0, 3, 0]]}]}\n"
     ]
    }
   ],
   "source": [
    "import json\n",
    "\n",
    "with open(\"./ARC-AGI-master/data/training/0a938d79.json\") as f:\n",
    "    some_file = json.load(f)\n",
    "    print(some_file)"
   ],
   "metadata": {
    "collapsed": false,
    "ExecuteTime": {
     "end_time": "2024-09-17T23:36:48.637915Z",
     "start_time": "2024-09-17T23:36:48.633131Z"
    }
   },
   "id": "e28cfd8749892820"
  },
  {
   "cell_type": "code",
   "execution_count": 2,
   "outputs": [],
   "source": [
    "# reusing code from earlier\n",
    "from transformers import AutoTokenizer, AutoModelForCausalLM, BitsAndBytesConfig, pipeline\n",
    "import torch"
   ],
   "metadata": {
    "collapsed": false,
    "ExecuteTime": {
     "end_time": "2024-09-17T23:36:50.501267Z",
     "start_time": "2024-09-17T23:36:49.130260Z"
    }
   },
   "id": "fac206025c5280a6"
  },
  {
   "cell_type": "code",
   "execution_count": 3,
   "outputs": [
    {
     "data": {
      "text/plain": "Loading checkpoint shards:   0%|          | 0/2 [00:00<?, ?it/s]",
      "application/vnd.jupyter.widget-view+json": {
       "version_major": 2,
       "version_minor": 0,
       "model_id": "54e4c6c1cb5c45debfe62d9c9cee6459"
      }
     },
     "metadata": {},
     "output_type": "display_data"
    }
   ],
   "source": [
    "model_name = \"mistralai/Mistral-7B-v0.1\"\n",
    "\n",
    "tokenizer = AutoTokenizer.from_pretrained(model_name)\n",
    "model = AutoModelForCausalLM.from_pretrained(\n",
    "        model_name,\n",
    "        #load_in_4bit=True,\n",
    "        #quantization_config=bnb_config,\n",
    "        torch_dtype=torch.float16, #bfloat if quantization was working\n",
    "        device_map=\"mps\",\n",
    "        #trust_remote_code=True,\n",
    "    )"
   ],
   "metadata": {
    "collapsed": false,
    "ExecuteTime": {
     "end_time": "2024-09-17T23:37:09.989812Z",
     "start_time": "2024-09-17T23:36:51.146742Z"
    }
   },
   "id": "b1c36ad2cb01410f"
  },
  {
   "cell_type": "code",
   "execution_count": 8,
   "outputs": [
    {
     "name": "stdout",
     "output_type": "stream",
     "text": [
      "7242 million\n"
     ]
    }
   ],
   "source": [
    "params_7b = model.num_parameters() / 1_000_000\n",
    "print(round(params_7b), \"million\")"
   ],
   "metadata": {
    "collapsed": false,
    "ExecuteTime": {
     "end_time": "2024-09-17T23:43:23.624902Z",
     "start_time": "2024-09-17T23:43:23.621237Z"
    }
   },
   "id": "5032e24d5850f170"
  },
  {
   "cell_type": "code",
   "execution_count": 28,
   "outputs": [
    {
     "name": "stdout",
     "output_type": "stream",
     "text": [
      "['./ARC-AGI-master/data/training/a85d4709.json', './ARC-AGI-master/data/training/c8cbb738.json', './ARC-AGI-master/data/training/8e1813be.json', './ARC-AGI-master/data/training/a699fb00.json', './ARC-AGI-master/data/training/5c2c9af4.json', './ARC-AGI-master/data/training/44f52bb0.json', './ARC-AGI-master/data/training/23581191.json', './ARC-AGI-master/data/training/94f9d214.json', './ARC-AGI-master/data/training/f9012d9b.json', './ARC-AGI-master/data/training/4258a5f9.json', './ARC-AGI-master/data/training/bdad9b1f.json', './ARC-AGI-master/data/training/d06dbe63.json', './ARC-AGI-master/data/training/8403a5d5.json', './ARC-AGI-master/data/training/67e8384a.json', './ARC-AGI-master/data/training/8731374e.json', './ARC-AGI-master/data/training/25ff71a9.json', './ARC-AGI-master/data/training/ecdecbb3.json', './ARC-AGI-master/data/training/6e19193c.json', './ARC-AGI-master/data/training/39e1d7f9.json', './ARC-AGI-master/data/training/ba97ae07.json', './ARC-AGI-master/data/training/99b1bc43.json', './ARC-AGI-master/data/training/77fdfe62.json', './ARC-AGI-master/data/training/50cb2852.json', './ARC-AGI-master/data/training/4c5c2cf0.json', './ARC-AGI-master/data/training/d5d6de2d.json', './ARC-AGI-master/data/training/b91ae062.json', './ARC-AGI-master/data/training/d037b0a7.json', './ARC-AGI-master/data/training/93b581b8.json', './ARC-AGI-master/data/training/025d127b.json', './ARC-AGI-master/data/training/d2abd087.json', './ARC-AGI-master/data/training/017c7c7b.json', './ARC-AGI-master/data/training/28bf18c6.json', './ARC-AGI-master/data/training/9f236235.json', './ARC-AGI-master/data/training/c3e719e8.json', './ARC-AGI-master/data/training/264363fd.json', './ARC-AGI-master/data/training/6855a6e4.json', './ARC-AGI-master/data/training/f8c80d96.json', './ARC-AGI-master/data/training/7837ac64.json', './ARC-AGI-master/data/training/a68b268e.json', './ARC-AGI-master/data/training/5c0a986e.json', './ARC-AGI-master/data/training/890034e9.json', './ARC-AGI-master/data/training/6773b310.json', './ARC-AGI-master/data/training/49d1d64f.json', './ARC-AGI-master/data/training/6cdd2623.json', './ARC-AGI-master/data/training/36d67576.json', './ARC-AGI-master/data/training/ed36ccf7.json', './ARC-AGI-master/data/training/d8c310e9.json', './ARC-AGI-master/data/training/1f876c06.json', './ARC-AGI-master/data/training/b60334d2.json', './ARC-AGI-master/data/training/6c434453.json', './ARC-AGI-master/data/training/810b9b61.json', './ARC-AGI-master/data/training/1c786137.json', './ARC-AGI-master/data/training/74dd1130.json', './ARC-AGI-master/data/training/ded97339.json', './ARC-AGI-master/data/training/aedd82e4.json', './ARC-AGI-master/data/training/5614dbcf.json', './ARC-AGI-master/data/training/d22278a0.json', './ARC-AGI-master/data/training/d406998b.json', './ARC-AGI-master/data/training/a5313dff.json', './ARC-AGI-master/data/training/6150a2bd.json', './ARC-AGI-master/data/training/97a05b5b.json', './ARC-AGI-master/data/training/dbc1a6ce.json', './ARC-AGI-master/data/training/3bd67248.json', './ARC-AGI-master/data/training/e9afcf9a.json', './ARC-AGI-master/data/training/d364b489.json', './ARC-AGI-master/data/training/2013d3e2.json', './ARC-AGI-master/data/training/2dc579da.json', './ARC-AGI-master/data/training/ec883f72.json', './ARC-AGI-master/data/training/2281f1f4.json', './ARC-AGI-master/data/training/68b16354.json', './ARC-AGI-master/data/training/a78176bb.json', './ARC-AGI-master/data/training/1a07d186.json', './ARC-AGI-master/data/training/32597951.json', './ARC-AGI-master/data/training/be94b721.json', './ARC-AGI-master/data/training/cf98881b.json', './ARC-AGI-master/data/training/6455b5f5.json', './ARC-AGI-master/data/training/54d9e175.json', './ARC-AGI-master/data/training/363442ee.json', './ARC-AGI-master/data/training/91714a58.json', './ARC-AGI-master/data/training/a1570a43.json', './ARC-AGI-master/data/training/a87f7484.json', './ARC-AGI-master/data/training/6430c8c4.json', './ARC-AGI-master/data/training/90f3ed37.json', './ARC-AGI-master/data/training/a5f85a15.json', './ARC-AGI-master/data/training/95990924.json', './ARC-AGI-master/data/training/c909285e.json', './ARC-AGI-master/data/training/a3325580.json', './ARC-AGI-master/data/training/b94a9452.json', './ARC-AGI-master/data/training/d631b094.json', './ARC-AGI-master/data/training/539a4f51.json', './ARC-AGI-master/data/training/6d0aefbc.json', './ARC-AGI-master/data/training/e179c5f4.json', './ARC-AGI-master/data/training/623ea044.json', './ARC-AGI-master/data/training/a8c38be5.json', './ARC-AGI-master/data/training/72322fa7.json', './ARC-AGI-master/data/training/29623171.json', './ARC-AGI-master/data/training/d13f3404.json', './ARC-AGI-master/data/training/6e82a1ae.json', './ARC-AGI-master/data/training/b548a754.json', './ARC-AGI-master/data/training/7ddcd7ec.json', './ARC-AGI-master/data/training/7468f01a.json', './ARC-AGI-master/data/training/29c11459.json', './ARC-AGI-master/data/training/2dd70a9a.json', './ARC-AGI-master/data/training/db3e9e38.json', './ARC-AGI-master/data/training/8f2ea7aa.json', './ARC-AGI-master/data/training/6fa7a44f.json', './ARC-AGI-master/data/training/776ffc46.json', './ARC-AGI-master/data/training/cbded52d.json', './ARC-AGI-master/data/training/97999447.json', './ARC-AGI-master/data/training/846bdb03.json', './ARC-AGI-master/data/training/8d510a79.json', './ARC-AGI-master/data/training/f25ffba3.json', './ARC-AGI-master/data/training/c1d99e64.json', './ARC-AGI-master/data/training/25d487eb.json', './ARC-AGI-master/data/training/484b58aa.json', './ARC-AGI-master/data/training/ddf7fa4f.json', './ARC-AGI-master/data/training/3906de3d.json', './ARC-AGI-master/data/training/7447852a.json', './ARC-AGI-master/data/training/c9f8e694.json', './ARC-AGI-master/data/training/e3497940.json', './ARC-AGI-master/data/training/46442a0e.json', './ARC-AGI-master/data/training/c3f564a4.json', './ARC-AGI-master/data/training/d0f5fe59.json', './ARC-AGI-master/data/training/4290ef0e.json', './ARC-AGI-master/data/training/d6ad076f.json', './ARC-AGI-master/data/training/db93a21d.json', './ARC-AGI-master/data/training/67a423a3.json', './ARC-AGI-master/data/training/1190e5a7.json', './ARC-AGI-master/data/training/6e02f1e3.json', './ARC-AGI-master/data/training/b190f7f5.json', './ARC-AGI-master/data/training/f76d97a5.json', './ARC-AGI-master/data/training/3af2c5a8.json', './ARC-AGI-master/data/training/239be575.json', './ARC-AGI-master/data/training/b8cdaf2b.json', './ARC-AGI-master/data/training/dc0a314f.json', './ARC-AGI-master/data/training/dc433765.json', './ARC-AGI-master/data/training/1e0a9b12.json', './ARC-AGI-master/data/training/10fcaaa3.json', './ARC-AGI-master/data/training/56dc2b01.json', './ARC-AGI-master/data/training/4093f84a.json', './ARC-AGI-master/data/training/508bd3b6.json', './ARC-AGI-master/data/training/62c24649.json', './ARC-AGI-master/data/training/de1cd16c.json', './ARC-AGI-master/data/training/913fb3ed.json', './ARC-AGI-master/data/training/662c240a.json', './ARC-AGI-master/data/training/fafffa47.json', './ARC-AGI-master/data/training/7e0986d6.json', './ARC-AGI-master/data/training/941d9a10.json', './ARC-AGI-master/data/training/6b9890af.json', './ARC-AGI-master/data/training/ff28f65a.json', './ARC-AGI-master/data/training/80af3007.json', './ARC-AGI-master/data/training/b27ca6d3.json', './ARC-AGI-master/data/training/f8b3ba0a.json', './ARC-AGI-master/data/training/150deff5.json', './ARC-AGI-master/data/training/952a094c.json', './ARC-AGI-master/data/training/1b2d62fb.json', './ARC-AGI-master/data/training/928ad970.json', './ARC-AGI-master/data/training/d89b689b.json', './ARC-AGI-master/data/training/3de23699.json', './ARC-AGI-master/data/training/e21d9049.json', './ARC-AGI-master/data/training/ba26e723.json', './ARC-AGI-master/data/training/6a1e5592.json', './ARC-AGI-master/data/training/39a8645d.json', './ARC-AGI-master/data/training/56ff96f3.json', './ARC-AGI-master/data/training/a2fd1cf0.json', './ARC-AGI-master/data/training/a9f96cdd.json', './ARC-AGI-master/data/training/ae4f1146.json', './ARC-AGI-master/data/training/22233c11.json', './ARC-AGI-master/data/training/780d0b14.json', './ARC-AGI-master/data/training/3e980e27.json', './ARC-AGI-master/data/training/1e32b0e9.json', './ARC-AGI-master/data/training/7f4411dc.json', './ARC-AGI-master/data/training/4347f46a.json', './ARC-AGI-master/data/training/6aa20dc0.json', './ARC-AGI-master/data/training/253bf280.json', './ARC-AGI-master/data/training/a8d7556c.json', './ARC-AGI-master/data/training/1f85a75f.json', './ARC-AGI-master/data/training/ce4f8723.json', './ARC-AGI-master/data/training/05f2a901.json', './ARC-AGI-master/data/training/3c9b0459.json', './ARC-AGI-master/data/training/90c28cc7.json', './ARC-AGI-master/data/training/2dee498d.json', './ARC-AGI-master/data/training/3ac3eb23.json', './ARC-AGI-master/data/training/5168d44c.json', './ARC-AGI-master/data/training/f1cefba8.json', './ARC-AGI-master/data/training/a3df8b1e.json', './ARC-AGI-master/data/training/e6721834.json', './ARC-AGI-master/data/training/6d0160f0.json', './ARC-AGI-master/data/training/6cf79266.json', './ARC-AGI-master/data/training/cce03e0d.json', './ARC-AGI-master/data/training/7b6016b9.json', './ARC-AGI-master/data/training/6d75e8bb.json', './ARC-AGI-master/data/training/e9614598.json', './ARC-AGI-master/data/training/08ed6ac7.json', './ARC-AGI-master/data/training/67385a82.json', './ARC-AGI-master/data/training/22eb0ac0.json', './ARC-AGI-master/data/training/25d8a9c8.json', './ARC-AGI-master/data/training/bda2d7a6.json', './ARC-AGI-master/data/training/b775ac94.json', './ARC-AGI-master/data/training/d43fd935.json', './ARC-AGI-master/data/training/cdecee7f.json', './ARC-AGI-master/data/training/c9e6f938.json', './ARC-AGI-master/data/training/9565186b.json', './ARC-AGI-master/data/training/1b60fb0c.json', './ARC-AGI-master/data/training/fcc82909.json', './ARC-AGI-master/data/training/178fcbfb.json', './ARC-AGI-master/data/training/72ca375d.json', './ARC-AGI-master/data/training/4be741c5.json', './ARC-AGI-master/data/training/3bdb4ada.json', './ARC-AGI-master/data/training/27a28665.json', './ARC-AGI-master/data/training/0520fde7.json', './ARC-AGI-master/data/training/f5b8619d.json', './ARC-AGI-master/data/training/a61f2674.json', './ARC-AGI-master/data/training/5521c0d9.json', './ARC-AGI-master/data/training/1caeab9d.json', './ARC-AGI-master/data/training/3befdf3e.json', './ARC-AGI-master/data/training/ea32f347.json', './ARC-AGI-master/data/training/e8dc4411.json', './ARC-AGI-master/data/training/4c4377d9.json', './ARC-AGI-master/data/training/91413438.json', './ARC-AGI-master/data/training/b2862040.json', './ARC-AGI-master/data/training/469497ad.json', './ARC-AGI-master/data/training/d10ecb37.json', './ARC-AGI-master/data/training/1f0c79e5.json', './ARC-AGI-master/data/training/eb281b96.json', './ARC-AGI-master/data/training/c8f0f002.json', './ARC-AGI-master/data/training/e76a88a6.json', './ARC-AGI-master/data/training/bc1d5164.json', './ARC-AGI-master/data/training/88a10436.json', './ARC-AGI-master/data/training/6d58a25d.json', './ARC-AGI-master/data/training/eb5a1d5d.json', './ARC-AGI-master/data/training/760b3cac.json', './ARC-AGI-master/data/training/ce22a75a.json', './ARC-AGI-master/data/training/a65b410d.json', './ARC-AGI-master/data/training/5582e5ca.json', './ARC-AGI-master/data/training/0b148d64.json', './ARC-AGI-master/data/training/e98196ab.json', './ARC-AGI-master/data/training/73251a56.json', './ARC-AGI-master/data/training/0a938d79.json', './ARC-AGI-master/data/training/e48d4e1a.json', './ARC-AGI-master/data/training/c0f76784.json', './ARC-AGI-master/data/training/4522001f.json', './ARC-AGI-master/data/training/d4469b4b.json', './ARC-AGI-master/data/training/caa06a1f.json', './ARC-AGI-master/data/training/7fe24cdd.json', './ARC-AGI-master/data/training/447fd412.json', './ARC-AGI-master/data/training/d23f8c26.json', './ARC-AGI-master/data/training/321b1fc6.json', './ARC-AGI-master/data/training/4938f0c2.json', './ARC-AGI-master/data/training/82819916.json', './ARC-AGI-master/data/training/e8593010.json', './ARC-AGI-master/data/training/85c4e7cd.json', './ARC-AGI-master/data/training/445eab21.json', './ARC-AGI-master/data/training/42a50994.json', './ARC-AGI-master/data/training/bd4472b8.json', './ARC-AGI-master/data/training/28e73c20.json', './ARC-AGI-master/data/training/54d82841.json', './ARC-AGI-master/data/training/b230c067.json', './ARC-AGI-master/data/training/67a3c6ac.json', './ARC-AGI-master/data/training/a48eeaf7.json', './ARC-AGI-master/data/training/ce9e57f2.json', './ARC-AGI-master/data/training/855e0971.json', './ARC-AGI-master/data/training/5ad4f10b.json', './ARC-AGI-master/data/training/feca6190.json', './ARC-AGI-master/data/training/234bbc79.json', './ARC-AGI-master/data/training/7df24a62.json', './ARC-AGI-master/data/training/a416b8f3.json', './ARC-AGI-master/data/training/a740d043.json', './ARC-AGI-master/data/training/ef135b50.json', './ARC-AGI-master/data/training/681b3aeb.json', './ARC-AGI-master/data/training/50846271.json', './ARC-AGI-master/data/training/794b24be.json', './ARC-AGI-master/data/training/75b8110e.json', './ARC-AGI-master/data/training/09629e4f.json', './ARC-AGI-master/data/training/b7249182.json', './ARC-AGI-master/data/training/1f642eb9.json', './ARC-AGI-master/data/training/ac0a08a4.json', './ARC-AGI-master/data/training/8efcae92.json', './ARC-AGI-master/data/training/9ecd008a.json', './ARC-AGI-master/data/training/5daaa586.json', './ARC-AGI-master/data/training/1fad071e.json', './ARC-AGI-master/data/training/a61ba2ce.json', './ARC-AGI-master/data/training/ce602527.json', './ARC-AGI-master/data/training/543a7ed5.json', './ARC-AGI-master/data/training/3eda0437.json', './ARC-AGI-master/data/training/d07ae81c.json', './ARC-AGI-master/data/training/f8ff0b80.json', './ARC-AGI-master/data/training/83302e8f.json', './ARC-AGI-master/data/training/b1948b0a.json', './ARC-AGI-master/data/training/1cf80156.json', './ARC-AGI-master/data/training/963e52fc.json', './ARC-AGI-master/data/training/3618c87e.json', './ARC-AGI-master/data/training/d9fac9be.json', './ARC-AGI-master/data/training/007bbfb7.json', './ARC-AGI-master/data/training/b8825c91.json', './ARC-AGI-master/data/training/6f8cd79b.json', './ARC-AGI-master/data/training/47c1f68c.json', './ARC-AGI-master/data/training/d90796e8.json', './ARC-AGI-master/data/training/dc1df850.json', './ARC-AGI-master/data/training/af902bf9.json', './ARC-AGI-master/data/training/2c608aff.json', './ARC-AGI-master/data/training/834ec97d.json', './ARC-AGI-master/data/training/8eb1be9a.json', './ARC-AGI-master/data/training/e50d258f.json', './ARC-AGI-master/data/training/48d8fb45.json', './ARC-AGI-master/data/training/3aa6fb7a.json', './ARC-AGI-master/data/training/0ca9ddb6.json', './ARC-AGI-master/data/training/05269061.json', './ARC-AGI-master/data/training/c59eb873.json', './ARC-AGI-master/data/training/0dfd9992.json', './ARC-AGI-master/data/training/868de0fa.json', './ARC-AGI-master/data/training/ff805c23.json', './ARC-AGI-master/data/training/40853293.json', './ARC-AGI-master/data/training/63613498.json', './ARC-AGI-master/data/training/b0c4d837.json', './ARC-AGI-master/data/training/36fdfd69.json', './ARC-AGI-master/data/training/5117e062.json', './ARC-AGI-master/data/training/d4a91cb9.json', './ARC-AGI-master/data/training/746b3537.json', './ARC-AGI-master/data/training/3428a4f5.json', './ARC-AGI-master/data/training/bb43febb.json', './ARC-AGI-master/data/training/60b61512.json', './ARC-AGI-master/data/training/ea786f4a.json', './ARC-AGI-master/data/training/9dfd6313.json', './ARC-AGI-master/data/training/d511f180.json', './ARC-AGI-master/data/training/9edfc990.json', './ARC-AGI-master/data/training/aba27056.json', './ARC-AGI-master/data/training/ae3edfdc.json', './ARC-AGI-master/data/training/beb8660c.json', './ARC-AGI-master/data/training/0d3d703e.json', './ARC-AGI-master/data/training/b9b7f026.json', './ARC-AGI-master/data/training/f35d900a.json', './ARC-AGI-master/data/training/fcb5c309.json', './ARC-AGI-master/data/training/b527c5c6.json', './ARC-AGI-master/data/training/6ecd11f4.json', './ARC-AGI-master/data/training/5bd6f4ac.json', './ARC-AGI-master/data/training/272f95fa.json', './ARC-AGI-master/data/training/4612dd53.json', './ARC-AGI-master/data/training/e5062a87.json', './ARC-AGI-master/data/training/06df4c85.json', './ARC-AGI-master/data/training/694f12f3.json', './ARC-AGI-master/data/training/41e4d17e.json', './ARC-AGI-master/data/training/c444b776.json', './ARC-AGI-master/data/training/a79310a0.json', './ARC-AGI-master/data/training/1bfc4729.json', './ARC-AGI-master/data/training/e509e548.json', './ARC-AGI-master/data/training/53b68214.json', './ARC-AGI-master/data/training/d687bc17.json', './ARC-AGI-master/data/training/e73095fd.json', './ARC-AGI-master/data/training/496994bd.json', './ARC-AGI-master/data/training/f2829549.json', './ARC-AGI-master/data/training/f15e1fac.json', './ARC-AGI-master/data/training/aabf363d.json', './ARC-AGI-master/data/training/8d5021e8.json', './ARC-AGI-master/data/training/3345333e.json', './ARC-AGI-master/data/training/8a004b2b.json', './ARC-AGI-master/data/training/b6afb2da.json', './ARC-AGI-master/data/training/045e512c.json', './ARC-AGI-master/data/training/673ef223.json', './ARC-AGI-master/data/training/88a62173.json', './ARC-AGI-master/data/training/99fa7670.json', './ARC-AGI-master/data/training/11852cab.json', './ARC-AGI-master/data/training/bbc9ae5d.json', './ARC-AGI-master/data/training/444801d8.json', './ARC-AGI-master/data/training/995c5fa3.json', './ARC-AGI-master/data/training/9d9215db.json', './ARC-AGI-master/data/training/f8a8fe49.json', './ARC-AGI-master/data/training/3631a71a.json', './ARC-AGI-master/data/training/9172f3a0.json', './ARC-AGI-master/data/training/3f7978a0.json', './ARC-AGI-master/data/training/0962bcdd.json', './ARC-AGI-master/data/training/2204b7a8.json', './ARC-AGI-master/data/training/b782dc8a.json', './ARC-AGI-master/data/training/9af7a82c.json', './ARC-AGI-master/data/training/31aa019c.json', './ARC-AGI-master/data/training/0e206a2e.json', './ARC-AGI-master/data/training/7c008303.json', './ARC-AGI-master/data/training/00d62c1b.json', './ARC-AGI-master/data/training/d4f3cd78.json', './ARC-AGI-master/data/training/8e5a5113.json', './ARC-AGI-master/data/training/44d8ac46.json', './ARC-AGI-master/data/training/23b5c85d.json', './ARC-AGI-master/data/training/29ec7d0e.json', './ARC-AGI-master/data/training/d9f24cd1.json', './ARC-AGI-master/data/training/f25fbde4.json', './ARC-AGI-master/data/training/137eaa0f.json', './ARC-AGI-master/data/training/e26a3af2.json', './ARC-AGI-master/data/training/57aa92db.json', './ARC-AGI-master/data/training/9aec4887.json', './ARC-AGI-master/data/training/2bcee788.json', './ARC-AGI-master/data/training/e40b9e2f.json', './ARC-AGI-master/data/training/46f33fce.json', './ARC-AGI-master/data/training/a64e4611.json', './ARC-AGI-master/data/training/22168020.json', './ARC-AGI-master/data/training/228f6490.json', './ARC-AGI-master/data/training/7b7f7511.json', './ARC-AGI-master/data/training/8be77c9e.json', './ARC-AGI-master/data/training/dae9d2b5.json', './ARC-AGI-master/data/training/2bee17df.json', './ARC-AGI-master/data/training/98cf29f8.json']\n"
     ]
    }
   ],
   "source": [
    "import os \n",
    "\n",
    "matches = []\n",
    "train_file_names = []\n",
    "for root, dirnames, filenames in os.walk(\"./ARC-AGI-master/data/training\"):\n",
    "    for filename in filenames:\n",
    "        if filename.endswith('.json'):\n",
    "            matches.append(os.path.join(root, filename))\n",
    "            train_file_names.append(filename)\n",
    "            \n",
    "print(matches)"
   ],
   "metadata": {
    "collapsed": false,
    "ExecuteTime": {
     "end_time": "2024-09-18T00:01:54.969732Z",
     "start_time": "2024-09-18T00:01:54.958592Z"
    }
   },
   "id": "c98275ebfc416456"
  },
  {
   "cell_type": "code",
   "execution_count": 61,
   "outputs": [],
   "source": [
    "import pandas as pd\n",
    "\n",
    "bunch_of_series = []\n",
    "for name in train_file_names:\n",
    "    with open(f\"./ARC-AGI-master/data/training/{name}\") as temp_file:\n",
    "        some_file = json.load(temp_file)\n",
    "        \n",
    "        try:\n",
    "            prob_ex_3_placement = some_file[\"train\"][2]\n",
    "        except IndexError:\n",
    "            prob_ex_3_placement = {\"input\": [], \"output\": []}\n",
    "            \n",
    "        try:\n",
    "            prob_ex_4_placement = some_file[\"train\"][3]\n",
    "        except IndexError:\n",
    "            prob_ex_4_placement = {\"input\": [], \"output\": []}\n",
    "        \n",
    "        temp_series = pd.Series({\n",
    "            \"problem_id\": name,\n",
    "            \"problem_example_1_input\":  [some_file[\"train\"][0][\"input\"]],\n",
    "            \"problem_example_1_output\": [some_file[\"train\"][0][\"output\"]],\n",
    "            \"problem_example_2_input\":  [some_file[\"train\"][1][\"input\"]],\n",
    "            \"problem_example_2_output\": [some_file[\"train\"][1][\"output\"]],\n",
    "            \"problem_example_3_input\":  [prob_ex_3_placement[\"input\"]],\n",
    "            \"problem_example_3_output\": [prob_ex_3_placement[\"output\"]],\n",
    "            \"problem_example_4_input\":  [prob_ex_4_placement[\"input\"]],\n",
    "            \"problem_example_4_output\": [prob_ex_4_placement[\"output\"]],\n",
    "            \"problem_test_input\":       [some_file[\"test\"][0][\"input\"]],\n",
    "            \"problem_test_output\":      [some_file[\"test\"][0][\"output\"]],\n",
    "        })\n",
    "        \n",
    "        bunch_of_series.append(temp_series)"
   ],
   "metadata": {
    "collapsed": false,
    "ExecuteTime": {
     "end_time": "2024-09-18T00:32:43.942039Z",
     "start_time": "2024-09-18T00:32:43.758814Z"
    }
   },
   "id": "4d8208e4ba8515af"
  },
  {
   "cell_type": "code",
   "execution_count": 57,
   "outputs": [
    {
     "data": {
      "text/plain": "[{'input': [[0, 0, 5], [0, 5, 0], [5, 0, 0]],\n  'output': [[3, 3, 3], [4, 4, 4], [2, 2, 2]]},\n {'input': [[0, 0, 5], [0, 0, 5], [0, 0, 5]],\n  'output': [[3, 3, 3], [3, 3, 3], [3, 3, 3]]},\n {'input': [[5, 0, 0], [0, 5, 0], [5, 0, 0]],\n  'output': [[2, 2, 2], [4, 4, 4], [2, 2, 2]]},\n {'input': [[0, 5, 0], [0, 0, 5], [0, 5, 0]],\n  'output': [[4, 4, 4], [3, 3, 3], [4, 4, 4]]}]"
     },
     "execution_count": 57,
     "metadata": {},
     "output_type": "execute_result"
    }
   ],
   "source": [
    "some_file[\"train\"]"
   ],
   "metadata": {
    "collapsed": false,
    "ExecuteTime": {
     "end_time": "2024-09-18T00:23:53.008652Z",
     "start_time": "2024-09-18T00:23:53.004230Z"
    }
   },
   "id": "c2ca87106a47f893"
  },
  {
   "cell_type": "code",
   "execution_count": 58,
   "outputs": [
    {
     "data": {
      "text/plain": "problem_id                                        a85d4709.json\nproblem_example_1_input     [[[0, 0, 5], [0, 5, 0], [5, 0, 0]]]\nproblem_example_1_output    [[[3, 3, 3], [4, 4, 4], [2, 2, 2]]]\nproblem_example_2_input     [[[0, 0, 5], [0, 0, 5], [0, 0, 5]]]\nproblem_example_2_output    [[[3, 3, 3], [3, 3, 3], [3, 3, 3]]]\nproblem_example_3_input     [[[5, 0, 0], [0, 5, 0], [5, 0, 0]]]\nproblem_example_3_output    [[[2, 2, 2], [4, 4, 4], [2, 2, 2]]]\nproblem_example_4_input     [[[0, 5, 0], [0, 0, 5], [0, 5, 0]]]\nproblem_example_4_output    [[[4, 4, 4], [3, 3, 3], [4, 4, 4]]]\nproblem_test_input          [[[0, 0, 5], [5, 0, 0], [0, 5, 0]]]\nproblem_test_output         [[[3, 3, 3], [2, 2, 2], [4, 4, 4]]]\ndtype: object"
     },
     "execution_count": 58,
     "metadata": {},
     "output_type": "execute_result"
    }
   ],
   "source": [
    "test_df"
   ],
   "metadata": {
    "collapsed": false,
    "ExecuteTime": {
     "end_time": "2024-09-18T00:23:53.323321Z",
     "start_time": "2024-09-18T00:23:53.320566Z"
    }
   },
   "id": "87a526b486893377"
  },
  {
   "cell_type": "code",
   "execution_count": 65,
   "outputs": [
    {
     "data": {
      "text/plain": "        problem_id                            problem_example_1_input  \\\n0    a85d4709.json                [[[0, 0, 5], [0, 5, 0], [5, 0, 0]]]   \n1    c8cbb738.json  [[[3, 3, 3, 3, 3, 3, 3, 4, 3, 4, 3], [3, 3, 3,...   \n2    8e1813be.json  [[[0, 0, 0, 0, 0, 0, 0, 0, 0, 0, 0, 0, 0, 0, 0...   \n3    a699fb00.json  [[[1, 0, 1, 0, 0], [0, 0, 0, 0, 0], [0, 0, 0, ...   \n4    5c2c9af4.json  [[[0, 0, 0, 0, 0, 0, 0, 0, 0, 0, 0, 0, 0, 0, 0...   \n..             ...                                                ...   \n395  7b7f7511.json  [[[1, 1, 3, 2, 1, 1, 3, 2], [1, 1, 3, 3, 1, 1,...   \n396  8be77c9e.json                [[[1, 1, 0], [1, 1, 1], [0, 0, 0]]]   \n397  dae9d2b5.json  [[[4, 4, 0, 3, 3, 0], [4, 0, 0, 3, 0, 0], [0, ...   \n398  2bee17df.json  [[[2, 2, 2, 2, 2, 2, 2, 2, 2, 2, 2, 2], [8, 0,...   \n399  98cf29f8.json  [[[0, 0, 0, 0, 0, 0, 0, 0, 0, 0, 0, 0, 0, 0], ...   \n\n                              problem_example_1_output  \\\n0                  [[[3, 3, 3], [4, 4, 4], [2, 2, 2]]]   \n1    [[[2, 4, 1, 4, 2], [8, 3, 3, 3, 8], [1, 3, 3, ...   \n2    [[[2, 2, 2, 2, 2, 2], [1, 1, 1, 1, 1, 1], [3, ...   \n3    [[[1, 2, 1, 0, 0], [0, 0, 0, 0, 0], [0, 0, 0, ...   \n4    [[[0, 0, 8, 0, 0, 8, 0, 0, 8, 0, 0, 0, 0, 0, 0...   \n..                                                 ...   \n395  [[[1, 1, 3, 2], [1, 1, 3, 3], [3, 3, 1, 1], [2...   \n396  [[[1, 1, 0], [1, 1, 1], [0, 0, 0], [0, 0, 0], ...   \n397                [[[6, 6, 0], [6, 0, 0], [0, 0, 6]]]   \n398  [[[2, 2, 2, 2, 2, 2, 2, 2, 2, 2, 2, 2], [8, 0,...   \n399  [[[0, 0, 0, 0, 0, 0, 0, 0, 0, 0, 0, 0, 0, 0], ...   \n\n                               problem_example_2_input  \\\n0                  [[[0, 0, 5], [0, 0, 5], [0, 0, 5]]]   \n1    [[[1, 1, 1, 1, 1, 1, 1, 1], [1, 8, 1, 8, 1, 1,...   \n2    [[[0, 0, 0, 0, 0, 2, 0, 0, 4, 0], [0, 5, 5, 5,...   \n3    [[[0, 0, 0, 0, 0, 0, 0, 0, 0, 0], [0, 1, 0, 1,...   \n4    [[[0, 0, 0, 0, 0, 0, 0, 0, 0, 0, 0, 0, 0, 0, 0...   \n..                                                 ...   \n395  [[[4, 4, 4, 4, 4, 4], [6, 4, 8, 6, 4, 8], [6, ...   \n396                [[[0, 0, 0], [1, 0, 1], [1, 1, 0]]]   \n397  [[[4, 0, 4, 3, 3, 0], [4, 0, 0, 3, 0, 0], [0, ...   \n398  [[[8, 8, 8, 8, 8, 8, 8, 8, 8, 8, 8, 8], [2, 0,...   \n399  [[[0, 0, 0, 0, 0, 0, 0, 0, 0, 0, 0, 0, 0, 0, 0...   \n\n                              problem_example_2_output  \\\n0                  [[[3, 3, 3], [3, 3, 3], [3, 3, 3]]]   \n1                  [[[8, 3, 8], [3, 1, 3], [8, 3, 8]]]   \n2                  [[[1, 2, 4], [1, 2, 4], [1, 2, 4]]]   \n3    [[[0, 0, 0, 0, 0, 0, 0, 0, 0, 0], [0, 1, 2, 1,...   \n4    [[[0, 0, 0, 0, 0, 0, 0, 0, 0, 0, 0, 0, 0, 0, 0...   \n..                                                 ...   \n395                [[[4, 4, 4], [6, 4, 8], [6, 6, 8]]]   \n396  [[[0, 0, 0], [1, 0, 1], [1, 1, 0], [1, 1, 0], ...   \n397                [[[6, 6, 6], [6, 0, 0], [6, 0, 6]]]   \n398  [[[8, 8, 8, 8, 8, 8, 8, 8, 8, 8, 8, 8], [2, 0,...   \n399  [[[0, 0, 0, 0, 0, 0, 0, 0, 0, 0, 0, 0, 0, 0, 0...   \n\n                               problem_example_3_input  \\\n0                  [[[5, 0, 0], [0, 5, 0], [5, 0, 0]]]   \n1    [[[4, 4, 4, 4, 4, 4, 4, 4, 4, 4, 4, 4, 4, 4], ...   \n2    [[[0, 0, 0, 0, 0, 0, 0, 0, 0, 0, 0, 0], [2, 2,...   \n3    [[[0, 0, 0, 0, 0, 0, 0, 0, 0, 0], [0, 0, 0, 0,...   \n4    [[[0, 0, 0, 0, 0, 0, 0, 0, 0, 0, 0, 0, 0, 0, 0...   \n..                                                 ...   \n395  [[[2, 3], [3, 2], [4, 4], [2, 3], [3, 2], [4, ...   \n396                [[[0, 0, 0], [0, 0, 1], [0, 0, 1]]]   \n397  [[[0, 0, 4, 0, 3, 0], [0, 4, 4, 3, 0, 3], [4, ...   \n398  [[[8, 8, 8, 8, 8, 8, 8, 8, 8, 2], [8, 8, 8, 0,...   \n399  [[[0, 0, 0, 0, 0, 0, 0, 0, 0, 0, 0, 0, 0, 0, 0...   \n\n                              problem_example_3_output  \\\n0                  [[[2, 2, 2], [4, 4, 4], [2, 2, 2]]]   \n1    [[[1, 4, 7, 4, 1], [4, 4, 4, 4, 4], [7, 4, 4, ...   \n2    [[[2, 2, 2, 2], [8, 8, 8, 8], [4, 4, 4, 4], [1...   \n3    [[[0, 0, 0, 0, 0, 0, 0, 0, 0, 0], [0, 0, 0, 0,...   \n4    [[[3, 3, 3, 3, 3, 3, 3, 3, 3, 3, 3, 3, 3, 3, 3...   \n..                                                 ...   \n395                         [[[2, 3], [3, 2], [4, 4]]]   \n396  [[[0, 0, 0], [0, 0, 1], [0, 0, 1], [0, 0, 1], ...   \n397                [[[0, 6, 6], [6, 6, 6], [6, 6, 6]]]   \n398  [[[8, 8, 8, 8, 8, 8, 8, 8, 8, 2], [8, 8, 8, 3,...   \n399  [[[0, 0, 0, 0, 0, 0, 0, 0, 0, 0, 0, 0, 0, 0, 0...   \n\n                               problem_example_4_input  \\\n0                  [[[0, 5, 0], [0, 0, 5], [0, 5, 0]]]   \n1                                                 [[]]   \n2                                                 [[]]   \n3                                                 [[]]   \n4                                                 [[]]   \n..                                                 ...   \n395                                               [[]]   \n396                                               [[]]   \n397  [[[4, 4, 0, 3, 0, 0], [0, 0, 0, 0, 0, 3], [4, ...   \n398                                               [[]]   \n399                                               [[]]   \n\n                problem_example_4_output  \\\n0    [[[4, 4, 4], [3, 3, 3], [4, 4, 4]]]   \n1                                   [[]]   \n2                                   [[]]   \n3                                   [[]]   \n4                                   [[]]   \n..                                   ...   \n395                                 [[]]   \n396                                 [[]]   \n397  [[[6, 6, 0], [0, 0, 6], [6, 0, 0]]]   \n398                                 [[]]   \n399                                 [[]]   \n\n                                    problem_test_input  \\\n0                  [[[0, 0, 5], [5, 0, 0], [0, 5, 0]]]   \n1    [[[8, 8, 8, 8, 8, 8, 8, 8, 8, 8, 8, 8, 8, 8, 8...   \n2    [[[2, 2, 2, 2, 2, 2, 2, 0, 0, 0, 0, 0, 0, 0, 0...   \n3    [[[0, 1, 0, 1, 0, 0, 0, 0, 0, 0], [0, 0, 0, 0,...   \n4    [[[0, 0, 0, 0, 0, 0, 0, 0, 0, 0, 0, 0, 0, 0, 0...   \n..                                                 ...   \n395  [[[5, 4, 5], [4, 5, 4], [6, 6, 4], [2, 6, 2], ...   \n396                [[[0, 0, 0], [0, 0, 1], [1, 0, 0]]]   \n397  [[[0, 4, 4, 3, 0, 0], [4, 0, 0, 3, 3, 0], [0, ...   \n398  [[[8, 8, 8, 8, 8, 8, 8, 8, 8, 8, 8, 8, 8, 8], ...   \n399  [[[0, 0, 0, 0, 0, 0, 0, 0, 0, 0, 0, 0, 0, 0, 0...   \n\n                                   problem_test_output  \n0                  [[[3, 3, 3], [2, 2, 2], [4, 4, 4]]]  \n1    [[[3, 8, 6, 1, 6, 8, 3], [8, 8, 8, 8, 8, 8, 8]...  \n2    [[[2, 2, 2, 2, 2, 2, 2], [3, 3, 3, 3, 3, 3, 3]...  \n3    [[[0, 1, 2, 1, 0, 0, 0, 0, 0, 0], [0, 0, 0, 0,...  \n4    [[[4, 4, 4, 4, 4, 4, 4, 4, 4, 4, 4, 4, 4, 4, 4...  \n..                                                 ...  \n395     [[[5, 4, 5], [4, 5, 4], [6, 6, 4], [2, 6, 2]]]  \n396  [[[0, 0, 0], [0, 0, 1], [1, 0, 0], [1, 0, 0], ...  \n397                [[[6, 6, 6], [6, 6, 0], [6, 6, 0]]]  \n398  [[[8, 8, 8, 8, 8, 8, 8, 8, 8, 8, 8, 8, 8, 8], ...  \n399  [[[0, 0, 0, 0, 0, 0, 0, 0, 0, 0, 0, 0, 0, 0, 0...  \n\n[400 rows x 11 columns]",
      "text/html": "<div>\n<style scoped>\n    .dataframe tbody tr th:only-of-type {\n        vertical-align: middle;\n    }\n\n    .dataframe tbody tr th {\n        vertical-align: top;\n    }\n\n    .dataframe thead th {\n        text-align: right;\n    }\n</style>\n<table border=\"1\" class=\"dataframe\">\n  <thead>\n    <tr style=\"text-align: right;\">\n      <th></th>\n      <th>problem_id</th>\n      <th>problem_example_1_input</th>\n      <th>problem_example_1_output</th>\n      <th>problem_example_2_input</th>\n      <th>problem_example_2_output</th>\n      <th>problem_example_3_input</th>\n      <th>problem_example_3_output</th>\n      <th>problem_example_4_input</th>\n      <th>problem_example_4_output</th>\n      <th>problem_test_input</th>\n      <th>problem_test_output</th>\n    </tr>\n  </thead>\n  <tbody>\n    <tr>\n      <th>0</th>\n      <td>a85d4709.json</td>\n      <td>[[[0, 0, 5], [0, 5, 0], [5, 0, 0]]]</td>\n      <td>[[[3, 3, 3], [4, 4, 4], [2, 2, 2]]]</td>\n      <td>[[[0, 0, 5], [0, 0, 5], [0, 0, 5]]]</td>\n      <td>[[[3, 3, 3], [3, 3, 3], [3, 3, 3]]]</td>\n      <td>[[[5, 0, 0], [0, 5, 0], [5, 0, 0]]]</td>\n      <td>[[[2, 2, 2], [4, 4, 4], [2, 2, 2]]]</td>\n      <td>[[[0, 5, 0], [0, 0, 5], [0, 5, 0]]]</td>\n      <td>[[[4, 4, 4], [3, 3, 3], [4, 4, 4]]]</td>\n      <td>[[[0, 0, 5], [5, 0, 0], [0, 5, 0]]]</td>\n      <td>[[[3, 3, 3], [2, 2, 2], [4, 4, 4]]]</td>\n    </tr>\n    <tr>\n      <th>1</th>\n      <td>c8cbb738.json</td>\n      <td>[[[3, 3, 3, 3, 3, 3, 3, 4, 3, 4, 3], [3, 3, 3,...</td>\n      <td>[[[2, 4, 1, 4, 2], [8, 3, 3, 3, 8], [1, 3, 3, ...</td>\n      <td>[[[1, 1, 1, 1, 1, 1, 1, 1], [1, 8, 1, 8, 1, 1,...</td>\n      <td>[[[8, 3, 8], [3, 1, 3], [8, 3, 8]]]</td>\n      <td>[[[4, 4, 4, 4, 4, 4, 4, 4, 4, 4, 4, 4, 4, 4], ...</td>\n      <td>[[[1, 4, 7, 4, 1], [4, 4, 4, 4, 4], [7, 4, 4, ...</td>\n      <td>[[]]</td>\n      <td>[[]]</td>\n      <td>[[[8, 8, 8, 8, 8, 8, 8, 8, 8, 8, 8, 8, 8, 8, 8...</td>\n      <td>[[[3, 8, 6, 1, 6, 8, 3], [8, 8, 8, 8, 8, 8, 8]...</td>\n    </tr>\n    <tr>\n      <th>2</th>\n      <td>8e1813be.json</td>\n      <td>[[[0, 0, 0, 0, 0, 0, 0, 0, 0, 0, 0, 0, 0, 0, 0...</td>\n      <td>[[[2, 2, 2, 2, 2, 2], [1, 1, 1, 1, 1, 1], [3, ...</td>\n      <td>[[[0, 0, 0, 0, 0, 2, 0, 0, 4, 0], [0, 5, 5, 5,...</td>\n      <td>[[[1, 2, 4], [1, 2, 4], [1, 2, 4]]]</td>\n      <td>[[[0, 0, 0, 0, 0, 0, 0, 0, 0, 0, 0, 0], [2, 2,...</td>\n      <td>[[[2, 2, 2, 2], [8, 8, 8, 8], [4, 4, 4, 4], [1...</td>\n      <td>[[]]</td>\n      <td>[[]]</td>\n      <td>[[[2, 2, 2, 2, 2, 2, 2, 0, 0, 0, 0, 0, 0, 0, 0...</td>\n      <td>[[[2, 2, 2, 2, 2, 2, 2], [3, 3, 3, 3, 3, 3, 3]...</td>\n    </tr>\n    <tr>\n      <th>3</th>\n      <td>a699fb00.json</td>\n      <td>[[[1, 0, 1, 0, 0], [0, 0, 0, 0, 0], [0, 0, 0, ...</td>\n      <td>[[[1, 2, 1, 0, 0], [0, 0, 0, 0, 0], [0, 0, 0, ...</td>\n      <td>[[[0, 0, 0, 0, 0, 0, 0, 0, 0, 0], [0, 1, 0, 1,...</td>\n      <td>[[[0, 0, 0, 0, 0, 0, 0, 0, 0, 0], [0, 1, 2, 1,...</td>\n      <td>[[[0, 0, 0, 0, 0, 0, 0, 0, 0, 0], [0, 0, 0, 0,...</td>\n      <td>[[[0, 0, 0, 0, 0, 0, 0, 0, 0, 0], [0, 0, 0, 0,...</td>\n      <td>[[]]</td>\n      <td>[[]]</td>\n      <td>[[[0, 1, 0, 1, 0, 0, 0, 0, 0, 0], [0, 0, 0, 0,...</td>\n      <td>[[[0, 1, 2, 1, 0, 0, 0, 0, 0, 0], [0, 0, 0, 0,...</td>\n    </tr>\n    <tr>\n      <th>4</th>\n      <td>5c2c9af4.json</td>\n      <td>[[[0, 0, 0, 0, 0, 0, 0, 0, 0, 0, 0, 0, 0, 0, 0...</td>\n      <td>[[[0, 0, 8, 0, 0, 8, 0, 0, 8, 0, 0, 0, 0, 0, 0...</td>\n      <td>[[[0, 0, 0, 0, 0, 0, 0, 0, 0, 0, 0, 0, 0, 0, 0...</td>\n      <td>[[[0, 0, 0, 0, 0, 0, 0, 0, 0, 0, 0, 0, 0, 0, 0...</td>\n      <td>[[[0, 0, 0, 0, 0, 0, 0, 0, 0, 0, 0, 0, 0, 0, 0...</td>\n      <td>[[[3, 3, 3, 3, 3, 3, 3, 3, 3, 3, 3, 3, 3, 3, 3...</td>\n      <td>[[]]</td>\n      <td>[[]]</td>\n      <td>[[[0, 0, 0, 0, 0, 0, 0, 0, 0, 0, 0, 0, 0, 0, 0...</td>\n      <td>[[[4, 4, 4, 4, 4, 4, 4, 4, 4, 4, 4, 4, 4, 4, 4...</td>\n    </tr>\n    <tr>\n      <th>...</th>\n      <td>...</td>\n      <td>...</td>\n      <td>...</td>\n      <td>...</td>\n      <td>...</td>\n      <td>...</td>\n      <td>...</td>\n      <td>...</td>\n      <td>...</td>\n      <td>...</td>\n      <td>...</td>\n    </tr>\n    <tr>\n      <th>395</th>\n      <td>7b7f7511.json</td>\n      <td>[[[1, 1, 3, 2, 1, 1, 3, 2], [1, 1, 3, 3, 1, 1,...</td>\n      <td>[[[1, 1, 3, 2], [1, 1, 3, 3], [3, 3, 1, 1], [2...</td>\n      <td>[[[4, 4, 4, 4, 4, 4], [6, 4, 8, 6, 4, 8], [6, ...</td>\n      <td>[[[4, 4, 4], [6, 4, 8], [6, 6, 8]]]</td>\n      <td>[[[2, 3], [3, 2], [4, 4], [2, 3], [3, 2], [4, ...</td>\n      <td>[[[2, 3], [3, 2], [4, 4]]]</td>\n      <td>[[]]</td>\n      <td>[[]]</td>\n      <td>[[[5, 4, 5], [4, 5, 4], [6, 6, 4], [2, 6, 2], ...</td>\n      <td>[[[5, 4, 5], [4, 5, 4], [6, 6, 4], [2, 6, 2]]]</td>\n    </tr>\n    <tr>\n      <th>396</th>\n      <td>8be77c9e.json</td>\n      <td>[[[1, 1, 0], [1, 1, 1], [0, 0, 0]]]</td>\n      <td>[[[1, 1, 0], [1, 1, 1], [0, 0, 0], [0, 0, 0], ...</td>\n      <td>[[[0, 0, 0], [1, 0, 1], [1, 1, 0]]]</td>\n      <td>[[[0, 0, 0], [1, 0, 1], [1, 1, 0], [1, 1, 0], ...</td>\n      <td>[[[0, 0, 0], [0, 0, 1], [0, 0, 1]]]</td>\n      <td>[[[0, 0, 0], [0, 0, 1], [0, 0, 1], [0, 0, 1], ...</td>\n      <td>[[]]</td>\n      <td>[[]]</td>\n      <td>[[[0, 0, 0], [0, 0, 1], [1, 0, 0]]]</td>\n      <td>[[[0, 0, 0], [0, 0, 1], [1, 0, 0], [1, 0, 0], ...</td>\n    </tr>\n    <tr>\n      <th>397</th>\n      <td>dae9d2b5.json</td>\n      <td>[[[4, 4, 0, 3, 3, 0], [4, 0, 0, 3, 0, 0], [0, ...</td>\n      <td>[[[6, 6, 0], [6, 0, 0], [0, 0, 6]]]</td>\n      <td>[[[4, 0, 4, 3, 3, 0], [4, 0, 0, 3, 0, 0], [0, ...</td>\n      <td>[[[6, 6, 6], [6, 0, 0], [6, 0, 6]]]</td>\n      <td>[[[0, 0, 4, 0, 3, 0], [0, 4, 4, 3, 0, 3], [4, ...</td>\n      <td>[[[0, 6, 6], [6, 6, 6], [6, 6, 6]]]</td>\n      <td>[[[4, 4, 0, 3, 0, 0], [0, 0, 0, 0, 0, 3], [4, ...</td>\n      <td>[[[6, 6, 0], [0, 0, 6], [6, 0, 0]]]</td>\n      <td>[[[0, 4, 4, 3, 0, 0], [4, 0, 0, 3, 3, 0], [0, ...</td>\n      <td>[[[6, 6, 6], [6, 6, 0], [6, 6, 0]]]</td>\n    </tr>\n    <tr>\n      <th>398</th>\n      <td>2bee17df.json</td>\n      <td>[[[2, 2, 2, 2, 2, 2, 2, 2, 2, 2, 2, 2], [8, 0,...</td>\n      <td>[[[2, 2, 2, 2, 2, 2, 2, 2, 2, 2, 2, 2], [8, 0,...</td>\n      <td>[[[8, 8, 8, 8, 8, 8, 8, 8, 8, 8, 8, 8], [2, 0,...</td>\n      <td>[[[8, 8, 8, 8, 8, 8, 8, 8, 8, 8, 8, 8], [2, 0,...</td>\n      <td>[[[8, 8, 8, 8, 8, 8, 8, 8, 8, 2], [8, 8, 8, 0,...</td>\n      <td>[[[8, 8, 8, 8, 8, 8, 8, 8, 8, 2], [8, 8, 8, 3,...</td>\n      <td>[[]]</td>\n      <td>[[]]</td>\n      <td>[[[8, 8, 8, 8, 8, 8, 8, 8, 8, 8, 8, 8, 8, 8], ...</td>\n      <td>[[[8, 8, 8, 8, 8, 8, 8, 8, 8, 8, 8, 8, 8, 8], ...</td>\n    </tr>\n    <tr>\n      <th>399</th>\n      <td>98cf29f8.json</td>\n      <td>[[[0, 0, 0, 0, 0, 0, 0, 0, 0, 0, 0, 0, 0, 0], ...</td>\n      <td>[[[0, 0, 0, 0, 0, 0, 0, 0, 0, 0, 0, 0, 0, 0], ...</td>\n      <td>[[[0, 0, 0, 0, 0, 0, 0, 0, 0, 0, 0, 0, 0, 0, 0...</td>\n      <td>[[[0, 0, 0, 0, 0, 0, 0, 0, 0, 0, 0, 0, 0, 0, 0...</td>\n      <td>[[[0, 0, 0, 0, 0, 0, 0, 0, 0, 0, 0, 0, 0, 0, 0...</td>\n      <td>[[[0, 0, 0, 0, 0, 0, 0, 0, 0, 0, 0, 0, 0, 0, 0...</td>\n      <td>[[]]</td>\n      <td>[[]]</td>\n      <td>[[[0, 0, 0, 0, 0, 0, 0, 0, 0, 0, 0, 0, 0, 0, 0...</td>\n      <td>[[[0, 0, 0, 0, 0, 0, 0, 0, 0, 0, 0, 0, 0, 0, 0...</td>\n    </tr>\n  </tbody>\n</table>\n<p>400 rows × 11 columns</p>\n</div>"
     },
     "execution_count": 65,
     "metadata": {},
     "output_type": "execute_result"
    }
   ],
   "source": [
    "arc_train = pd.concat(bunch_of_series, axis=1).T\n",
    "arc_train"
   ],
   "metadata": {
    "collapsed": false,
    "ExecuteTime": {
     "end_time": "2024-09-18T00:34:58.209709Z",
     "start_time": "2024-09-18T00:34:58.156569Z"
    }
   },
   "id": "4a3b614970bb1201"
  },
  {
   "cell_type": "code",
   "execution_count": 71,
   "outputs": [],
   "source": [
    "from datasets import Dataset\n",
    "\n",
    "arc_train_hf = Dataset.from_pandas(arc_train)"
   ],
   "metadata": {
    "collapsed": false,
    "ExecuteTime": {
     "end_time": "2024-09-18T00:44:17.117211Z",
     "start_time": "2024-09-18T00:44:17.095303Z"
    }
   },
   "id": "76b202b7378fd1c"
  },
  {
   "cell_type": "markdown",
   "source": [
    "Things I have done so far:\n",
    "1. Downloaded the ARC prize benchmark\n",
    "2. Played around with it; I understand the data structure better now\n",
    "3. Load the model and basic code\n",
    "4. Convert the json training files to a dataframe\n",
    "5. **The plan**\n",
    "  - Tokenize the dataset\n",
    "  - Finetune the model weights based on the tokenized dataset\n",
    "  - Test the finetuned model on the evaluation set\n",
    "\n",
    "(So, I couldn't do this in an hour, but am confident that I can do this in two more \n",
    "hours) "
   ],
   "metadata": {
    "collapsed": false
   },
   "id": "7fe37279afc0a137"
  },
  {
   "cell_type": "code",
   "execution_count": 73,
   "outputs": [
    {
     "name": "stdout",
     "output_type": "stream",
     "text": [
      "2024-09-17 17:44:29.061345\n"
     ]
    }
   ],
   "source": [
    "# CHECKPOINT \n",
    "import datetime\n",
    "print(datetime.datetime.now())"
   ],
   "metadata": {
    "collapsed": false,
    "ExecuteTime": {
     "end_time": "2024-09-18T00:44:29.065853Z",
     "start_time": "2024-09-18T00:44:29.061859Z"
    }
   },
   "id": "a6b1554cd878fd1e"
  },
  {
   "cell_type": "code",
   "execution_count": null,
   "outputs": [],
   "source": [],
   "metadata": {
    "collapsed": false
   },
   "id": "6e0631d956e38bc6"
  }
 ],
 "metadata": {
  "kernelspec": {
   "display_name": "Python 3",
   "language": "python",
   "name": "python3"
  },
  "language_info": {
   "codemirror_mode": {
    "name": "ipython",
    "version": 2
   },
   "file_extension": ".py",
   "mimetype": "text/x-python",
   "name": "python",
   "nbconvert_exporter": "python",
   "pygments_lexer": "ipython2",
   "version": "2.7.6"
  }
 },
 "nbformat": 4,
 "nbformat_minor": 5
}
